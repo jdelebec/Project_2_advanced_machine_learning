{
  "nbformat": 4,
  "nbformat_minor": 0,
  "metadata": {
    "colab": {
      "name": "Project2_Advanced_machine_learning.ipynb",
      "provenance": [],
      "collapsed_sections": [],
      "authorship_tag": "ABX9TyPD7CZS0PBR57FnkIWZGZ06",
      "include_colab_link": true
    },
    "kernelspec": {
      "name": "python3",
      "display_name": "Python 3"
    }
  },
  "cells": [
    {
      "cell_type": "markdown",
      "metadata": {
        "id": "view-in-github",
        "colab_type": "text"
      },
      "source": [
        "<a href=\"https://colab.research.google.com/github/jdelebec/Project_2_advanced_machine_learning/blob/main/Project2_Advanced_machine_learning.ipynb\" target=\"_parent\"><img src=\"https://colab.research.google.com/assets/colab-badge.svg\" alt=\"Open In Colab\"/></a>"
      ]
    },
    {
      "cell_type": "markdown",
      "metadata": {
        "id": "IXnH7XNKEkse"
      },
      "source": [
        "#Projet Advanced Machine Learning: Text synthesis\r\n",
        "Simon Hervé  \r\n",
        "Jean-Louis Delebecque  \r\n",
        "Lien du github: \r\n"
      ]
    },
    {
      "cell_type": "code",
      "metadata": {
        "colab": {
          "base_uri": "https://localhost:8080/"
        },
        "id": "5qEyzLS2CApC",
        "outputId": "0b1fd8cb-3b4f-4088-d540-40d24355eefa"
      },
      "source": [
        "from google.colab import drive\r\n",
        "drive.mount('/content/drive')"
      ],
      "execution_count": 18,
      "outputs": [
        {
          "output_type": "stream",
          "text": [
            "Drive already mounted at /content/drive; to attempt to forcibly remount, call drive.mount(\"/content/drive\", force_remount=True).\n"
          ],
          "name": "stdout"
        }
      ]
    },
    {
      "cell_type": "markdown",
      "metadata": {
        "id": "Lt6DGqeGErXY"
      },
      "source": [
        "##  1) Extraction des textes\r\n",
        "\r\n",
        "On utilise la librairie Beautifulsoup pour extraire les données des XML."
      ]
    },
    {
      "cell_type": "code",
      "metadata": {
        "id": "k92na-EcCOUS"
      },
      "source": [
        "# Packages for extracting data\r\n",
        "\r\n",
        "import bs4\r\n",
        "from bs4 import BeautifulSoup as bs\r\n",
        "import lxml\r\n",
        "import pandas as pd\r\n",
        "import numpy as np"
      ],
      "execution_count": 19,
      "outputs": []
    },
    {
      "cell_type": "markdown",
      "metadata": {
        "id": "uqQKlRa-EvBx"
      },
      "source": [
        "Afin de pouvoir travailler à deux sur le projet nous avons fait un google collabs partagé, d'ou la présence de deux path\r\n"
      ]
    },
    {
      "cell_type": "code",
      "metadata": {
        "id": "C3JkbRE2CQPB"
      },
      "source": [
        "simon_path = \"/content/drive/MyDrive/ESILV S9/Advanced machine learning/corpus_taln_v1.tei.xml\"\r\n",
        "jl_path = \"/content/drive/MyDrive/Advanced_ml/corpus_taln_v1.tei.xml\""
      ],
      "execution_count": 20,
      "outputs": []
    },
    {
      "cell_type": "code",
      "metadata": {
        "id": "HwTmNhZUCWzJ"
      },
      "source": [
        "#Pour JL\r\n",
        "content = []\r\n",
        "with open(jl_path, \"r\") as file:\r\n",
        "  content = file.readlines()\r\n",
        "  content = \"\".join(content)\r\n",
        "  soup = bs(content, \"lxml\")"
      ],
      "execution_count": 21,
      "outputs": []
    },
    {
      "cell_type": "code",
      "metadata": {
        "id": "Ryaa4-LbCW57"
      },
      "source": [
        "#Pour Simon\r\n",
        "content = []\r\n",
        "with open(simon_path, \"r\") as file:\r\n",
        "  content = file.readlines()\r\n",
        "  content = \"\".join(content)\r\n",
        "  soup = bs(content, \"lxml\")"
      ],
      "execution_count": null,
      "outputs": []
    },
    {
      "cell_type": "markdown",
      "metadata": {
        "id": "uwov2algE2rT"
      },
      "source": [
        "La stratégie d'extraction des données est d'appliquer la fonction get_text() à chaque balise dans le corpus_taln_v1.tei.xml. La function va extraire le titre de la publication, le nom du ou des auteurs quand il y en a, l'email du ou des auteurs si il y en a. De plus, elle récupère les abstract en français et en anglais ainsi que les mots clés en français et en anglais. Pour la partie text, la fonction compile tous les textes en une partie."
      ]
    },
    {
      "cell_type": "code",
      "metadata": {
        "id": "uBRPa2sJCaZB"
      },
      "source": [
        "def get_text(soup):\r\n",
        "\r\n",
        "  dic = {}\r\n",
        "\r\n",
        "  #================================================================\r\n",
        "  language = soup.fin\r\n",
        "  title = soup.find(\"title\").get_text().replace(\"\\n\\t\", \"\")\r\n",
        "  author = soup.find(\"author\")\r\n",
        "  author_names = author.find_all(\"name\")\r\n",
        "  tab_name = []\r\n",
        "  for name in author_names:\r\n",
        "    tab_name.append(name.get_text())\r\n",
        "  publication_place = soup.find(\"pubplace\").get_text()\r\n",
        "  publication_date = soup.find(\"publicationstmt\").find(\"date\").get_text()\r\n",
        "  editor_name = soup.find(\"editor\").find(\"name\").get_text()\r\n",
        "  monogr_title = soup.find(\"monogr\").find(\"title\").get_text()\r\n",
        "  monogr_date = soup.find(\"monogr\").find(\"date\").get_text()\r\n",
        "  abstract = soup.find(\"text\").find_all(\"div\", {\"type\": \"abstract\"})\r\n",
        "  abstract_fr = abstract[0].find(\"p\").get_text().replace(\"\\n\\t\", \"\")\r\n",
        "  abstract_eng = abstract[1].find(\"p\").get_text().replace(\"\\n\\t\", \"\")\r\n",
        "  keywords = soup.find(\"text\").find_all(\"div\", {\"type\": \"keywords\"})\r\n",
        "  keywords_fr = keywords[0].find(\"p\").get_text().replace(\"\\n\\t\", \"\")\r\n",
        "  keywords_eng = keywords[1].find(\"p\").get_text().replace(\"\\n\\t\", \"\")\r\n",
        "  sections = soup.find_all(\"div\", {\"type\": \"section\"})\r\n",
        "  tab = []\r\n",
        "\r\n",
        "  #============================================================\r\n",
        "\r\n",
        "  # Introduction - Sections - Conclusion\r\n",
        "  sections = soup.find_all(\"div\", {\"type\": \"section\"})\r\n",
        "  for section in sections:\r\n",
        "    # title section\r\n",
        "    try:\r\n",
        "      title_sec = section.get_text().split(\"\\n\")[2]\r\n",
        "      tab.append(title_sec)\r\n",
        "    except:\r\n",
        "      pass\r\n",
        "    # paragraph section\r\n",
        "    try:\r\n",
        "      parag_sec = section.find(\"p\").get_text().replace(\"\\n\\t\", \"\")\r\n",
        "      tab.append(parag_sec)\r\n",
        "    except:\r\n",
        "      pass\r\n",
        "    # Subsection\r\n",
        "    try:\r\n",
        "      subsections = section.find_all(\"div\", {\"type\": \"subsection\"})\r\n",
        "      for sub in subsections:\r\n",
        "        # title subsection\r\n",
        "        title_sub = sub.get_text().split(\"\\n\")[2]\r\n",
        "        tab.append(title_sub)\r\n",
        "      \r\n",
        "        # paragraphs subsection\r\n",
        "        paragraphs = sub.find_all(\"p\")\r\n",
        "        for parag in paragraphs:\r\n",
        "          tab.append(parag.get_text().replace(\"\\n\\t\", \"\"))\r\n",
        "        \r\n",
        "        # sub note\r\n",
        "        try:\r\n",
        "          notes = sub.find_all(\"note\")\r\n",
        "          for note in notes:\r\n",
        "            tab.append(note.get_text())\r\n",
        "        except:\r\n",
        "          pass\r\n",
        "    \r\n",
        "    except:\r\n",
        "      pass\r\n",
        "    \r\n",
        "    # note\r\n",
        "    try:\r\n",
        "      notes = section.find_all(\"note\")\r\n",
        "      for note in notes:\r\n",
        "        tab.append(note.get_text())\r\n",
        "    except:\r\n",
        "      pass\r\n",
        "\r\n",
        "\r\n",
        "  # Bibl\r\n",
        "\r\n",
        "  try:\r\n",
        "    bibl = soup.find(\"bibl\").get_text()\r\n",
        "    tab.append(bibl)\r\n",
        "  except:\r\n",
        "    pass\r\n",
        "\r\n",
        "  #===============================================================\r\n",
        "\r\n",
        "  dic[\"title\"] = title\r\n",
        "  dic[\"author_name\"] =  \",\".join(str(elem) for elem in tab_name)\r\n",
        "  try:\r\n",
        "    tab_email = []\r\n",
        "    author_emails = author.find_all(\"email\")\r\n",
        "    for email in author_emails:\r\n",
        "      tab_email.append(email.get_text().replace(\"\\n\", \"\"))\r\n",
        "    dic[\"author_email\"] =  \",\".join(str(elem) for elem in tab_email)\r\n",
        "  except:\r\n",
        "    dic[\"author_email\"] = None\r\n",
        "  dic[\"publication_place\"] = publication_place\r\n",
        "  dic[\"publication_date\"] = publication_date\r\n",
        "  dic[\"editor_name\"] = editor_name\r\n",
        "  dic[\"monogr_title\"] = monogr_title\r\n",
        "  dic[\"monogr_date\"] = monogr_date\r\n",
        "  dic[\"abstract_fr\"] = abstract_fr\r\n",
        "  dic[\"abstract_eng\"] = abstract_eng\r\n",
        "  dic[\"keywords_fr\"] = keywords_fr\r\n",
        "  dic[\"keywords_eng\"] = keywords_eng\r\n",
        "  dic[\"text\"] = \" \".join(str(elem) for elem in tab)\r\n",
        "\r\n",
        "  #>\r\n",
        "  return dic\r\n"
      ],
      "execution_count": 22,
      "outputs": []
    },
    {
      "cell_type": "code",
      "metadata": {
        "id": "W83fQwq4CjPR"
      },
      "source": [
        "corpus = []\r\n",
        "texts = soup.find_all(\"tei\")\r\n",
        "for text in texts:\r\n",
        "  corpus.append(get_text(text))"
      ],
      "execution_count": 323,
      "outputs": []
    },
    {
      "cell_type": "markdown",
      "metadata": {
        "id": "n0h__STKE71s"
      },
      "source": [
        "On transforme ensuite le tableau de dictionnaires contenant les données en un dataframe grâce à la fonction DataFrame de la librairie pandas."
      ]
    },
    {
      "cell_type": "code",
      "metadata": {
        "id": "aPlag3yyCnJh"
      },
      "source": [
        "df = pd.DataFrame(corpus)"
      ],
      "execution_count": 324,
      "outputs": []
    },
    {
      "cell_type": "code",
      "metadata": {
        "colab": {
          "base_uri": "https://localhost:8080/",
          "height": 551
        },
        "id": "Qul7EjgICpL-",
        "outputId": "7616a343-8a30-440a-ac4f-da81d45bdacd"
      },
      "source": [
        "df.head()"
      ],
      "execution_count": 325,
      "outputs": [
        {
          "output_type": "execute_result",
          "data": {
            "text/html": [
              "<div>\n",
              "<style scoped>\n",
              "    .dataframe tbody tr th:only-of-type {\n",
              "        vertical-align: middle;\n",
              "    }\n",
              "\n",
              "    .dataframe tbody tr th {\n",
              "        vertical-align: top;\n",
              "    }\n",
              "\n",
              "    .dataframe thead th {\n",
              "        text-align: right;\n",
              "    }\n",
              "</style>\n",
              "<table border=\"1\" class=\"dataframe\">\n",
              "  <thead>\n",
              "    <tr style=\"text-align: right;\">\n",
              "      <th></th>\n",
              "      <th>title</th>\n",
              "      <th>author_name</th>\n",
              "      <th>author_email</th>\n",
              "      <th>publication_place</th>\n",
              "      <th>publication_date</th>\n",
              "      <th>editor_name</th>\n",
              "      <th>monogr_title</th>\n",
              "      <th>monogr_date</th>\n",
              "      <th>abstract_fr</th>\n",
              "      <th>abstract_eng</th>\n",
              "      <th>keywords_fr</th>\n",
              "      <th>keywords_eng</th>\n",
              "      <th>text</th>\n",
              "    </tr>\n",
              "  </thead>\n",
              "  <tbody>\n",
              "    <tr>\n",
              "      <th>0</th>\n",
              "      <td>\\nÉléments de conception d'un système d'interp...</td>\n",
              "      <td>Delphine Battistelli,Cyril Valliez</td>\n",
              "      <td>battiste@msh-paris.fr,valliez@msh-paris.fr</td>\n",
              "      <td>Grenoble</td>\n",
              "      <td>1997</td>\n",
              "      <td>Damien Genthial</td>\n",
              "      <td>4e conférence sur le Traitement Automatique de...</td>\n",
              "      <td>1997</td>\n",
              "      <td>\\nNous considérons dans notre travail la tâche...</td>\n",
              "      <td>None</td>\n",
              "      <td>None</td>\n",
              "      <td>None</td>\n",
              "      <td>Architecture globale du système \\nLe modèle de...</td>\n",
              "    </tr>\n",
              "    <tr>\n",
              "      <th>1</th>\n",
              "      <td>\\nInformatisation du dictionnaire explicatif e...</td>\n",
              "      <td>Gilles Sérasset</td>\n",
              "      <td>Gilles.Serasset@imag.fr</td>\n",
              "      <td>Grenoble</td>\n",
              "      <td>1997</td>\n",
              "      <td>Damien Genthial</td>\n",
              "      <td>4e conférence sur le Traitement Automatique de...</td>\n",
              "      <td>1997</td>\n",
              "      <td>\\nNous donnons ici un aperçu du logiciel DECID...</td>\n",
              "      <td>None</td>\n",
              "      <td>None</td>\n",
              "      <td>None</td>\n",
              "      <td>Introduction \\nDans le domaine de l'ingénieri...</td>\n",
              "    </tr>\n",
              "    <tr>\n",
              "      <th>2</th>\n",
              "      <td>\\nConstruction d'une représentation sémantique...</td>\n",
              "      <td>Pierre Zweigenbaum,Jacques Bouaud</td>\n",
              "      <td>pz@biomath.jussieu.fr,jb@biomath.jussieu.fr</td>\n",
              "      <td>Grenoble</td>\n",
              "      <td>1997</td>\n",
              "      <td>Damien Genthial</td>\n",
              "      <td>4e conférence sur le Traitement Automatique de...</td>\n",
              "      <td>1997</td>\n",
              "      <td>\\nDiverses méthodes ont été proposées pour con...</td>\n",
              "      <td>None</td>\n",
              "      <td>None</td>\n",
              "      <td>None</td>\n",
              "      <td></td>\n",
              "    </tr>\n",
              "    <tr>\n",
              "      <th>3</th>\n",
              "      <td>\\nSystèmes de types pour la (lambda-)DRT ascen...</td>\n",
              "      <td>Pascal Amsili,Nabil Hathout</td>\n",
              "      <td>amsili@linguist.jussieu.fr,hathout@inalf.cnrs.fr</td>\n",
              "      <td>Paris</td>\n",
              "      <td>1998</td>\n",
              "      <td>Pierre Zweigenbaum</td>\n",
              "      <td>5e conférence sur le Traitement Automatique de...</td>\n",
              "      <td>1998</td>\n",
              "      <td>\\nLe terme de lambda-DRT désigne un ensemble d...</td>\n",
              "      <td>None</td>\n",
              "      <td>None</td>\n",
              "      <td>None</td>\n",
              "      <td>Introduction \\nLa « Théorie des Représentation...</td>\n",
              "    </tr>\n",
              "    <tr>\n",
              "      <th>4</th>\n",
              "      <td>\\nUne grammaire TAG vue comme une grammaire Se...</td>\n",
              "      <td>Marie-Hélène Candito,Sylvain Kahane</td>\n",
              "      <td>marie-helene.candito@linguist.jussieu.fr,sk@cc...</td>\n",
              "      <td>Paris</td>\n",
              "      <td>1998</td>\n",
              "      <td>Pierre Zweigenbaum</td>\n",
              "      <td>5e conférence sur le Traitement Automatique de...</td>\n",
              "      <td>1998</td>\n",
              "      <td>\\nDans cet article, nous comparons deux modèle...</td>\n",
              "      <td>None</td>\n",
              "      <td>None</td>\n",
              "      <td>None</td>\n",
              "      <td>Introduction \\nTAG est un formalisme initialem...</td>\n",
              "    </tr>\n",
              "  </tbody>\n",
              "</table>\n",
              "</div>"
            ],
            "text/plain": [
              "                                               title  ...                                               text\n",
              "0  \\nÉléments de conception d'un système d'interp...  ...  Architecture globale du système \\nLe modèle de...\n",
              "1  \\nInformatisation du dictionnaire explicatif e...  ...   Introduction \\nDans le domaine de l'ingénieri...\n",
              "2  \\nConstruction d'une représentation sémantique...  ...                                                   \n",
              "3  \\nSystèmes de types pour la (lambda-)DRT ascen...  ...  Introduction \\nLa « Théorie des Représentation...\n",
              "4  \\nUne grammaire TAG vue comme une grammaire Se...  ...  Introduction \\nTAG est un formalisme initialem...\n",
              "\n",
              "[5 rows x 13 columns]"
            ]
          },
          "metadata": {
            "tags": []
          },
          "execution_count": 325
        }
      ]
    },
    {
      "cell_type": "markdown",
      "metadata": {
        "id": "UWl7kZxIFBWd"
      },
      "source": [
        "On enregistre le dataframe pour l'exporter."
      ]
    },
    {
      "cell_type": "code",
      "metadata": {
        "id": "vyNCywAlFCiO"
      },
      "source": [
        "#Pour Simon\r\n",
        "df.to_csv(\"/content/drive/MyDrive/ESILV S9/Advanced machine learning/corpus.csv\")"
      ],
      "execution_count": null,
      "outputs": []
    },
    {
      "cell_type": "code",
      "metadata": {
        "id": "LAJaijBQFCpO"
      },
      "source": [
        "#Pour JL\r\n",
        "df.to_csv(\"/content/drive/MyDrive/Advanced_ml/corpus.cs\")"
      ],
      "execution_count": 326,
      "outputs": []
    },
    {
      "cell_type": "markdown",
      "metadata": {
        "id": "deGVozqXFN2F"
      },
      "source": [
        "On installe le lemmatizer fr_core_news_sm, mais on pourrait aussi utiliser le fr_core_news_md."
      ]
    },
    {
      "cell_type": "code",
      "metadata": {
        "colab": {
          "base_uri": "https://localhost:8080/"
        },
        "id": "XDxh3GyeFPCs",
        "outputId": "29c0eadc-2d82-454a-d0a2-b849c08a6ff7"
      },
      "source": [
        "!python -m spacy download fr_core_news_sm"
      ],
      "execution_count": 327,
      "outputs": [
        {
          "output_type": "stream",
          "text": [
            "Requirement already satisfied: fr_core_news_sm==2.2.5 from https://github.com/explosion/spacy-models/releases/download/fr_core_news_sm-2.2.5/fr_core_news_sm-2.2.5.tar.gz#egg=fr_core_news_sm==2.2.5 in /usr/local/lib/python3.6/dist-packages (2.2.5)\n",
            "Requirement already satisfied: spacy>=2.2.2 in /usr/local/lib/python3.6/dist-packages (from fr_core_news_sm==2.2.5) (2.2.4)\n",
            "Requirement already satisfied: setuptools in /usr/local/lib/python3.6/dist-packages (from spacy>=2.2.2->fr_core_news_sm==2.2.5) (51.1.1)\n",
            "Requirement already satisfied: blis<0.5.0,>=0.4.0 in /usr/local/lib/python3.6/dist-packages (from spacy>=2.2.2->fr_core_news_sm==2.2.5) (0.4.1)\n",
            "Requirement already satisfied: srsly<1.1.0,>=1.0.2 in /usr/local/lib/python3.6/dist-packages (from spacy>=2.2.2->fr_core_news_sm==2.2.5) (1.0.5)\n",
            "Requirement already satisfied: plac<1.2.0,>=0.9.6 in /usr/local/lib/python3.6/dist-packages (from spacy>=2.2.2->fr_core_news_sm==2.2.5) (1.1.3)\n",
            "Requirement already satisfied: wasabi<1.1.0,>=0.4.0 in /usr/local/lib/python3.6/dist-packages (from spacy>=2.2.2->fr_core_news_sm==2.2.5) (0.8.0)\n",
            "Requirement already satisfied: catalogue<1.1.0,>=0.0.7 in /usr/local/lib/python3.6/dist-packages (from spacy>=2.2.2->fr_core_news_sm==2.2.5) (1.0.0)\n",
            "Requirement already satisfied: requests<3.0.0,>=2.13.0 in /usr/local/lib/python3.6/dist-packages (from spacy>=2.2.2->fr_core_news_sm==2.2.5) (2.23.0)\n",
            "Requirement already satisfied: tqdm<5.0.0,>=4.38.0 in /usr/local/lib/python3.6/dist-packages (from spacy>=2.2.2->fr_core_news_sm==2.2.5) (4.41.1)\n",
            "Requirement already satisfied: cymem<2.1.0,>=2.0.2 in /usr/local/lib/python3.6/dist-packages (from spacy>=2.2.2->fr_core_news_sm==2.2.5) (2.0.5)\n",
            "Requirement already satisfied: preshed<3.1.0,>=3.0.2 in /usr/local/lib/python3.6/dist-packages (from spacy>=2.2.2->fr_core_news_sm==2.2.5) (3.0.5)\n",
            "Requirement already satisfied: thinc==7.4.0 in /usr/local/lib/python3.6/dist-packages (from spacy>=2.2.2->fr_core_news_sm==2.2.5) (7.4.0)\n",
            "Requirement already satisfied: murmurhash<1.1.0,>=0.28.0 in /usr/local/lib/python3.6/dist-packages (from spacy>=2.2.2->fr_core_news_sm==2.2.5) (1.0.5)\n",
            "Requirement already satisfied: numpy>=1.15.0 in /usr/local/lib/python3.6/dist-packages (from spacy>=2.2.2->fr_core_news_sm==2.2.5) (1.19.4)\n",
            "Requirement already satisfied: importlib-metadata>=0.20; python_version < \"3.8\" in /usr/local/lib/python3.6/dist-packages (from catalogue<1.1.0,>=0.0.7->spacy>=2.2.2->fr_core_news_sm==2.2.5) (3.3.0)\n",
            "Requirement already satisfied: urllib3!=1.25.0,!=1.25.1,<1.26,>=1.21.1 in /usr/local/lib/python3.6/dist-packages (from requests<3.0.0,>=2.13.0->spacy>=2.2.2->fr_core_news_sm==2.2.5) (1.24.3)\n",
            "Requirement already satisfied: idna<3,>=2.5 in /usr/local/lib/python3.6/dist-packages (from requests<3.0.0,>=2.13.0->spacy>=2.2.2->fr_core_news_sm==2.2.5) (2.10)\n",
            "Requirement already satisfied: certifi>=2017.4.17 in /usr/local/lib/python3.6/dist-packages (from requests<3.0.0,>=2.13.0->spacy>=2.2.2->fr_core_news_sm==2.2.5) (2020.12.5)\n",
            "Requirement already satisfied: chardet<4,>=3.0.2 in /usr/local/lib/python3.6/dist-packages (from requests<3.0.0,>=2.13.0->spacy>=2.2.2->fr_core_news_sm==2.2.5) (3.0.4)\n",
            "Requirement already satisfied: zipp>=0.5 in /usr/local/lib/python3.6/dist-packages (from importlib-metadata>=0.20; python_version < \"3.8\"->catalogue<1.1.0,>=0.0.7->spacy>=2.2.2->fr_core_news_sm==2.2.5) (3.4.0)\n",
            "Requirement already satisfied: typing-extensions>=3.6.4; python_version < \"3.8\" in /usr/local/lib/python3.6/dist-packages (from importlib-metadata>=0.20; python_version < \"3.8\"->catalogue<1.1.0,>=0.0.7->spacy>=2.2.2->fr_core_news_sm==2.2.5) (3.7.4.3)\n",
            "\u001b[38;5;2m✔ Download and installation successful\u001b[0m\n",
            "You can now load the model via spacy.load('fr_core_news_sm')\n"
          ],
          "name": "stdout"
        }
      ]
    },
    {
      "cell_type": "markdown",
      "metadata": {
        "id": "NrGPZpIxcTN2"
      },
      "source": [
        "## 2) Librairies"
      ]
    },
    {
      "cell_type": "code",
      "metadata": {
        "colab": {
          "base_uri": "https://localhost:8080/"
        },
        "id": "b7pTjP0h7Gb_",
        "outputId": "586cdc6c-c7e3-43e8-ffa4-230c63b13775"
      },
      "source": [
        "# Packages for processing\r\n",
        "import nltk\r\n",
        "from nltk.tokenize import word_tokenize\r\n",
        "from nltk.tokenize import RegexpTokenizer\r\n",
        "nltk.download('punkt')\r\n",
        "nltk.download(\"stopwords\")\r\n",
        "from nltk.corpus import stopwords\r\n",
        "french_stopwords = set(stopwords.words(\"french\"))\r\n",
        "import unicodedata\r\n",
        "import re\r\n",
        "import spacy\r\n",
        "import fr_core_news_sm \r\n",
        "nlp = fr_core_news_sm.load()\r\n",
        "\r\n",
        "#Pour le modeling\r\n",
        "from sklearn.model_selection import train_test_split\r\n",
        "from sklearn.feature_extraction.text import CountVectorizer\r\n",
        "from sklearn.feature_extraction.text import TfidfTransformer\r\n",
        "from sklearn.svm import SVC\r\n",
        "\r\n",
        "# Affichage graphique\r\n",
        "import matplotlib.pyplot as plt\r\n",
        "import seaborn as sns\r\n"
      ],
      "execution_count": 394,
      "outputs": [
        {
          "output_type": "stream",
          "text": [
            "[nltk_data] Downloading package punkt to /root/nltk_data...\n",
            "[nltk_data]   Package punkt is already up-to-date!\n",
            "[nltk_data] Downloading package stopwords to /root/nltk_data...\n",
            "[nltk_data]   Package stopwords is already up-to-date!\n"
          ],
          "name": "stdout"
        }
      ]
    },
    {
      "cell_type": "markdown",
      "metadata": {
        "id": "_KhO04S07KVv"
      },
      "source": [
        "\r\n",
        "## 3) Processing et features engineering\r\n",
        "\r\n",
        "Crée des fonctions qui font le processing classique de texte. Dans notre démarche on va essayer de voir l'incidence du processing sur les résultats. Pour cela on créer plusieurs wrappers où l'ordre d'appel des fonctions est différent. On fait cette démarche car on se rend compte qu'il y a de mauvaises transcriptions après processing avec par exemple issus qui devient i us."
      ]
    },
    {
      "cell_type": "code",
      "metadata": {
        "id": "Mb2tWIohCrFy"
      },
      "source": [
        "# Processing\r\n",
        "\r\n",
        "def remove_accents(text):\r\n",
        "    \r\n",
        "    norm = unicodedata.normalize('NFKD', str(text))\r\n",
        "    ascii = norm.encode('ascii', 'ignore')\r\n",
        "    text = ascii.decode('utf-8', 'ignore')\r\n",
        "    return text\r\n",
        "\r\n",
        "def lower_letters(text):\r\n",
        "    \r\n",
        "    return text.lower()\r\n",
        "\r\n",
        "def drop_slash_n(text):\r\n",
        "    \r\n",
        "    return re.sub(r\"\\n\", \"\", text)\r\n",
        "\r\n",
        "def drop_special_carac(text):\r\n",
        "    \r\n",
        "    return re.sub(r\"[^a-zA-Z\\d\\s]\", \" \", text)\r\n",
        "\r\n",
        "def drop_brackets(text):\r\n",
        "\r\n",
        "    return re.sub(r\"\\[(.*?)\\]\", \"\", text)\r\n",
        "\r\n",
        "def drop_extra_space(text):\r\n",
        "    \r\n",
        "    return re.sub(r\"s{2,}\", \" \", text)\r\n",
        "\r\n",
        "def remove_stop_words(text):\r\n",
        "    \r\n",
        "    text = word_tokenize(text)\r\n",
        "    text = \" \".join([word for word in text if not word in french_stopwords])\r\n",
        "    return text\r\n",
        "\r\n",
        "def lemmatize(text):\r\n",
        "    \r\n",
        "    text = nlp(text)\r\n",
        "    text = \" \".join([word.lemma_ for word in text])\r\n",
        "    return text\r\n",
        "\r\n",
        "def drop_double_space(text):\r\n",
        "    return re.sub(' +', ' ', text)\r\n",
        "\r\n",
        "def drop_single_char(text):\r\n",
        "    return re.sub('(\\\\b[A-Za-z] \\\\b|\\\\b [A-Za-z]\\\\b)', '', text)\r\n",
        "\r\n",
        "# =============================================================================\r\n",
        "\r\n",
        "# Wrapper \r\n",
        "\r\n",
        "def processing1(text):\r\n",
        "    \r\n",
        "    text = str(text)\r\n",
        "    text = remove_accents(text)\r\n",
        "    text = lower_letters(text)\r\n",
        "    text = drop_slash_n(text)\r\n",
        "    text = drop_special_carac(text)\r\n",
        "    text = drop_extra_space(text)\r\n",
        "    text = remove_stop_words(text)\r\n",
        "    text = lemmatize(text)\r\n",
        "    \r\n",
        "    return text\r\n",
        "\r\n",
        "def processing2(text):\r\n",
        "    \r\n",
        "    text = str(text)\r\n",
        "    text = remove_accents(text)\r\n",
        "    text = lower_letters(text)\r\n",
        "    text = drop_slash_n(text)\r\n",
        "    text = drop_special_carac(text)\r\n",
        "    text = remove_stop_words(text)\r\n",
        "    text = lemmatize(text)\r\n",
        "     \r\n",
        "    return text\r\n",
        "\r\n",
        "def processing3(text):\r\n",
        "    \r\n",
        "    text = str(text)\r\n",
        "    text = lower_letters(text)\r\n",
        "    text = remove_accents(text)\r\n",
        "    text = remove_stop_words(text)\r\n",
        "    text = drop_slash_n(text)\r\n",
        "    text = drop_special_carac(text)\r\n",
        "    text = lemmatize(text)\r\n",
        "    \r\n",
        "    return text\r\n",
        "\r\n",
        "def processing4(text):\r\n",
        "    \r\n",
        "    text = str(text)\r\n",
        "    text = remove_accents(text)\r\n",
        "    text = lower_letters(text)\r\n",
        "    text = drop_slash_n(text)\r\n",
        "    \r\n",
        "    return text\r\n",
        "\r\n",
        "def processing5(text):\r\n",
        "    \r\n",
        "    text = str(text)\r\n",
        "    text = lower_letters(text)\r\n",
        "    text = remove_stop_words(text)\r\n",
        "    text = remove_accents(text)\r\n",
        "    text = drop_slash_n(text)\r\n",
        "    text = drop_special_carac(text)\r\n",
        "    text = lemmatize(text)\r\n",
        "    \r\n",
        "    return text\r\n",
        "\r\n",
        "def processing6(text):\r\n",
        "    \r\n",
        "    text = str(text)\r\n",
        "    text = lower_letters(text)\r\n",
        "    text = lemmatize(text)\r\n",
        "    text = remove_stop_words(text)\r\n",
        "    text = remove_accents(text)\r\n",
        "    text = drop_slash_n(text)\r\n",
        "    text = drop_special_carac(text)\r\n",
        "    \r\n",
        "    return text\r\n",
        "\r\n",
        "def processing7(text):\r\n",
        "\r\n",
        "    text = str(text)\r\n",
        "    text = drop_brackets(text)\r\n",
        "    text = lower_letters(text)\r\n",
        "    text = remove_stop_words(text)\r\n",
        "    text = remove_accents(text)\r\n",
        "    text = drop_slash_n(text)\r\n",
        "    text = drop_special_carac(text)\r\n",
        "    text = drop_double_space(text)\r\n",
        "    text = drop_single_char(text)\r\n",
        "    \r\n",
        "    return text\r\n",
        "\r\n",
        "def processing8(text):\r\n",
        "\r\n",
        "    text = str(text)\r\n",
        "    text = drop_brackets(text)\r\n",
        "    text = lower_letters(text)\r\n",
        "    text = lemmatize(text)\r\n",
        "    text = remove_stop_words(text)\r\n",
        "    text = remove_accents(text)\r\n",
        "    text = drop_slash_n(text)\r\n",
        "    text = drop_special_carac(text)\r\n",
        "    text = drop_double_space(text)\r\n",
        "    text = drop_single_char(text)\r\n",
        "    \r\n",
        "    return text"
      ],
      "execution_count": 329,
      "outputs": []
    },
    {
      "cell_type": "markdown",
      "metadata": {
        "id": "YdVZXzG87ZBp"
      },
      "source": [
        "On applique les différents processing qui génèrent une nouvelle colonne à chaque fois. On le sait de notre dernier projet le processing 8 est le meilleur on ne fait donc pas les autres"
      ]
    },
    {
      "cell_type": "code",
      "metadata": {
        "id": "IIdpBlaKD69C"
      },
      "source": [
        "#df[\"abstract_fr_proc_1\"] = df.apply(lambda x: processing1(x[\"abstract_fr\"]), axis=1)\r\n",
        "#df[\"abstract_fr_proc_2\"] = df.apply(lambda x: processing2(x[\"abstract_fr\"]), axis=1)\r\n",
        "#df[\"abstract_fr_proc_3\"] = df.apply(lambda x: processing3(x[\"abstract_fr\"]), axis=1)\r\n",
        "#df[\"abstract_fr_proc_4\"] = df.apply(lambda x: processing4(x[\"abstract_fr\"]), axis=1)\r\n",
        "#df[\"abstract_fr_proc_5\"] = df.apply(lambda x: processing5(x[\"abstract_fr\"]), axis=1)\r\n",
        "#df[\"abstract_fr_proc_6\"] = df.apply(lambda x: processing6(x[\"abstract_fr\"]), axis=1)\r\n",
        "#df[\"abstract_fr_proc_7\"] = df.apply(lambda x: processing7(x[\"abstract_fr\"]), axis=1)\r\n",
        "df[\"abstract_fr_proc_8\"] = df.apply(lambda x: processing8(x[\"abstract_fr\"]), axis=1)"
      ],
      "execution_count": 330,
      "outputs": []
    },
    {
      "cell_type": "code",
      "metadata": {
        "colab": {
          "base_uri": "https://localhost:8080/"
        },
        "id": "1X3U-HD17UR6",
        "outputId": "90162154-0975-4a09-fa37-b328331b4b29"
      },
      "source": [
        "df.shape"
      ],
      "execution_count": 331,
      "outputs": [
        {
          "output_type": "execute_result",
          "data": {
            "text/plain": [
              "(1602, 14)"
            ]
          },
          "metadata": {
            "tags": []
          },
          "execution_count": 331
        }
      ]
    },
    {
      "cell_type": "markdown",
      "metadata": {
        "id": "KQMV4zYn79Dn"
      },
      "source": [
        "## 4) Suite du processing (projet 2)\r\n",
        "\r\n",
        "En ce qui concerne le préprocessing nous nous étions uniquement foclaisé sur les abstract, pour ce nouveau problème il nous d'abord regarder plus en details les autres features"
      ]
    },
    {
      "cell_type": "markdown",
      "metadata": {
        "id": "2-vvCd_B8q05"
      },
      "source": [
        "Très peu de valeurs renseigné dans les colonnes keywords_fr, keywords_eng et abstract_eng"
      ]
    },
    {
      "cell_type": "code",
      "metadata": {
        "colab": {
          "base_uri": "https://localhost:8080/"
        },
        "id": "9mfKZrGt7rdP",
        "outputId": "d1dd2fa2-1ebe-496c-d5e5-f59c994e6458"
      },
      "source": [
        "df[df[\"keywords_fr\"] != 'None'].count()[0]\r\n",
        "# 1602 valeurs en tout 1475 none donc il n'y a que 127 valeurs non-null"
      ],
      "execution_count": 332,
      "outputs": [
        {
          "output_type": "execute_result",
          "data": {
            "text/plain": [
              "1475"
            ]
          },
          "metadata": {
            "tags": []
          },
          "execution_count": 332
        }
      ]
    },
    {
      "cell_type": "code",
      "metadata": {
        "colab": {
          "base_uri": "https://localhost:8080/"
        },
        "id": "nkIbIENw-bno",
        "outputId": "50361a1c-5ac8-4ff2-de0c-ec08d12e47e3"
      },
      "source": [
        "df[df[\"keywords_eng\"] != 'None'].count()[0]"
      ],
      "execution_count": 333,
      "outputs": [
        {
          "output_type": "execute_result",
          "data": {
            "text/plain": [
              "1449"
            ]
          },
          "metadata": {
            "tags": []
          },
          "execution_count": 333
        }
      ]
    },
    {
      "cell_type": "code",
      "metadata": {
        "colab": {
          "base_uri": "https://localhost:8080/"
        },
        "id": "cEjEiyP1-PXk",
        "outputId": "7c37519f-fa55-438e-c7f6-67fb8b1abbdb"
      },
      "source": [
        "df[df[\"abstract_eng\"] != 'None'].count()[0]"
      ],
      "execution_count": 334,
      "outputs": [
        {
          "output_type": "execute_result",
          "data": {
            "text/plain": [
              "1492"
            ]
          },
          "metadata": {
            "tags": []
          },
          "execution_count": 334
        }
      ]
    },
    {
      "cell_type": "code",
      "metadata": {
        "colab": {
          "base_uri": "https://localhost:8080/"
        },
        "id": "kF28VmNO9d3a",
        "outputId": "ada8aafa-2019-4d07-989f-5a2df1d5d7a7"
      },
      "source": [
        "df[df[\"publication_date\"]  == df[\"monogr_date\"]].count()\r\n",
        "# la colonne monogr_date et publication_date sont toujours les mêmes "
      ],
      "execution_count": 335,
      "outputs": [
        {
          "output_type": "execute_result",
          "data": {
            "text/plain": [
              "title                 1602\n",
              "author_name           1602\n",
              "author_email          1602\n",
              "publication_place     1602\n",
              "publication_date      1602\n",
              "editor_name           1602\n",
              "monogr_title          1602\n",
              "monogr_date           1602\n",
              "abstract_fr           1602\n",
              "abstract_eng          1602\n",
              "keywords_fr           1602\n",
              "keywords_eng          1602\n",
              "text                  1602\n",
              "abstract_fr_proc_8    1602\n",
              "dtype: int64"
            ]
          },
          "metadata": {
            "tags": []
          },
          "execution_count": 335
        }
      ]
    },
    {
      "cell_type": "code",
      "metadata": {
        "id": "x2kS2xcM979w"
      },
      "source": [
        "# On supprime donc les 4 colonnes \r\n",
        "del df['monogr_date']\r\n",
        "del df[\"keywords_fr\"]\r\n",
        "del df[\"keywords_eng\"]\r\n",
        "del df[\"abstract_eng\"]"
      ],
      "execution_count": 336,
      "outputs": []
    },
    {
      "cell_type": "code",
      "metadata": {
        "colab": {
          "base_uri": "https://localhost:8080/",
          "height": 551
        },
        "id": "8rkNhe7s7_J3",
        "outputId": "5dd5e38c-be1f-4c25-dd34-38fd62fdecac"
      },
      "source": [
        "df.head()"
      ],
      "execution_count": 337,
      "outputs": [
        {
          "output_type": "execute_result",
          "data": {
            "text/html": [
              "<div>\n",
              "<style scoped>\n",
              "    .dataframe tbody tr th:only-of-type {\n",
              "        vertical-align: middle;\n",
              "    }\n",
              "\n",
              "    .dataframe tbody tr th {\n",
              "        vertical-align: top;\n",
              "    }\n",
              "\n",
              "    .dataframe thead th {\n",
              "        text-align: right;\n",
              "    }\n",
              "</style>\n",
              "<table border=\"1\" class=\"dataframe\">\n",
              "  <thead>\n",
              "    <tr style=\"text-align: right;\">\n",
              "      <th></th>\n",
              "      <th>title</th>\n",
              "      <th>author_name</th>\n",
              "      <th>author_email</th>\n",
              "      <th>publication_place</th>\n",
              "      <th>publication_date</th>\n",
              "      <th>editor_name</th>\n",
              "      <th>monogr_title</th>\n",
              "      <th>abstract_fr</th>\n",
              "      <th>text</th>\n",
              "      <th>abstract_fr_proc_8</th>\n",
              "    </tr>\n",
              "  </thead>\n",
              "  <tbody>\n",
              "    <tr>\n",
              "      <th>0</th>\n",
              "      <td>\\nÉléments de conception d'un système d'interp...</td>\n",
              "      <td>Delphine Battistelli,Cyril Valliez</td>\n",
              "      <td>battiste@msh-paris.fr,valliez@msh-paris.fr</td>\n",
              "      <td>Grenoble</td>\n",
              "      <td>1997</td>\n",
              "      <td>Damien Genthial</td>\n",
              "      <td>4e conférence sur le Traitement Automatique de...</td>\n",
              "      <td>\\nNous considérons dans notre travail la tâche...</td>\n",
              "      <td>Architecture globale du système \\nLe modèle de...</td>\n",
              "      <td>considerer travail tache traitement automatiqu...</td>\n",
              "    </tr>\n",
              "    <tr>\n",
              "      <th>1</th>\n",
              "      <td>\\nInformatisation du dictionnaire explicatif e...</td>\n",
              "      <td>Gilles Sérasset</td>\n",
              "      <td>Gilles.Serasset@imag.fr</td>\n",
              "      <td>Grenoble</td>\n",
              "      <td>1997</td>\n",
              "      <td>Damien Genthial</td>\n",
              "      <td>4e conférence sur le Traitement Automatique de...</td>\n",
              "      <td>\\nNous donnons ici un aperçu du logiciel DECID...</td>\n",
              "      <td>Introduction \\nDans le domaine de l'ingénieri...</td>\n",
              "      <td>donner ici apercu logiciel decid developpe get...</td>\n",
              "    </tr>\n",
              "    <tr>\n",
              "      <th>2</th>\n",
              "      <td>\\nConstruction d'une représentation sémantique...</td>\n",
              "      <td>Pierre Zweigenbaum,Jacques Bouaud</td>\n",
              "      <td>pz@biomath.jussieu.fr,jb@biomath.jussieu.fr</td>\n",
              "      <td>Grenoble</td>\n",
              "      <td>1997</td>\n",
              "      <td>Damien Genthial</td>\n",
              "      <td>4e conférence sur le Traitement Automatique de...</td>\n",
              "      <td>\\nDiverses méthodes ont été proposées pour con...</td>\n",
              "      <td></td>\n",
              "      <td>divers methode avoir etre proposer construire ...</td>\n",
              "    </tr>\n",
              "    <tr>\n",
              "      <th>3</th>\n",
              "      <td>\\nSystèmes de types pour la (lambda-)DRT ascen...</td>\n",
              "      <td>Pascal Amsili,Nabil Hathout</td>\n",
              "      <td>amsili@linguist.jussieu.fr,hathout@inalf.cnrs.fr</td>\n",
              "      <td>Paris</td>\n",
              "      <td>1998</td>\n",
              "      <td>Pierre Zweigenbaum</td>\n",
              "      <td>5e conférence sur le Traitement Automatique de...</td>\n",
              "      <td>\\nLe terme de lambda-DRT désigne un ensemble d...</td>\n",
              "      <td>Introduction \\nLa « Théorie des Représentation...</td>\n",
              "      <td>terme lambda drt designe ensemble methode perm...</td>\n",
              "    </tr>\n",
              "    <tr>\n",
              "      <th>4</th>\n",
              "      <td>\\nUne grammaire TAG vue comme une grammaire Se...</td>\n",
              "      <td>Marie-Hélène Candito,Sylvain Kahane</td>\n",
              "      <td>marie-helene.candito@linguist.jussieu.fr,sk@cc...</td>\n",
              "      <td>Paris</td>\n",
              "      <td>1998</td>\n",
              "      <td>Pierre Zweigenbaum</td>\n",
              "      <td>5e conférence sur le Traitement Automatique de...</td>\n",
              "      <td>\\nDans cet article, nous comparons deux modèle...</td>\n",
              "      <td>Introduction \\nTAG est un formalisme initialem...</td>\n",
              "      <td>article comparer deux modele linguistique util...</td>\n",
              "    </tr>\n",
              "  </tbody>\n",
              "</table>\n",
              "</div>"
            ],
            "text/plain": [
              "                                               title  ...                                 abstract_fr_proc_8\n",
              "0  \\nÉléments de conception d'un système d'interp...  ...  considerer travail tache traitement automatiqu...\n",
              "1  \\nInformatisation du dictionnaire explicatif e...  ...  donner ici apercu logiciel decid developpe get...\n",
              "2  \\nConstruction d'une représentation sémantique...  ...  divers methode avoir etre proposer construire ...\n",
              "3  \\nSystèmes de types pour la (lambda-)DRT ascen...  ...  terme lambda drt designe ensemble methode perm...\n",
              "4  \\nUne grammaire TAG vue comme une grammaire Se...  ...  article comparer deux modele linguistique util...\n",
              "\n",
              "[5 rows x 10 columns]"
            ]
          },
          "metadata": {
            "tags": []
          },
          "execution_count": 337
        }
      ]
    },
    {
      "cell_type": "code",
      "metadata": {
        "id": "v7VhEOi2AazL"
      },
      "source": [
        "# Une autre étape il faut transformer la cible en int \r\n",
        "df['publication_date'] = df['publication_date'].astype(int)"
      ],
      "execution_count": 338,
      "outputs": []
    },
    {
      "cell_type": "code",
      "metadata": {
        "colab": {
          "base_uri": "https://localhost:8080/"
        },
        "id": "kf8em7XfC9CO",
        "outputId": "ee6b5633-70c1-4bdc-90c0-32bbbb21a0b9"
      },
      "source": [
        "df[\"publication_date\"].describe()"
      ],
      "execution_count": 339,
      "outputs": [
        {
          "output_type": "execute_result",
          "data": {
            "text/plain": [
              "count    1602.000000\n",
              "mean     2009.431960\n",
              "std         5.414435\n",
              "min      1997.000000\n",
              "25%      2005.000000\n",
              "50%      2010.000000\n",
              "75%      2014.000000\n",
              "max      2019.000000\n",
              "Name: publication_date, dtype: float64"
            ]
          },
          "metadata": {
            "tags": []
          },
          "execution_count": 339
        }
      ]
    },
    {
      "cell_type": "markdown",
      "metadata": {
        "id": "WzNBLSpzDzS4"
      },
      "source": [
        "Ici on apprend que le dataset est repartit sur 22 ans de 1997 à 2019 et la median et vers 2010"
      ]
    },
    {
      "cell_type": "code",
      "metadata": {
        "colab": {
          "base_uri": "https://localhost:8080/"
        },
        "id": "16thMDdwwg0-",
        "outputId": "ef275afb-e26f-4f8f-d863-dd278f43449a"
      },
      "source": [
        "df.info()"
      ],
      "execution_count": 340,
      "outputs": [
        {
          "output_type": "stream",
          "text": [
            "<class 'pandas.core.frame.DataFrame'>\n",
            "RangeIndex: 1602 entries, 0 to 1601\n",
            "Data columns (total 10 columns):\n",
            " #   Column              Non-Null Count  Dtype \n",
            "---  ------              --------------  ----- \n",
            " 0   title               1602 non-null   object\n",
            " 1   author_name         1602 non-null   object\n",
            " 2   author_email        1602 non-null   object\n",
            " 3   publication_place   1602 non-null   object\n",
            " 4   publication_date    1602 non-null   int64 \n",
            " 5   editor_name         1602 non-null   object\n",
            " 6   monogr_title        1602 non-null   object\n",
            " 7   abstract_fr         1602 non-null   object\n",
            " 8   text                1602 non-null   object\n",
            " 9   abstract_fr_proc_8  1602 non-null   object\n",
            "dtypes: int64(1), object(9)\n",
            "memory usage: 125.3+ KB\n"
          ],
          "name": "stdout"
        }
      ]
    },
    {
      "cell_type": "code",
      "metadata": {
        "colab": {
          "base_uri": "https://localhost:8080/",
          "height": 551
        },
        "id": "LzNa51lYEuun",
        "outputId": "ca728d7a-2f15-487f-c9f0-792daeae04b1"
      },
      "source": [
        "#On a split les auteurs et email (ce sont à peu près les mêmes données), afin d'obtenir plusieurs string si il y a eu plusieurs auteurs\r\n",
        "\r\n",
        "df[\"author_name\"] = df[\"author_name\"].str.split(\",\")\r\n",
        "df[\"author_email\"] = df[\"author_email\"].str.split(\",\")\r\n",
        "df.head()\r\n",
        "\r\n",
        "#A le fin du projet on c'est rendu compte que c'était inutile mais ça partait d'une bonne idée"
      ],
      "execution_count": 341,
      "outputs": [
        {
          "output_type": "execute_result",
          "data": {
            "text/html": [
              "<div>\n",
              "<style scoped>\n",
              "    .dataframe tbody tr th:only-of-type {\n",
              "        vertical-align: middle;\n",
              "    }\n",
              "\n",
              "    .dataframe tbody tr th {\n",
              "        vertical-align: top;\n",
              "    }\n",
              "\n",
              "    .dataframe thead th {\n",
              "        text-align: right;\n",
              "    }\n",
              "</style>\n",
              "<table border=\"1\" class=\"dataframe\">\n",
              "  <thead>\n",
              "    <tr style=\"text-align: right;\">\n",
              "      <th></th>\n",
              "      <th>title</th>\n",
              "      <th>author_name</th>\n",
              "      <th>author_email</th>\n",
              "      <th>publication_place</th>\n",
              "      <th>publication_date</th>\n",
              "      <th>editor_name</th>\n",
              "      <th>monogr_title</th>\n",
              "      <th>abstract_fr</th>\n",
              "      <th>text</th>\n",
              "      <th>abstract_fr_proc_8</th>\n",
              "    </tr>\n",
              "  </thead>\n",
              "  <tbody>\n",
              "    <tr>\n",
              "      <th>0</th>\n",
              "      <td>\\nÉléments de conception d'un système d'interp...</td>\n",
              "      <td>[Delphine Battistelli, Cyril Valliez]</td>\n",
              "      <td>[battiste@msh-paris.fr, valliez@msh-paris.fr]</td>\n",
              "      <td>Grenoble</td>\n",
              "      <td>1997</td>\n",
              "      <td>Damien Genthial</td>\n",
              "      <td>4e conférence sur le Traitement Automatique de...</td>\n",
              "      <td>\\nNous considérons dans notre travail la tâche...</td>\n",
              "      <td>Architecture globale du système \\nLe modèle de...</td>\n",
              "      <td>considerer travail tache traitement automatiqu...</td>\n",
              "    </tr>\n",
              "    <tr>\n",
              "      <th>1</th>\n",
              "      <td>\\nInformatisation du dictionnaire explicatif e...</td>\n",
              "      <td>[Gilles Sérasset]</td>\n",
              "      <td>[Gilles.Serasset@imag.fr]</td>\n",
              "      <td>Grenoble</td>\n",
              "      <td>1997</td>\n",
              "      <td>Damien Genthial</td>\n",
              "      <td>4e conférence sur le Traitement Automatique de...</td>\n",
              "      <td>\\nNous donnons ici un aperçu du logiciel DECID...</td>\n",
              "      <td>Introduction \\nDans le domaine de l'ingénieri...</td>\n",
              "      <td>donner ici apercu logiciel decid developpe get...</td>\n",
              "    </tr>\n",
              "    <tr>\n",
              "      <th>2</th>\n",
              "      <td>\\nConstruction d'une représentation sémantique...</td>\n",
              "      <td>[Pierre Zweigenbaum, Jacques Bouaud]</td>\n",
              "      <td>[pz@biomath.jussieu.fr, jb@biomath.jussieu.fr]</td>\n",
              "      <td>Grenoble</td>\n",
              "      <td>1997</td>\n",
              "      <td>Damien Genthial</td>\n",
              "      <td>4e conférence sur le Traitement Automatique de...</td>\n",
              "      <td>\\nDiverses méthodes ont été proposées pour con...</td>\n",
              "      <td></td>\n",
              "      <td>divers methode avoir etre proposer construire ...</td>\n",
              "    </tr>\n",
              "    <tr>\n",
              "      <th>3</th>\n",
              "      <td>\\nSystèmes de types pour la (lambda-)DRT ascen...</td>\n",
              "      <td>[Pascal Amsili, Nabil Hathout]</td>\n",
              "      <td>[amsili@linguist.jussieu.fr, hathout@inalf.cnr...</td>\n",
              "      <td>Paris</td>\n",
              "      <td>1998</td>\n",
              "      <td>Pierre Zweigenbaum</td>\n",
              "      <td>5e conférence sur le Traitement Automatique de...</td>\n",
              "      <td>\\nLe terme de lambda-DRT désigne un ensemble d...</td>\n",
              "      <td>Introduction \\nLa « Théorie des Représentation...</td>\n",
              "      <td>terme lambda drt designe ensemble methode perm...</td>\n",
              "    </tr>\n",
              "    <tr>\n",
              "      <th>4</th>\n",
              "      <td>\\nUne grammaire TAG vue comme une grammaire Se...</td>\n",
              "      <td>[Marie-Hélène Candito, Sylvain Kahane]</td>\n",
              "      <td>[marie-helene.candito@linguist.jussieu.fr, sk@...</td>\n",
              "      <td>Paris</td>\n",
              "      <td>1998</td>\n",
              "      <td>Pierre Zweigenbaum</td>\n",
              "      <td>5e conférence sur le Traitement Automatique de...</td>\n",
              "      <td>\\nDans cet article, nous comparons deux modèle...</td>\n",
              "      <td>Introduction \\nTAG est un formalisme initialem...</td>\n",
              "      <td>article comparer deux modele linguistique util...</td>\n",
              "    </tr>\n",
              "  </tbody>\n",
              "</table>\n",
              "</div>"
            ],
            "text/plain": [
              "                                               title  ...                                 abstract_fr_proc_8\n",
              "0  \\nÉléments de conception d'un système d'interp...  ...  considerer travail tache traitement automatiqu...\n",
              "1  \\nInformatisation du dictionnaire explicatif e...  ...  donner ici apercu logiciel decid developpe get...\n",
              "2  \\nConstruction d'une représentation sémantique...  ...  divers methode avoir etre proposer construire ...\n",
              "3  \\nSystèmes de types pour la (lambda-)DRT ascen...  ...  terme lambda drt designe ensemble methode perm...\n",
              "4  \\nUne grammaire TAG vue comme une grammaire Se...  ...  article comparer deux modele linguistique util...\n",
              "\n",
              "[5 rows x 10 columns]"
            ]
          },
          "metadata": {
            "tags": []
          },
          "execution_count": 341
        }
      ]
    },
    {
      "cell_type": "code",
      "metadata": {
        "colab": {
          "base_uri": "https://localhost:8080/",
          "height": 35
        },
        "id": "ACQqxbuVFOlq",
        "outputId": "0d2fd888-06db-4e92-e5a3-13391f3cee92"
      },
      "source": [
        "# Penchons nous sur le features engineering des autres colonnes celles contenant du texte :  title, text (abstract a déjà subi 7 traitement differents)\r\n",
        "df[\"title\"] = df.apply(lambda x: processing8(x[\"title\"]), axis=1)\r\n",
        "df[\"title\"][0]"
      ],
      "execution_count": 342,
      "outputs": [
        {
          "output_type": "execute_result",
          "data": {
            "application/vnd.google.colaboratory.intrinsic+json": {
              "type": "string"
            },
            "text/plain": [
              "'element conception systeme interpretation automatique texte image'"
            ]
          },
          "metadata": {
            "tags": []
          },
          "execution_count": 342
        }
      ]
    },
    {
      "cell_type": "code",
      "metadata": {
        "colab": {
          "base_uri": "https://localhost:8080/",
          "height": 160
        },
        "id": "Nv0GZCKdypmT",
        "outputId": "c5c856dd-8e4c-4772-d425-766e59f090a7"
      },
      "source": [
        "#Créons une colonne qui contient le titre + l'abstract\r\n",
        "df[\"text_title_proc\"] = df[\"title\"] + df[\"abstract_fr_proc_8\"]\r\n",
        "df[\"text_title_proc\"][0]"
      ],
      "execution_count": 343,
      "outputs": [
        {
          "output_type": "execute_result",
          "data": {
            "application/vnd.google.colaboratory.intrinsic+json": {
              "type": "string"
            },
            "text/plain": [
              "'element conception systeme interpretation automatique texte imageconsiderer travail tache traitement automatique viser construire partir texte issu corpus constat accident route interpretation compatible dernier proposer illustration sous forme sequence image fixe recherche etre fruit collaboration entre laboratoire universitaire entreprise prendre appui modele grammaire applicatif cognitif vise particulier expliquer certain niveau cognitif transfert entre representation image verbal revue question relatif transcription automatique verbal image renvoyer plus particulierement travail vandelois groupe langue raisonnement calcul universite paul sabatier ainsi al approche proposer systeme sprint plus proche encore preoccupation victorri enjalbert posent probleme animation visuel issu interpretation texte presenter article travers traitement exemple methode general analyse avoir adopter appuyer priorite connaissance linguistique texte prendre comme exemple etre suivant rouler partie droite chaussee quand vehicule arriver virage avoir etre completement deporter serrer droite maximum avoir eviter voiture traiter ici modalite introduire pu relative arriver grand vitesse premier partie article presenter architecture global systeme informatique deuxieme partie proposer element analyse solution operatoire al probleme articulation signification lexical grammatical sous forme segmentation texte differents phase spatio temporelle troisieme partie presenter modelisation lieu circulation mouvement vehicule garantir passage image '"
            ]
          },
          "metadata": {
            "tags": []
          },
          "execution_count": 343
        }
      ]
    },
    {
      "cell_type": "markdown",
      "metadata": {
        "id": "LZA3PLufxtr2"
      },
      "source": [
        "Nous decidons de nous concentrer uniquement sur les abstract et title, nous laissons la colonne abstract sans pre-processing au cas ou on voudrait utiliser un autre pre-processing pour la suite"
      ]
    },
    {
      "cell_type": "markdown",
      "metadata": {
        "id": "hG51ftLyyPaD"
      },
      "source": [
        "#Modeling"
      ]
    },
    {
      "cell_type": "markdown",
      "metadata": {
        "id": "nvtPutEIcrdY"
      },
      "source": [
        "## 1) Data split"
      ]
    },
    {
      "cell_type": "code",
      "metadata": {
        "id": "q4qpdc0sD--g"
      },
      "source": [
        "#Dans les sections suivantes nous avons determiné qu'il était préferable de supprimer les lignes de l'année 1997\r\n",
        "#En effet elles ne répresentent que 0.187% des données et lors du split aucune donnée de 1997 ne se retrouve dans les sets de validation ou test (20 % de 0.187 fait qu'il n'y a aucune valeur de 1997)\r\n",
        "#On supprimer donc les lignes de 1997\r\n",
        "df.drop(df[df[\"publication_date\"] == 1997].index, inplace=True)"
      ],
      "execution_count": 344,
      "outputs": []
    },
    {
      "cell_type": "code",
      "metadata": {
        "colab": {
          "base_uri": "https://localhost:8080/"
        },
        "id": "SAOV1PdF0mS7",
        "outputId": "7f7b00c9-aff0-4754-df80-089925466c76"
      },
      "source": [
        "repart_dataset = ((df[\"publication_date\"].value_counts()/df[\"publication_date\"].describe()[0]) * 100)\r\n",
        "print(repart_dataset)\r\n",
        "#Pour verifier la repartition des dates (en %), on sait d'avant que cette colonne ne contient pas de valeur nulle"
      ],
      "execution_count": 345,
      "outputs": [
        {
          "output_type": "stream",
          "text": [
            "2011    7.317073\n",
            "2010    6.504065\n",
            "2009    6.504065\n",
            "2013    6.441526\n",
            "2014    5.941213\n",
            "2015    5.753596\n",
            "2007    5.503440\n",
            "2005    5.440901\n",
            "2012    5.440901\n",
            "2004    5.378361\n",
            "2018    5.253283\n",
            "2006    5.065666\n",
            "2008    4.127580\n",
            "2003    4.002502\n",
            "2017    3.564728\n",
            "2002    3.564728\n",
            "2016    3.377111\n",
            "2001    3.314572\n",
            "1999    2.876798\n",
            "2019    2.376485\n",
            "2000    1.438399\n",
            "1998    0.813008\n",
            "Name: publication_date, dtype: float64\n"
          ],
          "name": "stdout"
        }
      ]
    },
    {
      "cell_type": "code",
      "metadata": {
        "id": "Lu2XKWsCym-t"
      },
      "source": [
        "#train test validation split\r\n",
        "x_train, x_test, y_train, y_test  = train_test_split(df, df.iloc[:,4], stratify = df.iloc[:,4] , test_size=0.1, random_state=1) # 90 % train et 10 % test\r\n",
        "\r\n",
        "x_train, x_val, y_train, y_val = train_test_split(x_train, y_train, stratify = y_train , test_size=0.11 , random_state=1) # 0.9 * 0.11 = 0.099 (c'est le plus près qu'on ai puisse trouver)\r\n",
        "\r\n",
        "#Astuce : on garde la colonne publication_date lors du split pour pouvoir stratifié sur les années et répartir en fonction des années\r\n",
        "#On a bien le train, test et validation set qui respectent les 80/10/10"
      ],
      "execution_count": 346,
      "outputs": []
    },
    {
      "cell_type": "code",
      "metadata": {
        "id": "j_I0snW56xjd",
        "colab": {
          "base_uri": "https://localhost:8080/",
          "height": 707
        },
        "outputId": "be04d6f8-7b29-424c-8deb-f699fe2a23bd"
      },
      "source": [
        "#ici on compare la répartition des années (données pour chaque années) des 3 datas obtenus\r\n",
        "repart_train = ((x_train[\"publication_date\"].value_counts()/x_train[\"publication_date\"].describe()[0]) * 100)\r\n",
        "repart_test = ((x_test[\"publication_date\"].value_counts()/x_test[\"publication_date\"].describe()[0]) * 100)\r\n",
        "repart_val = ((x_val[\"publication_date\"].value_counts()/x_val[\"publication_date\"].describe()[0]) * 100)\r\n",
        "\r\n",
        "repartition = pd.DataFrame({'dataset' : repart_dataset ,'train':repart_train, 'test':repart_test, \"val\" : repart_val })\r\n",
        "repartition"
      ],
      "execution_count": 347,
      "outputs": [
        {
          "output_type": "execute_result",
          "data": {
            "text/html": [
              "<div>\n",
              "<style scoped>\n",
              "    .dataframe tbody tr th:only-of-type {\n",
              "        vertical-align: middle;\n",
              "    }\n",
              "\n",
              "    .dataframe tbody tr th {\n",
              "        vertical-align: top;\n",
              "    }\n",
              "\n",
              "    .dataframe thead th {\n",
              "        text-align: right;\n",
              "    }\n",
              "</style>\n",
              "<table border=\"1\" class=\"dataframe\">\n",
              "  <thead>\n",
              "    <tr style=\"text-align: right;\">\n",
              "      <th></th>\n",
              "      <th>dataset</th>\n",
              "      <th>train</th>\n",
              "      <th>test</th>\n",
              "      <th>val</th>\n",
              "    </tr>\n",
              "  </thead>\n",
              "  <tbody>\n",
              "    <tr>\n",
              "      <th>1998</th>\n",
              "      <td>0.813008</td>\n",
              "      <td>0.859375</td>\n",
              "      <td>0.625</td>\n",
              "      <td>0.628931</td>\n",
              "    </tr>\n",
              "    <tr>\n",
              "      <th>1999</th>\n",
              "      <td>2.876798</td>\n",
              "      <td>2.812500</td>\n",
              "      <td>3.125</td>\n",
              "      <td>3.144654</td>\n",
              "    </tr>\n",
              "    <tr>\n",
              "      <th>2000</th>\n",
              "      <td>1.438399</td>\n",
              "      <td>1.484375</td>\n",
              "      <td>1.250</td>\n",
              "      <td>1.257862</td>\n",
              "    </tr>\n",
              "    <tr>\n",
              "      <th>2001</th>\n",
              "      <td>3.314572</td>\n",
              "      <td>3.359375</td>\n",
              "      <td>3.125</td>\n",
              "      <td>3.144654</td>\n",
              "    </tr>\n",
              "    <tr>\n",
              "      <th>2002</th>\n",
              "      <td>3.564728</td>\n",
              "      <td>3.515625</td>\n",
              "      <td>3.750</td>\n",
              "      <td>3.773585</td>\n",
              "    </tr>\n",
              "    <tr>\n",
              "      <th>2003</th>\n",
              "      <td>4.002502</td>\n",
              "      <td>4.062500</td>\n",
              "      <td>3.750</td>\n",
              "      <td>3.773585</td>\n",
              "    </tr>\n",
              "    <tr>\n",
              "      <th>2004</th>\n",
              "      <td>5.378361</td>\n",
              "      <td>5.312500</td>\n",
              "      <td>5.625</td>\n",
              "      <td>5.660377</td>\n",
              "    </tr>\n",
              "    <tr>\n",
              "      <th>2005</th>\n",
              "      <td>5.440901</td>\n",
              "      <td>5.390625</td>\n",
              "      <td>5.625</td>\n",
              "      <td>5.660377</td>\n",
              "    </tr>\n",
              "    <tr>\n",
              "      <th>2006</th>\n",
              "      <td>5.065666</td>\n",
              "      <td>5.078125</td>\n",
              "      <td>5.000</td>\n",
              "      <td>5.031447</td>\n",
              "    </tr>\n",
              "    <tr>\n",
              "      <th>2007</th>\n",
              "      <td>5.503440</td>\n",
              "      <td>5.468750</td>\n",
              "      <td>5.625</td>\n",
              "      <td>5.660377</td>\n",
              "    </tr>\n",
              "    <tr>\n",
              "      <th>2008</th>\n",
              "      <td>4.127580</td>\n",
              "      <td>4.062500</td>\n",
              "      <td>4.375</td>\n",
              "      <td>4.402516</td>\n",
              "    </tr>\n",
              "    <tr>\n",
              "      <th>2009</th>\n",
              "      <td>6.504065</td>\n",
              "      <td>6.562500</td>\n",
              "      <td>6.250</td>\n",
              "      <td>6.289308</td>\n",
              "    </tr>\n",
              "    <tr>\n",
              "      <th>2010</th>\n",
              "      <td>6.504065</td>\n",
              "      <td>6.562500</td>\n",
              "      <td>6.250</td>\n",
              "      <td>6.289308</td>\n",
              "    </tr>\n",
              "    <tr>\n",
              "      <th>2011</th>\n",
              "      <td>7.317073</td>\n",
              "      <td>7.265625</td>\n",
              "      <td>7.500</td>\n",
              "      <td>7.547170</td>\n",
              "    </tr>\n",
              "    <tr>\n",
              "      <th>2012</th>\n",
              "      <td>5.440901</td>\n",
              "      <td>5.390625</td>\n",
              "      <td>5.625</td>\n",
              "      <td>5.660377</td>\n",
              "    </tr>\n",
              "    <tr>\n",
              "      <th>2013</th>\n",
              "      <td>6.441526</td>\n",
              "      <td>6.484375</td>\n",
              "      <td>6.250</td>\n",
              "      <td>6.289308</td>\n",
              "    </tr>\n",
              "    <tr>\n",
              "      <th>2014</th>\n",
              "      <td>5.941213</td>\n",
              "      <td>5.937500</td>\n",
              "      <td>6.250</td>\n",
              "      <td>5.660377</td>\n",
              "    </tr>\n",
              "    <tr>\n",
              "      <th>2015</th>\n",
              "      <td>5.753596</td>\n",
              "      <td>5.781250</td>\n",
              "      <td>5.625</td>\n",
              "      <td>5.660377</td>\n",
              "    </tr>\n",
              "    <tr>\n",
              "      <th>2016</th>\n",
              "      <td>3.377111</td>\n",
              "      <td>3.437500</td>\n",
              "      <td>3.125</td>\n",
              "      <td>3.144654</td>\n",
              "    </tr>\n",
              "    <tr>\n",
              "      <th>2017</th>\n",
              "      <td>3.564728</td>\n",
              "      <td>3.515625</td>\n",
              "      <td>3.750</td>\n",
              "      <td>3.773585</td>\n",
              "    </tr>\n",
              "    <tr>\n",
              "      <th>2018</th>\n",
              "      <td>5.253283</td>\n",
              "      <td>5.312500</td>\n",
              "      <td>5.000</td>\n",
              "      <td>5.031447</td>\n",
              "    </tr>\n",
              "    <tr>\n",
              "      <th>2019</th>\n",
              "      <td>2.376485</td>\n",
              "      <td>2.343750</td>\n",
              "      <td>2.500</td>\n",
              "      <td>2.515723</td>\n",
              "    </tr>\n",
              "  </tbody>\n",
              "</table>\n",
              "</div>"
            ],
            "text/plain": [
              "       dataset     train   test       val\n",
              "1998  0.813008  0.859375  0.625  0.628931\n",
              "1999  2.876798  2.812500  3.125  3.144654\n",
              "2000  1.438399  1.484375  1.250  1.257862\n",
              "2001  3.314572  3.359375  3.125  3.144654\n",
              "2002  3.564728  3.515625  3.750  3.773585\n",
              "2003  4.002502  4.062500  3.750  3.773585\n",
              "2004  5.378361  5.312500  5.625  5.660377\n",
              "2005  5.440901  5.390625  5.625  5.660377\n",
              "2006  5.065666  5.078125  5.000  5.031447\n",
              "2007  5.503440  5.468750  5.625  5.660377\n",
              "2008  4.127580  4.062500  4.375  4.402516\n",
              "2009  6.504065  6.562500  6.250  6.289308\n",
              "2010  6.504065  6.562500  6.250  6.289308\n",
              "2011  7.317073  7.265625  7.500  7.547170\n",
              "2012  5.440901  5.390625  5.625  5.660377\n",
              "2013  6.441526  6.484375  6.250  6.289308\n",
              "2014  5.941213  5.937500  6.250  5.660377\n",
              "2015  5.753596  5.781250  5.625  5.660377\n",
              "2016  3.377111  3.437500  3.125  3.144654\n",
              "2017  3.564728  3.515625  3.750  3.773585\n",
              "2018  5.253283  5.312500  5.000  5.031447\n",
              "2019  2.376485  2.343750  2.500  2.515723"
            ]
          },
          "metadata": {
            "tags": []
          },
          "execution_count": 347
        }
      ]
    },
    {
      "cell_type": "code",
      "metadata": {
        "id": "4wWEvLGydtn3",
        "colab": {
          "base_uri": "https://localhost:8080/",
          "height": 707
        },
        "outputId": "6f4dca13-6333-48d6-bdf9-1c98e3f7b025"
      },
      "source": [
        "#Même comparaison pour les y (réponses)\r\n",
        "repart_train_y = ((y_train.value_counts()/y_train.describe()[0]) * 100)\r\n",
        "repart_test_y = ((y_test.value_counts()/y_test.describe()[0]) * 100)\r\n",
        "repart_val_y = ((y_val.value_counts()/y_val.describe()[0]) * 100)\r\n",
        "\r\n",
        "repartition_y = pd.DataFrame({'dataset' : repart_dataset ,'train':repart_train_y, 'test':repart_test_y, \"val\" : repart_val_y })\r\n",
        "repartition_y"
      ],
      "execution_count": 348,
      "outputs": [
        {
          "output_type": "execute_result",
          "data": {
            "text/html": [
              "<div>\n",
              "<style scoped>\n",
              "    .dataframe tbody tr th:only-of-type {\n",
              "        vertical-align: middle;\n",
              "    }\n",
              "\n",
              "    .dataframe tbody tr th {\n",
              "        vertical-align: top;\n",
              "    }\n",
              "\n",
              "    .dataframe thead th {\n",
              "        text-align: right;\n",
              "    }\n",
              "</style>\n",
              "<table border=\"1\" class=\"dataframe\">\n",
              "  <thead>\n",
              "    <tr style=\"text-align: right;\">\n",
              "      <th></th>\n",
              "      <th>dataset</th>\n",
              "      <th>train</th>\n",
              "      <th>test</th>\n",
              "      <th>val</th>\n",
              "    </tr>\n",
              "  </thead>\n",
              "  <tbody>\n",
              "    <tr>\n",
              "      <th>1998</th>\n",
              "      <td>0.813008</td>\n",
              "      <td>0.859375</td>\n",
              "      <td>0.625</td>\n",
              "      <td>0.628931</td>\n",
              "    </tr>\n",
              "    <tr>\n",
              "      <th>1999</th>\n",
              "      <td>2.876798</td>\n",
              "      <td>2.812500</td>\n",
              "      <td>3.125</td>\n",
              "      <td>3.144654</td>\n",
              "    </tr>\n",
              "    <tr>\n",
              "      <th>2000</th>\n",
              "      <td>1.438399</td>\n",
              "      <td>1.484375</td>\n",
              "      <td>1.250</td>\n",
              "      <td>1.257862</td>\n",
              "    </tr>\n",
              "    <tr>\n",
              "      <th>2001</th>\n",
              "      <td>3.314572</td>\n",
              "      <td>3.359375</td>\n",
              "      <td>3.125</td>\n",
              "      <td>3.144654</td>\n",
              "    </tr>\n",
              "    <tr>\n",
              "      <th>2002</th>\n",
              "      <td>3.564728</td>\n",
              "      <td>3.515625</td>\n",
              "      <td>3.750</td>\n",
              "      <td>3.773585</td>\n",
              "    </tr>\n",
              "    <tr>\n",
              "      <th>2003</th>\n",
              "      <td>4.002502</td>\n",
              "      <td>4.062500</td>\n",
              "      <td>3.750</td>\n",
              "      <td>3.773585</td>\n",
              "    </tr>\n",
              "    <tr>\n",
              "      <th>2004</th>\n",
              "      <td>5.378361</td>\n",
              "      <td>5.312500</td>\n",
              "      <td>5.625</td>\n",
              "      <td>5.660377</td>\n",
              "    </tr>\n",
              "    <tr>\n",
              "      <th>2005</th>\n",
              "      <td>5.440901</td>\n",
              "      <td>5.390625</td>\n",
              "      <td>5.625</td>\n",
              "      <td>5.660377</td>\n",
              "    </tr>\n",
              "    <tr>\n",
              "      <th>2006</th>\n",
              "      <td>5.065666</td>\n",
              "      <td>5.078125</td>\n",
              "      <td>5.000</td>\n",
              "      <td>5.031447</td>\n",
              "    </tr>\n",
              "    <tr>\n",
              "      <th>2007</th>\n",
              "      <td>5.503440</td>\n",
              "      <td>5.468750</td>\n",
              "      <td>5.625</td>\n",
              "      <td>5.660377</td>\n",
              "    </tr>\n",
              "    <tr>\n",
              "      <th>2008</th>\n",
              "      <td>4.127580</td>\n",
              "      <td>4.062500</td>\n",
              "      <td>4.375</td>\n",
              "      <td>4.402516</td>\n",
              "    </tr>\n",
              "    <tr>\n",
              "      <th>2009</th>\n",
              "      <td>6.504065</td>\n",
              "      <td>6.562500</td>\n",
              "      <td>6.250</td>\n",
              "      <td>6.289308</td>\n",
              "    </tr>\n",
              "    <tr>\n",
              "      <th>2010</th>\n",
              "      <td>6.504065</td>\n",
              "      <td>6.562500</td>\n",
              "      <td>6.250</td>\n",
              "      <td>6.289308</td>\n",
              "    </tr>\n",
              "    <tr>\n",
              "      <th>2011</th>\n",
              "      <td>7.317073</td>\n",
              "      <td>7.265625</td>\n",
              "      <td>7.500</td>\n",
              "      <td>7.547170</td>\n",
              "    </tr>\n",
              "    <tr>\n",
              "      <th>2012</th>\n",
              "      <td>5.440901</td>\n",
              "      <td>5.390625</td>\n",
              "      <td>5.625</td>\n",
              "      <td>5.660377</td>\n",
              "    </tr>\n",
              "    <tr>\n",
              "      <th>2013</th>\n",
              "      <td>6.441526</td>\n",
              "      <td>6.484375</td>\n",
              "      <td>6.250</td>\n",
              "      <td>6.289308</td>\n",
              "    </tr>\n",
              "    <tr>\n",
              "      <th>2014</th>\n",
              "      <td>5.941213</td>\n",
              "      <td>5.937500</td>\n",
              "      <td>6.250</td>\n",
              "      <td>5.660377</td>\n",
              "    </tr>\n",
              "    <tr>\n",
              "      <th>2015</th>\n",
              "      <td>5.753596</td>\n",
              "      <td>5.781250</td>\n",
              "      <td>5.625</td>\n",
              "      <td>5.660377</td>\n",
              "    </tr>\n",
              "    <tr>\n",
              "      <th>2016</th>\n",
              "      <td>3.377111</td>\n",
              "      <td>3.437500</td>\n",
              "      <td>3.125</td>\n",
              "      <td>3.144654</td>\n",
              "    </tr>\n",
              "    <tr>\n",
              "      <th>2017</th>\n",
              "      <td>3.564728</td>\n",
              "      <td>3.515625</td>\n",
              "      <td>3.750</td>\n",
              "      <td>3.773585</td>\n",
              "    </tr>\n",
              "    <tr>\n",
              "      <th>2018</th>\n",
              "      <td>5.253283</td>\n",
              "      <td>5.312500</td>\n",
              "      <td>5.000</td>\n",
              "      <td>5.031447</td>\n",
              "    </tr>\n",
              "    <tr>\n",
              "      <th>2019</th>\n",
              "      <td>2.376485</td>\n",
              "      <td>2.343750</td>\n",
              "      <td>2.500</td>\n",
              "      <td>2.515723</td>\n",
              "    </tr>\n",
              "  </tbody>\n",
              "</table>\n",
              "</div>"
            ],
            "text/plain": [
              "       dataset     train   test       val\n",
              "1998  0.813008  0.859375  0.625  0.628931\n",
              "1999  2.876798  2.812500  3.125  3.144654\n",
              "2000  1.438399  1.484375  1.250  1.257862\n",
              "2001  3.314572  3.359375  3.125  3.144654\n",
              "2002  3.564728  3.515625  3.750  3.773585\n",
              "2003  4.002502  4.062500  3.750  3.773585\n",
              "2004  5.378361  5.312500  5.625  5.660377\n",
              "2005  5.440901  5.390625  5.625  5.660377\n",
              "2006  5.065666  5.078125  5.000  5.031447\n",
              "2007  5.503440  5.468750  5.625  5.660377\n",
              "2008  4.127580  4.062500  4.375  4.402516\n",
              "2009  6.504065  6.562500  6.250  6.289308\n",
              "2010  6.504065  6.562500  6.250  6.289308\n",
              "2011  7.317073  7.265625  7.500  7.547170\n",
              "2012  5.440901  5.390625  5.625  5.660377\n",
              "2013  6.441526  6.484375  6.250  6.289308\n",
              "2014  5.941213  5.937500  6.250  5.660377\n",
              "2015  5.753596  5.781250  5.625  5.660377\n",
              "2016  3.377111  3.437500  3.125  3.144654\n",
              "2017  3.564728  3.515625  3.750  3.773585\n",
              "2018  5.253283  5.312500  5.000  5.031447\n",
              "2019  2.376485  2.343750  2.500  2.515723"
            ]
          },
          "metadata": {
            "tags": []
          },
          "execution_count": 348
        }
      ]
    },
    {
      "cell_type": "code",
      "metadata": {
        "id": "YUwDeMOL5xj6"
      },
      "source": [
        "#On peut le voir ici la répartition des données a légérement changé mais pas enormement \r\n",
        "#On ne retrouve aucun changement crucial: \r\n",
        "#Il ne manque aucune année à part 1997 dans le test set mais cette année est très peu représenté dans le dataset original)\r\n",
        "#Aucun pourcentage n'est non plus anormalement haut ou bas, vue la repartition 80/10/10 il va etre dur de faire mieux\r\n",
        "#Après observation nous avons rajouté le paarmetre statify dans la fonction de split amenant au dernier resultats bien meilleur que les précédents (screen dans le rapport)\r\n",
        "#La séparation en train, test et validation set est optimale pour x et y"
      ],
      "execution_count": null,
      "outputs": []
    },
    {
      "cell_type": "code",
      "metadata": {
        "id": "ZtxY04B_70Mt"
      },
      "source": [
        "#Peut etre retirer les données de 1997 dans le train set (puisqu'il ne sont pas présents dans le dataset y )\r\n",
        "#Comme dit plus haut c'est ici que nous avons choisis de supprimer les lignes de 1997 (voir screen dans rapport)"
      ],
      "execution_count": 101,
      "outputs": []
    },
    {
      "cell_type": "code",
      "metadata": {
        "id": "GGY6OWeAi9dD"
      },
      "source": [
        "#On retire maintenant la colonne publication_date des sets x \r\n",
        "del x_train[\"publication_date\"]\r\n",
        "del x_test[\"publication_date\"]\r\n",
        "del x_val[\"publication_date\"]"
      ],
      "execution_count": 349,
      "outputs": []
    },
    {
      "cell_type": "markdown",
      "metadata": {
        "id": "oZjR_TFSrO8R"
      },
      "source": [
        "## 2) Word2Vec"
      ]
    },
    {
      "cell_type": "code",
      "metadata": {
        "id": "u8Nxvjpj0DXq"
      },
      "source": [
        "from gensim.models import Word2Vec, FastText"
      ],
      "execution_count": 362,
      "outputs": []
    },
    {
      "cell_type": "code",
      "metadata": {
        "colab": {
          "base_uri": "https://localhost:8080/"
        },
        "id": "m-f8cB1B235O",
        "outputId": "65eda583-65fa-477e-df28-90ee34eef267"
      },
      "source": [
        "#Essayons de faire un word2Vec\r\n",
        "#On a besoin de tokennizer le texte pour utiliser le word2Vec\r\n",
        "text = \"element conception systeme interpretation automatique texte imageconsiderer travail tache traitement automatique\"\r\n",
        "from nltk.tokenize import word_tokenize\r\n",
        "test = word_tokenize(text)\r\n",
        "test"
      ],
      "execution_count": 494,
      "outputs": [
        {
          "output_type": "execute_result",
          "data": {
            "text/plain": [
              "['element',\n",
              " 'conception',\n",
              " 'systeme',\n",
              " 'interpretation',\n",
              " 'automatique',\n",
              " 'texte',\n",
              " 'imageconsiderer',\n",
              " 'travail',\n",
              " 'tache',\n",
              " 'traitement',\n",
              " 'automatique']"
            ]
          },
          "metadata": {
            "tags": []
          },
          "execution_count": 494
        }
      ]
    },
    {
      "cell_type": "code",
      "metadata": {
        "id": "QtXDi6dh3Y1Y"
      },
      "source": [
        "#Tokennize toutes une colonnes\r\n",
        "x_train_tk = x_train.copy()\r\n",
        "i = 0 \r\n",
        "x_train_tk[\"text_title_proc_tk\"] = x_train_tk[\"text_title_proc\"]\r\n",
        "for row in x_train_tk[\"text_title_proc\"]:\r\n",
        "    row = word_tokenize(row)\r\n",
        "    x_train_tk[\"text_title_proc_tk\"][i] = row\r\n",
        "    i = i +1\r\n",
        "\r\n",
        "x_train_tk[\"text_title_proc_tk\"]"
      ],
      "execution_count": null,
      "outputs": []
    },
    {
      "cell_type": "code",
      "metadata": {
        "colab": {
          "base_uri": "https://localhost:8080/"
        },
        "id": "u8vQBvAU02oc",
        "outputId": "943f5f53-bbed-4e13-9b86-609b0efa2787"
      },
      "source": [
        "#Word2Vec\r\n",
        "w2v = Word2Vec(x_train_tk[\"text_title_proc_tk\"], min_count=1, size = 5)\r\n",
        "print(w2v)"
      ],
      "execution_count": 496,
      "outputs": [
        {
          "output_type": "stream",
          "text": [
            "Word2Vec(vocab=7323, size=5, alpha=0.025)\n"
          ],
          "name": "stdout"
        }
      ]
    },
    {
      "cell_type": "code",
      "metadata": {
        "colab": {
          "base_uri": "https://localhost:8080/"
        },
        "id": "DCpstVJb2Fm_",
        "outputId": "91561c87-eb5b-4ed3-a798-02da912b7b2e"
      },
      "source": [
        "words = list(w2v.wv.vocab)\r\n",
        "print(words)"
      ],
      "execution_count": 497,
      "outputs": [
        {
          "output_type": "stream",
          "text": [
            "['the', 'mitkov', 'algorithm', 'for', 'anaphora', 'resolution', 'in', 'portuguesenone', 'o', 'r', 'd', 'n', 'a', 'c', 'e', 'm', 't', ' ', 'p', 's', 'y', 'i', 'l', 'g', 'u', 'b', 'x', 'v', 'h', 'f', 'q', '7', '6', '2', '1', '5', 'acquisition', 'lexiqu', 'bilingue', 'expression', 'polylexicale', 'application', 'traduction', 'automatique', 'statistiquearticle', 'decrire', 'methode', 'permettre', 'acquerir', 'epls', 'partir', 'corpus', 'parallele', 'francais', 'anglais', 'identifier', 'premier', 'temps', 'epl', 'chaque', 'partie', 'ensuite', 'proposer', 'algorithme', 'alignement', 'assurer', 'mise', 'correspondance', 'mesurer', 'apport', 'construit', 'evaluation', 'baser', 'tache', 'statistique', 'tas', 'etre', 'mener', 'etudier', 'performance', 'trois', 'strategie', 'dynamique', 'statique', 'integrer', 'lexique', 'systeme', 'experience', 'cadre', 'montrent', 'unite', 'ameliorent', 'significativement', 'qualite', 'cetlef', 'fr', 'diagnostic', 'erreur', 'declinaison', 'tcheque', 'outil', 'elaocetlef', 'web', 'propose', 'exercice', 'avoir', 'necessiter', 'elaboration', 'modele', 'formel', 'specifique', 'contenir', 'classement', 'type', 'paradigmatique', 'regle', 'realisation', 'alternance', 'morphematique', 'employer', 'annotation', 'forme', 'requis', 'necessaire', 'egalement', 'presentation', 'didactique', 'plateforme', 'apprenant', 'effectuer', 'comparaison', 'production', 'erroner', 'hypothetique', 'generer', 'radical', 'requerir', 'different', 'desinence', 'casuel', 'existe', 'interpreter', 'apres', 'difference', 'trait', 'morphologique', 'majorite', 'commettre', 'pouvoir', 'aide', 'technique', 'dictionnaire', 'co', 'occurrence', 'grand', 'publicantidote', 'rx', 'logiciel', 'redaction', 'public', 'comporte', 'nouveau', 'dictionnair', '800', '000', 'elaborer', 'essentiellement', 'automatiquement', 'creer', 'analyse', 'syntaxique', 'detailler', 'vaste', 'corpu', 'selection', 'plus', 'pertinent', 'test', 'rapport', 'vraisemblance', 'illustrer', 'exemple', 'phrase', 'tirer', 'extraire', 'reviser', 'linguiste', 'examiner', 'choix', 'interface', 'faire', 'presenter', 'donnee', 'complexe', 'non', 'specialiser', 'enfin', 'montrer', 'comment', 'correcteur', 'antidote', 'ameliorer', 'contexte', 'multi', 'lingue', 'aligner', 'desambiguisation', 'semantique', 'etude', 'experimentalarticle', 'interesse', 'lexical', 'travers', 'appliquer', 'superviser', 'reseau', 'degager', 'critere', 'determiner', 'priori', 'si', 'chance', 'desambiguiser', 'mutuellement', 'developper', 'method', 'fonder', 'apprentissage', 'afin', 'quel', 'information', 'traductionnel', 'devoir', 'prendre', 'compte', 'obtenir', 'amelioration', 'resultat', 'influence', 'marqueur', 'polaire', 'dependre', 'domaine', 'fouille', 'opinion', 'niveau', 'textemethode', 'detection', 'texte', 'appuyer', 'association', 'polarite', 'al', 'mot', 'or', 'certain', 'varier', 'selon', 'thematique', 'article', 'groupe', 'changeer', 'fonction', 'fois', 'prise', 'maniere', 'significatif', 'classification', 'lors', 'adaptation', 'sourc', 'cibl', 'utiler', 'limite', 'lorsque', 'presence', 'melange', 'explicite', 'utiliser', 'separation', 'document', 'disfluence', 'oralpresenter', 'essai', 'linguistique', 'initialement', 'prevoir', 'ecrit', 'vue', 'prototype', 'parol', 'approfondir', 'modification', 'grammaire', 'traiter', 'cas', 'simple', 'pause', 'remplir', 'repetition', 'isole', 'etc', 'autre', 'comme', 'auto', 'correction', 'syntagme', 'point', 'mecanisme', 'controle', 'limiter', 'combinatoire', 'mettre', 'evidence', 'difficulte', 'traitement', 'phenomene', 'tel', 'amorce', 'interrompus', 'construction', 'inachever', 'instant', 'restent', 'sans', 'solution', 'satisfaisant', 'tool', 'detecting', 'french', 'english', 'cognates', 'and', 'false', 'friendcongenere', 'moins', 'sens', 'commun', 'entre', 'deux', 'langue', 'orthographie', 'semblable', 'reconnaissance', 'second', 'etranger', 'enrichir', 'rapidement', 'vocabulair', 'comprehension', 'ecrire', 'toutefois', 'faux', 'ami', 'paire', 'similarite', 'signification', 'part', 'congenere', 'partiel', 'chacun', 'presente', 'classer', 'mesure', 'orthographique', 'ainsi', 'construire', 'liste', 'complet', 'evaluer', 'anglai', 'applicable', 'autres', 'marque', 'but', 'aider', 'langu', 'meilleur', 'retention', 'chunker', 'endogenechunking', 'consiste', 'segmenter', 'chunk', 'segment', 'sous', 'phrastique', 'abney', 'defini', 'approximativement', 'accentuel', 'traditionnellement', 'chunking', 'utilise', 'ressource', 'monolingue', 'souvent', 'exhaustif', 'quelquefois', 'grammatical', 'ponctuation', 'marquer', 'debut', 'fin', 'vouloir', 'etendre', 'nombreux', 'necessite', 'multiplier', 'endogene', 'aucun', 'hormis', 'analyser', 'prolonge', 'travail', 'zipf', 'minimisation', 'effort', 'communication', 'conduire', 'locuteur', 'raccourcir', 'frequent', 'alors', 'caracteriser', 'periode', 'periodique', 'correlleer', 'longueur', 'effectif', 'axe', 'syntagmatique', 'original', 'avantage', 'nombre', 'ecriture', 'alphabetique', 'pastel', 'cours', 'magistralprojet', 'acceptabilite', 'utilisabilite', 'transcription', 'enseignement', 'magistral', 'agir', 'outiller', 'synchrone', 'auxquelle', 'acces', 'durant', 'seance', 'enrichissement', 'langage', 'naturel', 'porter', 'enregistrement', 'enregistrer', 'projet', 'cominopencoursewar', 'viser', 'segmentation', 'appariement', 'reel', 'externe', 'comprendre', 'neuf', 'heure', 'parole', 'annoter', 'preliminaire', 'realiser', 'couple', 'peu', 'dotearticle', 'comparable', 'exploiter', 'detecter', 'processus', 'iteratif', 'executer', 'seulement', 'augmenter', 'aussi', 'global', 'semi', 'supervisee', 'supervise', 'reellement', 'ou', 'manque', 'bien', 'succes', 'doter', 'vietnamien', 'pronom', 'demonstratif', 'araberesolution', 'anaphore', 'difficile', 'taln', 'capacite', 'classifier', 'avant', 'tenter', 'important', 'puisque', 'cataphoriqu', 'chercher', 'antecedent', 'suivre', 'anaphorique', 'preceder', 'outre', 'juger', 'trivial', 'arabe', 'situe', 'approche', 'composer', '365585', '14318', 'encourageant', '99', '3', 'pourcent', 'prototypage', 'rapide', 'dialogue', 'finaliseobjectif', 'contribution', 'integration', 'notion', 'methodologie', 'oeuvre', 'infovox', 'idee', 'central', 'deriver', 'operationnel', 'directement', 'lequel', 'associer', 'systematique', 'aspect', 'utile', 'des', 'phase', 'conception', 'defauts', 'tout', 'conclusion', 'concret', 'extraction', 'optimiser', 'terminologique', 'terminologiqueavoir', 'extracteur', 'terme', 'controler', 'optimisation', 'anr', 'sensuniqu', 'prouver', 'multiextraction', 'dire', 'cooperation', 'plusieurs', 'donne', 'meilleurs', 'via', 'seul', 'reduire', 'silence', 'filtrer', 'bruit', 'grace', 'variation', 'indice', 'relatif', 'potentiel', 'hierarchisation', 'dependancielle', 'ltagdepuis', 'preference', 'attachement', 'droite', 'minimal', 'formuler', 'arbre', 'constituant', 'noeuds', 'principe', 'derivation', 'dependanciell', 'formalisme', 'adjoint', 'lexicaliser', 'ltag', 'pourquoi', 'remedier', 'structural', 'exprimer', 'rendent', 'heuristique', 'largement', 'acceptee', 'argument', 'modifieur', 'idiome', 'vers', 'charge', 'timemltravail', 'dernier', 'annee', 'autour', 'iteration', 'tant', 'communaute', 'celui', 'tal', 'jour', 'particulier', 'reductible', 'representation', 'temporel', 'classique', 'savoir', 'structurellement', 'enumeration', 'proces', 'jeu', 'simultanement', 'visee', 'aspectuel', 'independant', 'timeml', 'vocation', 'integre', 'deja', 'element', 'avancer', 'entreprendre', 'extension', 'z', 'k', '0', 'fort', 'abusifcertain', 'abusivemer', 'utilisee', 'place', 'faible', 'deboucher', 'graphique', 'ebauche', 'reperer', 'abusif', 'analyseur', 'discriminant', 'famille', 'lr', 'constituantpropose', 'deterministe', 'inspirer', 'knuth', '1965', 'collin', '2002', 'montre', 'discriminer', 'capturer', 'finement', 'etat', 'art', 'exactitude', 'fmo', 'opiniondecrire', 'ci', 'moteur', 'porteur', 'attribuer', 'note', 'perspective', 'envisager', '8', 'w', 'j', '9', '4', 'validation', 'integral', 'shtravail', 'focaliser', 'candidat', 'proviennent', 'scientifique', 'science', 'issu', 'scientext1', 'plate', 'ttc', 'termsuite', 'projeter', 'problematique', 'general', 'fournir', 'valider', 'rejeter', 'relever', 'usage', 'transdisciplinaire', 'repondre', 'question', 'comparer', 'exploitation', 'inspiree', 'textometrie', 'lesk', 'manuellement', 'mesuron', 'ameliore', 'reponse', 'reponsesysteme', 'plupart', 'module', 'interesser', 'troisieme', 'particulierement', 'delicat', 'attendre', 'entiter', 'nommer', 'cass', 'candidate', 'prealable', 'evaluon', 'dedie', 'car', 'etape', 'final', 'etiquetage', 'party', 'discours', 'specialisation', 'plongement', 'lexicalarticle', 'adapter', 'dotee', 'definition', 'vecteur', 'inconnus', 'picard', 'malgache', 'alsacien', 'categorisation', 'adjectif', 'generiquearticle', 'manuel', 'schema', 'independer', 'decision', 'classe', 'concept', 'couverture', 'critique', 'restaurant', 'genericite', 'comparant', 'commentaire', 'film', 'extrinseque', 'internaute', 'inference', 'reecriture', 'biomedicaldomaine', 'biomedical', 'caractere', 'probleme', 'importance', 'traduire', 'entierement', 'repose', 'utilisation', 'differents', 'espagnol', 'portugais', 'russe', 'tres', 'efficace', 'offrir', 'variable', 'bon', 'ensemble', 'nettement', 'superieur', 'disponible', 'taux', 'precision', 'etager', '57', 'angler', 'jusque', '85', 'macaon', 'chaine', 'graphe', 'motnone', 'proposition', 'methodologique', 'community', 'manager', 'junk', 'foodarticle', 'identification', 'message', 'suspecter', 'produire', 'commercial', 'deguiser', 'champ', 'malbouffe', 'junkfood', 'chinois', 'exposer', 'constitution', 'expliciter', 'notamment', 'guide', 'puis', 'adopte', 'combinaison', 'textometriqu', 'textearticle', 'heterogeneite', 'textuel', 'possibilite', 'hypothese', 'aborder', 'biber', '1993', 'donner', 'lieu', 'verification', 'empirique', 'sekine', '1998', 'dont', 'explicitement', 'venir', 'induire', 'apprendre', 'facon', 'trouver', 'confondre', 'coupable', 'sophistiquer', 'lexiquecouverture', 'developpement', 'precis', 'ardue', 'long', 'haleine', 'surtout', 'atteindre', 'capable', 'entree', 'manquante', 'incomplet', 'suggerer', 'realise', 'moyen', 'reposer', 'etiqueteur', 'entrer', 'apparaissent', 'divers', 'classifieur', 'entropie', 'lefff', 'large', 'notable', 'jouer', 'syntaxiquepresenter', 'dyalog', 'sr', 'dependance', 'developpe', 'sprml', '2013', 'implemente', 'transition', 'malt', 'faisceau', 'programmation', 'particularite', 'provenir', 'treillis', 'spmrl13', 'hebreu', 'reprendre', 'recemment', 'sxpipe', 'disposer', 'ailleurs', 'frmg', 'alternatif', 'experimenter', 'couplage', 'treebank', 'referentiel', 'experimentationappuyer', 'assister', 'surmonter', 'concretement', 'masse', 'considerer', 'subjectivite', 'jugement', 'terminologie', 'rendre', 'praticable', 'terminologue', 'demontrer', 'efficacite', 'echantillon', 'specialiste', 'campagne', 'poser', 'resulte', 'generation', 'gramme', 'tag', 'revisiter', 'categoriel', 'abstraitegramme', 'propre', 'surface', 'conceptuel', 'concevoir', 'synthese', 'objectif', 'introduire', 'biais', 'abstrait', 'acg', 'propriete', 'reversibilite', 'intrinseque', 'encodage', 'clef', 'lexicalisation', 'naturellement', 'absent', 'supplementaire', 'interpretation', 'probabiliste', 'factivitepresenter', 'formalisation', 'factivite', 'dimension', 'representer', 'degre', 'croyance', 'source', 'auteur', 'agent', 'mentionner', 'accorde', 'eventualite', 'insister', 'interaction', 'structure', 'discursif', 'probabilite', 'affranchir', 'principal', 'precedent', 'calcul', 'coherent', 'echelle', 'totalite', 'prepositionnel', 'visueldesambiguisation', 'rattachement', 'demande', 'connaissance', 'image', 'entrainer', 'version', 'flickr30k', 'entitie', 'visuel', 'apporte', 'bibliotheque', 'automate', 'finis', 'context', 'free', 'informatiquequantite', 'internet', 'explose', 'situation', 'incite', 'rechercher', 'localisation', 'pencher', 'algorithmique', 'strictement', 'fini', 'cycles', 'informatique', 'stockage', 'couteux', 'memoire', 'rhetorique', 'connecteur', 'concessif', 'homme', 'machineconnecteur', 'role', 'dialogique', 'donc', 'enonce', 'relier', 'oral', 'averer', 'essentiel', 'illocutoire', 'computationnel', 'monologique', 'tandis', 'recherche', 'etablir', 'quasiment', 'biunivoque', 'relation', 'papier', 'guider', 'contraindre', 'condition', 'coherence', 'pertinence', 'concerne', 'contrainte', 'sdrt', 'segmented', 'discourse', 'theory', 'plonger', 'ecole', 'genevois', 'moeschler', 'resulter', 'emploi', 'estimation', 'homogeneite', 'questionnaire', 'multiplehomogeneite', 'stipule', 'semantiquement', 'proche', 'similaire', 'coeur', 'multiple', 'distracteur', 'voisinage', 'distributionnelle', 'nom', 'scientifiqueetude', 'souhaitons', 'faciliter', 'definir', 'tester', 'observon', 'proximite', 'approprier', 'apparaitre', 'verifier', 'cela', 'semble', 'predire', 'complexite', 'graduer', 'motanalyser', 'depuis', 'toujours', 'principalement', 'retenir', 'attention', 'psycholinguiste', 'enseignant', 'objet', 'interet', 'grandir', 'simplification', 'automatiser', 'contenu', 'aborde', 'predicteur', 'correlationnel', 'nemesi', 'incrementiel', 'entite', 'francaisarticle', 'conflit', 'engendrer', 'quelque', 'resoudre', 'specification', 'consequemment', 'base', 'exploite', 'specialise', 'anthroponyme', 'toponyme', '90', 'rappel', '95', 'modelisation', 'linguistiquer', 'industrielarticle', 'lecteur', 'repandre', 'monde', 'merise', 'uml', 'associe', 'proprietemethode', 'hybride', 'symbolique', 'squelette', 'calculer', 'correlation', 'categorie', 'satisfaction', 'decrivent', 'metae', 'exploration', 'medicalpresenter', 'medical', 'appelee', 'present', 'fondre', 'patron', 'manuellemer', 'meta', 'rdf', 'requete', 'formulaire', 'interroger', 'previent', 'maladie', 'alzheimer', 'equivalent', 'prevenir', 'taille', 'chunkmontrer', 'etroite', 'existant', 'morpho', 'devient', 'lineaire', 'demonstration', 'experimentation', 'suite', 'passage', '2007', 'clergerie', '2008', 'comportement', 'participer', 'vise', 'court', 'assimiler', 'super', 'enrichie', 'motif', 'sequentielclassification', 'contigus', 'descripteurs', 'descripteur', 'contigu', 'augment', 'exponentiellement', 'pallier', 'croissance', 'sequentiel', 'reduit', 'libre', 'inconvenient', 'prediction', 'pragmatique', 'reformulationreformulation', 'participe', 'structuration', 'contribue', 'reformuler', 'acte', 'poursuivre', 'raison', 'effectue', 'reformulation', 'onze', 'reference', 'consensuel', 'spontane', 'former', 'dison', 'discussion', 'forum', 'sante', 'distribution', 'phraser', 'homogene', 'positionner', 'generique', 'indiquer', 'facile', 'moyenne', '80', 'individuel', '40', 'parametre', 'verbal', 'variabilite', 'corpusreconnaissance', 'approprie', 'ep', 'constituer', 'enjeu', 'susceptible', 'canonique', 'profil', 'apercu', '4441', 'epv', 'annotee', 'poursuivi', 'variante', 'audiovisuelindexation', 'audiovisuel', 'indispensable', 'archivage', 'reveler', 'cause', 'multiplicite', 'attacher', 'instanciation', 'indexation', 'journal', 'amorcage', 'hierachise', 'connaitre', 'taxinomiquer', 'ontologie', 'support', 'expert', 'surete', 'industriel', 'retour', 'experiencearticle', 'maitrise', 'risque', 'volumineux', 'rex', 'abord', 'gestion', 'politique', 'social', 'activite', 'besoin', 'deuxieme', 'serie', 'reperage', 'clustering', 'pronominal', 'postulat', 'epreuve', 'finalisearticle', 'machine', 'faisabilite', 'portage', 'accord', 'distance', 'friable', 'finalise', 'reutiliser', 'linguistiquement', 'contraindrearticle', 'specificite', 'navigation', 'aerien', 'implique', 'concerner', 'implementation', 'constater', 'syntaxe', 'ici', 'expliquer', 'dispositif', '400', 'constance', 'incompletude', 'informatiser', 'conster', 'inconnu', 'varient', 'grandement', 'etroitement', 'lier', 'creativite', 'argumentatif', 'acl', 'anthology', 'text', 'zoning', 'mieux', 'recent', 'faiblement', 'permettent', 'nominal', 'predicatif', 'lien', 'informationidentification', 'quand', 'litterature', 'abondant', 'sujet', 'genomique', 'verbe', 'unir', 'nominalisation', 'actant', 'tete', 'gnp', 'paraphrastique', 'unifier', 'nomino', 'decrivon', 'link', 'parser', 'biologie', 'daniel', 'veille', 'epidemiologique', 'parcimonieusedaniel', 'cout', 'parcimonieux', 'description', 'itineraire', 'metrodeplacer', 'pied', 'humain', 'courant', 'cependant', 'chemin', 'suppose', 'iconique', 'croquis', 'carte', 'metro', 'generateur', 'mod', 'ele', 'cognitif', 'facteur', 'stylistique', 'premices', 'projectivearticle', 'traditionnel', 'discontinu', 'entrainement', 'aller', 'servir', 'configuration', 'annote', 'glozzqlmultiplication', 'multiplication', 'annotateur', 'parfois', 'etablissement', 'explorer', 'possible', 'operationalisation', 'glozz', 'glozzql', 'continus', 'traductionalors', 'neuronal', 'occuper', 'actuel', 'utilisent', 'decorreler', 'metrique', 'sein', 'maximum', 'contrastif', 'bruiter', 'semin', 'aire', 'ted', 'talk', 'depender', 'initialisation', 'idoine', 'judicieux', 'gain', 'score', 'bleu', 'emotion', 'santetravail', 'psychologie', 'angle', 'interdisciplinaire', 'personne', 'malade', 'interrogation', 'nooj', 'sequence', 'mondeproposer', 'architecture', 'caracteristique', 'recurrent', 'bidirectionnel', 'encodeur', 'decodeur', 'transformer', 'environ', 'informativite', 'phrasepresenter', 'quantite', 'compose', 'robuster', 'conclure', 'correspondre', 'neanmoins', 'impact', 'syntaxiquetravail', 'cherche', 'chuter', 'fortement', 'hors', 'jouet', 'masquage', 'essayer', 'effet', 'developpemer', 'persan', 'surfacepresenter', 'perlex', 'libremer', 'accompagner', 'morphologie', 'alexina', 'normalisation', 'typographique', 'depart', 'qristal', 'reponseqristal', 'massivement', 'equer', 'evalda', 'technolanguez', 'fonctionnel', 'complementaire', 'situer', 'reaction', 'utilisateur', 'incitent', 'reflexion', 'ergonomie', 'face', 'dualite', 'representationproposer', 'caracterise', 'comparatif', 'lexicaux', 'complexelitterature', 'resume', 'posseder', 'latent', 'travailler', 'introduison', 'coherente', 'factorisation', 'matrice', 'couramment', 'structuree', 'pre', 'traitemer', 'discuter', 'communautes', 'semblent', 'interpretable', 'presque', 'instantane', 'envisageable', 'incremental', 'typer', 'partitionstructure', 'agreable', 'relativement', 'harmonieusemer', 'compiler', 'finie', 'compilation', 'regulier', 'partition', 'expressivite', 'rapproche', 'unification', 'morphologiquement', 'richessi', 'progres', '20', 'riche', 'mitiger', 'nature', 'respectueux', 'allemand', 'conference', 'dedier', 'syntaxiqueetude', 'syntex', 'porte', 'synte', 'preposition', '200', 'million', 'etiquete', 'partiellement', 'syntaxiquemer', 'genre', 'main', 'centaine', 'ambigu', 'acquis', 'exogene', 'acquise', 'mixte', '79', '87', 'lexico', 'radiologieontologie', 'valeur', 'inestimable', 'malgre', 'defi', 'portee', 'combiner', 'specialite', 'manqu', 'frequentiel', 'rare', 'inferabl', 'radiologie', 'generaliste', 'jeuxdemots', 'combin', 'poids', 'reconciliation', 'imposer', 'specialemer', 'celle', 'grammair', 'valuer', 'syntaxiquegrammaire', 'stochastique', 'efficacer', 'probabilisation', 'mathematique', 'intuitivemer', 'scfg', 'cfg', 'susann', '33', 'erroneer', 'francaisadaptation', 'verrou', 'englobe', 'generalement', 'style', 'post', 'edition', 'ordinateur', 'appeler', 'prometteurs', 'vitesse', 'cross', 'lingual', 'word', 'sense', 'disambiguation', 'predicate', 'labelling', 'of', 'frenchaborder', 'transfert', 'specifiquement', 'etiquette', 'predicat', 'anterieurs', 'transferer', 'token', 'agreger', 'trop', 'affecter', 'valse', 'etiquettepresenter', 'appartenir', 'correct', 'entretenir', 'mobilisent', 'alternative', 'ibm', 'trigger', 'inter', 'languearticle', 'table', 'brown', 'eta', 'papineni', '2001', 'relationnel', 'corpusarticle', 'consideres', 'hautemer', 'denominatif', 'programme', 'applique', 'prealablement', 'lemmatiser', 'rappeler', 'apporter', 'thesaurus', 'vert', 'bleuarticle', 'conjoint', 'volee', 'reduction', '93', 'compromis', 'interessant', 'immediat', 'compenser', 'absence', 'robuste', 'echellearticle', 'convertir', 'format', 'fondement', 'conversion', 'easy', 'converti', 'referenceproposer', 'filtrant', 'transitivite', 'exclusivite', 'demeurent', 'assure', 'respect', 'filtre', 'quant', 'filtrage', 'standard', 'compris', 'accelerer', 'phrastiqu', 'traductionpresenter', 'sensible', 'recycler', 'voir', 'aligneur', 'traducteur', 'creation', 'artificiel', 'intervention', 'teston', 'disparate', 'benefique', 'prometteur', 'fonctionnement', 'memoir', 'materiel', 'neonaute', 'depeche', 'financierpresenter', 'continu', 'financier', 'positif', 'negatif', 'observer', 'quelle', 'action', 'coter', 'bourse', 'momer', 'analogie', 'synonymique', 'synonymearticle', 'synonyme', 'lumiere', 'allomorphique', 'suffixation', 'machin', 'correspondancearticle', 'enoncer', 'instruction', 'assistant', 'constitue', 'initial', 'interagir', 'ligne', 'directrice', 'discuton', 'adequation', 'mapping', 'finir', 'modeste', 'suffisant', 'amorcer', 'interactif', 'incrementation', 'organisationproposer', 'organise', 'progressivemer', 'generaliser', 'represente', 'lem', 'synthetise', 'mutuel', 'evoluer', 'organiser', 'identite', 'stable', 'organisation', 'terminer', 'moitie', 'evolue', 'inscrire', 'modifier', 'assez', 'souple', 'canaliser', 'flux', 'changer', 'optional', 'compositionarticle', 'binaire', 'composition', 'pustejovsky', 'optionnel', 'fait', 'ponderer', 'evenement', 'lexiques', 'ambiguite', 'nommerpresenter', 'modulation', 'catalogue', 'elra', 'openedition', 'org', 'v1', 'abl', 'normaliser', 'delectablepartir', 'privilegie', 'markup', 'framework', 'lexicographique', 'articuler', 'extensionnel', 'intensionnel', 'garantir', 'rigueur', 'compatibilite', 'precompilearticle', 'theorie', 'sen', 'similitude', 'tst', 'equivalenter', 'rapprochement', 'decoule', 'procedure', 'operer', 'precompilation', 'consideration', 'reutilisation', 'thematiquement', 'recouvremer', 'gram', 'hapax', 'presse', 'francophone', 'piithie', 'sortie', 'syntaxiqu', 'inexactitude', 'isoler', 'partager', 'amesure', 'lisibilite', 'administratifarticle', 'administratif', 'formule', 'correctement', '58', 'grave', 'indicateur', 'numerique', 'objettravailler', 'amener', 'laboratoire', 'lli', 'matiere', 'definit', 'stocker', 'modeliser', 'specialiserproposer', 'compositionnel', 'comparables', 'mode', 'ponderation', 'intermediate', 'alphabet', 'finite', 'state', 'transducer', 'cascadesnone', 'japonais', 'sagace', 'mecabobjectif', 'brut', 'environnement', 'mecab', 'ressort', 'globalement', 'inferieur', 'rester', 'honorable', 'voire', 'parler', 'spontaner', 'technologie', 'parolearticle', 'rapporte', 'quantitatif', 'these', 'oraux', 'impliquent', 'opposition', 'competence', 'complement', 'gommer', 'ulterieur', 'mots', 'outils', 'frontiere', 'majeure', 'perspectiveetude', 'its', 'cinq', 'litteraire', 'communique', 'pourcentage', '60', 'piste', 'an', 'electronic', 'dictionary', 'basis', 'nlp', 'tools', 'greek', 'casenone', 'demarche', 'cooperatif', 'termereconnaissance', 'intervenir', 'srt', 'minimiser', 'expertise', 'cooperer', 'chimie', 'metal', 'fastr', 'syrete', 'banc', 'typologie', 'architecturale', 'caracterisation', 'interne', 'rst', 'discursive', 'bref', 'concentrer', 'exhiber', 'commenton', 'turc', 'mecanique', 'myriadisation', 'parcelliserarticle', 'position', 'amazon', 'mechanical', 'turk', 'plein', 'essor', 'prevaloir', 'sorte', 'prix', 'imbattable', 'gens', 'passe', 'loin', 'ideal', 'plan', 'statut', 'travailleur', 'ethique', 'proposee', 'double', 'informer', 'chercheur', 'pratique', 'organisationnel', 'derive', 'legal', 'collectif', 'formation', 'lignecadre', 'rarement', 'restreinte', 'alao', 'omnipresenter', 'dimensier', 'collectivite', 'modalite', 'motivation', 'noojarticle', 'profite', 'voyelle', 'appel', 'incomprehension', 'malentendu', 'machinetraiter', 'tenu', 'passer', 'robustesse', 'controleur', 'regrouper', 'vis', 'convenable', 'intelligent', 'rupture', 'melina', 'duree', 'consonne', 'geminer', 'comparaisonpapier', 'experimental', 'gemine', 'visons', 'vccv', 'geminee', 'cc', 'precede', 'mesuree', 'vcv', 'sensiblement', 'phoneme', 'acoustique', 'logu', 'evaluationsysteme', 'logique', 'syntax', 'selectif', 'predeterminer', 'deroule', 'suivant', 'etapes', 'aboutir', 'accroitre', 'pragmatico', 'circonscrire', 'tolerance', 'inattendu', 'validite', 'miroir', 'distributionnel', 'muller', 'langlai', '2010', 'dyvik', 'ample', 'corroborer', 'lin', 'masquer', 'qcm', 'serieuxprincipale', 'faiblesse', 'serieux', 'incorporer', 'precisement', 'contraire', 'experimentalement', 'simplement', 'cocher', 'beaucoup', 'conversationnel', 'restreint', 'chez', 'fonctionnalite', 'destiner', 'jacent', 'factoriel', 'textuelrecherche', 'documentaire', 'redonder', 'acp', 'adaptatif', 'gha', 'representatif', 'page', 'decodage', 'mediaetude', 'lia', 'media', 'audio', 'elementaire', 'rap', 'garder', 'espace', 'optimal', 'diminuer', 'egal', 'toward', 'using', 'summarization', 'essay', 'based', 'feedbacknone', 'orallogu', 'extensible', 'implementer', 'logus', 'reservation', 'hotelier', 'technolangu', 'susciter', 'vulgariser', 'russeobjectif', 'comparabilite', 'distinguer', 'separement', 'structurel', 'modal', 'typage', 'svmlight', 'c4', 'portable', 'sentiment', 'aspectarticle', 'composant', 'preexister', 'performer', 'semantiquemer', 'richement', 'supervision', 'concluon', 'synlexsynlex', 'ladl', 'utilisable', 'dicovalence', 'combler', 'lacune', 'distinct', 'synlex', '82', 'completer', 'profonde', 'francaispartir', 'sequoia', 'abstraction', 'prenante', 'diathese', 'redistribution', 'profond', 'system', 'crfreconnaissance', 'ren', 'crf', 'surpasser', 'anercorp', 'comparablesarticle', 'alignon', 'automatiquemer', 'compositionell', 'cancer', 'poumon', 'remplacer', 'ad', 'jr', 'pulmonaire', 'n0', 'paraphrase', '86', 'couper', 'polysemie', 'generatif', 'decouper', 'metaphore', 'metonymie', 'typee', 'specifier', 'amalgam', 'learned', 'sentence', 'realization', 'systemcommunication', 'detail', 'intuition', 'textuelarticle', 'englober', 'regression', 'pyramid', 'granularite', 'qualifier', 'micro', 'macro', 'informatiqueconception', 'technologique', 'sbi', 'clair', 'responsabilite', 'identifiable', 'dites', 'contextuel', 'excom', 'termine', 'baliser', 'spontaneetude', 'equipe', 'syntacticien', 'rhapsodie', 'tendre', 'travaille', 'realite', 'delimiter', 'arborescent', 'imbrication', 'avere', 'independammer', 'considerent', 'conjointemer', 'parsing', 'smcommunication', 'sm', 'short', 'service', 'virtuel', 'mail', 'microblogs', 'tweet', 'irregulier', 'fusionnement', 'phonetisation', 'abreger', 'intermediaire', 'sms', 'local', 'sattaqu', 'spontaneearticle', 'lapplication', 'danalyse', 'lecrit', 'etrangeretude', 'ups', 'six', 'densite', 'up', 'predictif', 'revelent', 'poeme', 'neurone', 'artificielavoir', 'reconnaitre', 'recours', 'phonetique', 'syllabes', 'justifiable', 'imiter', 'poete', 'pendant', 'siecle', 'artificiels', 'perceptron', 'multicouches', 'puissant', 'interlinguistique', 'correspondanceobjectif', 'afc', 'reunit', 'debat', 'parlementaire', 'europeen', 'editorial', 'saillant', 'categoriser', 'certitude', 'typique', 'contraste', 'interlangue', 'multimodaldomaine', 'interfacesutilisateur', 'multimodal', 'geste', 'coordonner', 'unimodal', 'lingueveritable', 'impossible', 'privilegier', 'jeton', 'tokenisation', 'lemmatisation', 'ecueil', 'negligeable', 'grams', 'decennie', 'pidentification', 'devenue', 'ax', 'casen', 'participation', 'ester2', 'donnon', 'faison', 'temporalite', 'norme', 'timemlarticle', 'conseiller', 'delimitation', 'ajout', 'associatif', 'francaispresenter', 'proceder', 'transformation', 'declaratif', 'interrogatif', 'demontre', '41', 'parfaitement', 'estimer', 'notoriete', 'wikipediaarticle', 'wikipedia', 'multilingue', 'prolexbase', 'revision', 'actuellement', 'saw', 'shannon', 'deduire', 'anymalign', 'humainpresenter', 'rivalise', 'giza', 'commande', 'mond', 'quelconque', 'determinant', 'quantificateur', 'dynamiquearticle', 'referent', 'accessibilite', 'groenendijk', 'stokhof', '1991', 'tradition', 'montagovienn', 'raffinent', 'espece', 'premiere', 'denoter', 'conversation', 'telephoniquetravail', 'telephonique', 'decoder', 'theme', 'tenir', 'recourir', 'actif', 'candidater', 'petit', 'conservee', 'dnn', 'vectorielle', 'retenue', 'corpusproposer', 'derivationneller', 'formellemer', '75', '5000e', 'rang', 'fenetre', '150', 'examen', 'adjectivau', '633', 'noms', 'anatomie', '8591', 'moderer', '3234', 'proposon', 'resumer', 'referenceetudier', 'fresa', 'calcule', 'divergence', 'connu', 'responsiveness', 'pyramids', 'rouge', 'francai', 'mono', 'mention', 'santeforum', 'accessibler', 'habitude', 'vie', 'medecin', 'patient', 'indexer', 'extremement', 'compliquer', 'formulation', 'officiel', 'designer', 'trouble', 'humeur', 'bi', 'tri', 'exact', 'fisherdeterminer', 'frequemment', 'attribuent', 'eleve', 'hasard', 'fisher', 'quatre', 'bnc', 'courbe', 'll', 'im3', 'chinoisfouille', 'economique', 'forums', 'pourtant', 'touristique', 'langages', 'egalpresenter', 'language', 'premierement', 'precise', 'magicien', 'oz', 'recueil', 'representativite', 'deuxiemement', 'convival', 'ouvrir', 'oraltravail', 'multidimensionnelle', 'decider', 'tour', 'comportent', 'comporter', '66', 'indique', 'paraphrastiquer', 'flexion', 'equivalence', 'lettre', 'historiquearticle', 'historique', 'traite', 'saillance', 'qualitatif', 'adopter', 'separer', 'semantiquedesambiguisation', 'schematiquement', 'choisir', 'direct', 'retourne', 'imagine', 'exponentiel', 'voisin', 'portent', 'babelnet', '78', 'lexicalfrequemment', 'aujourd', 'hui', 'celebre', 'net', 'souffrir', 'tennis', 'vision', 'continue', 'calculable', 'quoi', 'complementairer', 'propos', 'emergence', 'moindre', 'coutportabilite', 'couteuse', 'cote', 'heurter', 'problem', 'preparation', 'declencheur', 'respecter', 'denser', 'distributionnelarticle', 'appele', 'plongemer', 'consister', 'dense', 'injection', 'industrie', 'redacteur', 'traduisant', 'relief', 'entreprise', 'profit', 'inedit', 'preconiser', 'dialectal', 'profondedeveloppement', 'dialecte', 'heurte', 'consequence', 'diglossie', 'moderne', 'eter', 'tunisien', 'voie', 'surfacique', 'titre', 'topographiquetitre', 'topographique', 'personnaliser', 'composent', 'designation', 'lieux', 'bdnyme', 'georeference', 'ign', 'elargir', 'decompose', 'successif', 'tirent', 'extralinguistique', 'georeferencement', 'quatrieme', 'balisage', 'diversite', 'parlerpresenter', 'relayer', 'compacter', 'concurrence', 'interference', 'pondererarticle', 'innovant', 'hiatus', 'encore', 'independance', 'aspecto', 'temporelle', 'combinatoiretravail', 'centrer', 'intelligence', 'ia', 'curry', 'haskell', 'enonciative', 'inaccompli', 'etatresulter', 'scheme', 'applicatif', 'dafoeconstruction', 'ingenierie', 'conceptualisation', 'operationnalisation', 'accepter', 'ni', 'fortiori', 'ensembl', 'progressif', 'tracable', 'informationnel', 'dafoe', '4app', 'favoriser', 'distribuer', 'licence', 'gpl', 'topique', 'dialogiquepresenter', 'presuppose', 'implicature', 'ducrot', 'topoi', 'ajouter', 'attente', 'projectif', 'interlocutoire', 'systematiquement', 'noeud', 'sdr', 'represenlation', 'structur', 'confronter', 'fiablefiabilite', 'atout', 'qalc', 'collection', 'poesie', 'francaisgeneration', 'fructueux', 'apparue', 'adequat', 'topic', 'model', 'exclusivement', 'conferer', 'poetique', 'genere', 'medicaletre', 'reston', 'societe', 'clinique', 'emission', 'tele', 'radio', 'nouvelle', 'rencontrer', 'blepharospasme', 'alexitymie', 'appendicectomie', 'paraphraser', 'varie', '55', 'traitpresenter', 'etiqueter', 'selectionner', 'operation', 'determinisation', 'intersection', 'complementation', 'levee', 'segmental', 'cohesion', 'ruptur', 'thematiqueidentification', 'maximisation', 'utiyama', 'isaharer', 'preserver', 'television', 'jugemer', 'grammaticalite', 'probablerobustesse', 'detrimer', 'stanford', 're', 'ranking', 'dissocier', 'probable', 'adoption', 'exacte', 'praticite', 'utilite', 'alliance', 'syntaxico', 'structurau', 'parlerarticle', 'fiable', 'hesitation', 'semantico', 'dependant', 'lexicalise', 'gdr', 'i3', 'cnrs', 'limitation', 'machinerecemment', 'wen', '2016a', 'demander', 'collecte', 'laborieuser', 'protocole', 'renforcement', 'exploratoire', 'bandit', 'contre', 'adversaire', 'morphosyntaxe', 'ritelproposer', 'prisme', 'escompter', 'interlocuteur', 'divergent', 'ritel', 'natif', 'presupposer', 'intentionnel', 'degage', 'dhm', 'deverbal', 'genitif', 'souscategorisation', 'cer', 'deverbaux', 'origine', 'falloir', 'simplifier', 'appliquons', 'comparon', 'verbaction', 'atteste', 'provenance', 'subordonner', 'paris', 'introduction', 'ambigus', 'informationapproche', 'ri', 'batir', 'ordre', 'adjacence', 'justifier', 'affinite', 'ordonner', 'traditionnels', 'uni', 'vectoriel', 'dialoguesortie', 'mediocre', 'tient', 'usager', 'prosodie', 'lecture', 'composante', 'amont', 'force', 'propositionnel', 'enonciatif', 'abandonner', 'precoce', 'informatif', 'internetarticle', 'italien', 'chomskienn', 'engendre', 'brievement', 'journalistiquespresenter', 'multimedia', 'ancrer', 'journalistique', 'enjeux', 'variete', 'soulever', 'videos', 'radiophonique', 'fragment', 'dialogueresolution', 'inspire', 'physique', 'perception', 'ancrage', 'attribution', 'situationnel', 'clarifier', 'potentiellement', 'valable', 'gerer', 'situationnelle', 'phono', 'syntaxiquesynthese', 'crucial', 'intelligibilite', 'voix', 'signal', 'sonore', 'homographe', 'heterophone', 'ajustement', 'phonologique', 'liaison', 'elision', 'dix', 'leskarticle', '1986', 'originelle', 'wordnet', 'implementee', 'senseval2', 'all', 'extrait', 'semcor', 'senseval', 'taxonomie', 'decideur', 'themereconnaissance', 'vocabulaire', 'robot', 'compagnon', 'enfant', 'fragiliserprojet', 'emotirob', 'emotionnel', 'fragiliser', 'prosodier', 'valence', 'emotionnelle', 'compositionnalite', 'succincte', 'prescription', 'concepts', 'medicalpourtant', 'apprehender', 'medicamenteux', 'rediger', 'hospitalier', 'hospitaliers', 'obtiennent', 'f1', '773', 'going', 'cooperativ', 'research', 'towards', 'developing', 'economy', 'oriented', 'chinese', 'smt', 'systems', 'with', 'new', 'frameworkpresenter', 'collaboratif', 'universite', 'grenoble', 'xiamen', 'instance', 'site', 'boursier', 'pivot', 'xmu', 'induction', 'declencher', 'courante', 'automatic', 'item', 'educational', 'assessmentnone', 'cascade', 'transducteur', 'decoupage', 'gauche', 'droit', 'signaler', '98', '91', 'sylva', 'niveal', 'lexiqueproduction', 'systematic', 'lexicon', 'validator', 'validateur', 'tracabilite', 'alleger', 'reste', 'technologiquearticle', 'veilleur', 'infometrie', 'structurer', 'nomme', 'vigitext', 'augmentation', 'abrege', 'descriptif', 'brevet', 'operationnelle', 'universel', 'phonologiquearticle', 'morphophonologique', 'formes', 'prejuger', 'paradigme', 'grec', 'modernearticle', 'fip', 'dp', 'flechir', 'flexible', 'cliticisation', 'polydefinitude', 'fipsgreek', 'chomskyenne', 'decouvrir', 'lexicalreseau', 'distinction', 'differencier', 'mult', 'ilingue', 'francaistache', 'vide', 'racinisation', 'notation', 'tac', 'multiling', '2011', 'cellule', 'lstm', 'lexicaldesambiguisation', 'direction', 'arriver', 'marge', 'accent', 'reproductibilite', 'librement', 'accessible', 'projection', 'interlingu', 'syntaxiquer', 'paralleleconstruction', 'eventail', 'basique', 'synonymie', 'conceptuelsynonymie', 'subjectif', 'contourner', 'formellement', 'reordering', 'matrix', 'subject', 'arabic', 'to', 'smtdistinguer', 'verb', 'ordonnancement', 'carpuat', 'reordonnancer', 'vs', 'parvenir', 'observation', 'substantiellemer', 'conventionnel', 'ter', 'ressourcearticle', 'exterieur', 'lemmatise', 'affiner', 'polylexical', 'telecommunication', '100', 'monolexical', 'fluctue', '71', '44', '69', 'elever', 'canephor', 'ciblerfouille', 'cibler', 'analysi', 'visible', 'semeval', '2014', '2015', 'deft', 'publiquement', '10', 'penn', 'treebankarticle', 'po', 'suffisamment', 'inserer', 'parmi', 'thi', 'that', 'couche', 'nonnatif', 'incorrect', 'eclairer', 'comparableetude', 'tao', 'richer', 'attestation', 'renferment', 'saisir', 'revanche', 'definitoire', 'crc', 'hierarchique', 'termli', 'terminologiquepresentons', 'termlis', 'xml', 'franceterme', 'cameli', 'indication', 'reliant', 'multigramarticle', 'exotique', 'horizon', 'fixe', 'baisser', 'perplexite', 'multigramme', 'concurrentiels', 'spatio', 'annotationarticle', 'spatial', 'alimenter', 'portail', 'particuliere', 'apparier', 'ouverture', 'trouve', 'semiotique', 'profilage', 'gene', 'ontologycalcul', 'existence', 'zone', 'fiabilite', 'profiler', 'inferer', 'inclusion', 'productivite', 'connexe', 'ontology', 'quantifiant', 'windowdiff', 'pevzner', 'hearst', 'bookstein', 'kulyukin', 'raita', 'hamming', 'conserve', 'contrairement', 'vrai', 'passages', 'wikipediarecherche', 'uniquement', 'plutot', 'entier', 'recuperation', 'handicaper', 'initier', 'confirmer', 'encyclopedique', 'inex', 'disfluenceproposer', 'theorique', 'menent', 'accorder', 'conserver', 'nuire', 'signalisation', 'systemiquearticle', 'systemique', 'francaiscorpus', 'confidentialite', 'fictif', 'couvrent', 'focalisent', '300', 'cles', 'regard', 'baseline', 'souhaitant', 'modulaire', 'grapheproposer', 'dmr', 'avancees', 'reecritur', 'ecarter', 'incoherent', 'avancee', 'causatif', 'montee', 'grew', 'affect', 'appreciation', 'agentarticle', 'attitude', 'echange', 'ferme', 'fiche', 'attributs', 'refere', 'definie', 'lingueproposer', 'plateform', 'dannotation', 'textuels', 'lannotation', 'analyste', 'didentifier', 'offre', 'dinterface', 'developpeur', 'dautre', 'dinformation', 'geographie', 'prospectifarticle', 'longitudinal', 'universitaire', 'reflechir', 'arttravail', 'cesse', 'imposent', 'augmente', 'inte', 'resser', 'extractif', 'redondance', 'deceler', 'insuffisance', 'prochain', 'topologique', 'marche', 'aleatoire', 'sommet', 'connectivite', 'parce', 'arete', 'explicatifcadre', 'lidia', 'tafd', 'multicibl', 'controles', 'intention', 'explicatif', 'dae', 'profondement', 'desambiguiseur', 'additionnel', 'aggregation', 'by', 'conflation', 'quasi', 'synonymous', 'unit', 'author', 'abstractingplupart', 'inventee', 'condenser', 'traire', 'discute', 'agregation', 'aggreger', 'signe', 'coreference', 'teteavenement', 'bout', 'penser', 'impose', 'remettre', 'maximau', 'perspectif', 'lee', '2017', 'morphosemantique', 'linguearticle', 'contribuer', 'savant', 'medecine', 'hyponymie', 'approximation', 'racine', 'greco', 'latin', 'lexeme', 'dispose', '29000', '3000', 'desequilibrer', 'implication', 'durable', 'parfumeriesimple', 'satisfaire', 'affaire', 'equilibrer', 'degrader', 'concentre', 'parfumerie', 'smote', 'adasyn', 'tomek', 'tl', 'svm', 'ajuster', 'automatiquearticle', '7em', 'atelier', 'cosmat', 'frequence', 'incertitude', 'francaisnouveau', 'anterieuremer', 'mal', 'saut', 'compression', 'thermodynamiquepresenter', 'thermodynamique', 'magnetique', 'verre', 'spin', 'simulation', 'metropoli', 'mont', 'carlo', 'fluctuation', 'thermique', 'piloter', 'centre', 'appelpapier', 'spontaneer', 'decoda', 'mmr', 'quart', 'souligner', 'abstractif', 'reconnaisseur', 'nommees', 'francaisproposer', 'dependancearticle', 'cible', 'sur', 'rivaliser', 'de', 'lexematiquefamille', 'derif', 'morphonette', 'valide', 'renseigner', 'rcl', 'transversal', 'ascendance', 'descendance', 'semantiquepresenter', 'compatible', 'occasion', 'neuroneevaluation', 'procede', 'onereux', 'preferable', 'rapides', 'reproductible', 'annexe', 'locuteurarticle', 'traductionutilite', 'examine', 'recuperer', 'arbitraire', 'conditionnelbeaucoup', 'desormais', 'active', 'learning', 'maximiser', 'espere', 'soumettre', 'conditionnel', 'conditional', 'random', 'field', 'corriger', 'proportion', 'manipuler', 'inclure', 'francaisdecrire', 'parseme', 'savary', 'couvert', 'idiomatique', 'intrinsequement', 'generalisation', 'ud', 'nivre', '2016', 'candito', 'seddah', '2012', '22', '645', 'total', '962', 'ratio', 'gratuit', 'multilinguepresenter', 'gratuits', 'heterogene', 'multilingues', 'multicodage', 'codage', 'souhaiter', 'courrier', 'electronique', 'conceptuelle', 'categorisationrecherche', 'orientation', 'rapporter', 'contextualiser', 'polariser', 'arrive', 'finemer', 'maintenant', 'thematiquepapier', 'ann', 'configurer', 'topologie', 'initialiser', 'connexion', 'precedemment', 'permette', 'regie', 'aut', 'onome', 'transport', 'parisien', 'ratp', 'comparativement', 'cacher', 'allocation', 'dirichlet', 'lda', 'messagerienone', 'energie', 'associatifarticle', 'fondamental', 'modelise', 'plsi', 'requetemodele', 'probabilistic', 'semantic', 'indexing', 'moment', 'folding', 'lesmodeles', 'pose', 'noyal', 'pres', '7500', 'trec', 'ap', 'considerable', 'traductionrelation', 'litteral', 'chuquet', 'paillard', '1989', 'annoton', 'talks', 'disposition', 'multilinguality', 'at', 'your', 'fingertips', 'babelfy', 'beyond', 'none', 'refgen', 'francaisnone', 'evenementielle', 'deplacement', 'epidemiologiquerepresentation', 'dissemination', '97', '88', '81', '72', 'meltfr', 'beneficier', 'ftb', '36', '29', 'ceci', 'diminution', '18', 'spontanee', 'preuve', 'conceptarticle', 'synthetiser', 'expressif', 'novatrice', 'distingue', 'nettoyage', 'perceptif', 'completarticle', 'saturation', 'graphes', 'dontologier', 'dun', '2003', 'defendre', 'discipline', 'cle', 'termino', 'ontologique', 'limportance', 'doutil', 'lingenierie', 'lanalyst', 'dexperienc', 'textotravail', 'texto', 'vorace', 'iterativement', 'maximison', '30', 'negation', 'bresiliendetection', 'requi', 'bresilien', 'trainingdomaine', 'favorable', 'insuffiser', 'cotraining', 'habituel', 'training', 'icsiboost', 'boosting', 'liblinear', 'logistique', 'quantification', 'meronymiqu', 'processuelle', 'evolutif', 'atomique', 'consequent', 'difficilement', 'adjointarticle', 'abstraite', 'symetrique', 'antonymiecadre', 'schwab', 'noyau', 'prete', 'mel', 'cuk', 'hyperonymie', 'antonymie', 'naif', 'modifie', 'ouvert', 'ogmio', 'webobjectif', 'alvis', 'gros', 'volume', 'adaptable', 'perl', 'cpan', 'essence', 'vingt', '329', '106', '35', '48', '422', '14', '15', 'minute', 'ponderearticle', 'dimintion', '12', 'specialisesbanque', 'precieux', 'pauvre', 'collocation', 'acceptable', 'naviguer', 'apprendrearticle', 'implantation', 'navitexte', 'etudiant', 'last', 'is', 'now', 'operationalsysteme', 'deviennent', 'neerlandais', 'alpino', 'embedding', 'instable', 'lexiquemodele', 'embeddings', 'posent', 'instabilite', 'globalemer', 'localement', '17', '25', 'stabilite', 'webpresenter', 'occurrent', 'constituon', 'lexicau', 'polysemique', 'excellent', 'cartographie', 'decouverte', 'domainepresenter', 'novice', 'evolution', 'lient', 'translitteration', 'arabelexique', 'lent', 'maitriser', 'demeure', 'mose', 'radiologiquearticle', 'radiologique', 'cognat', 'roumainarticle', 'roumain', 'syntaxiques', 'pur', 'affectif', 'texterecherche', 'adverbe', 'laisse', 'entrevoir', 'potentialite', 'reponsetravail', 'poson', 'frame', 'semantiquearticle', 'svmdp', 'framenet', 'bayesien', 'dbn', 'frames', 'hoc', 'possibiliste', 'arabedesambiguisation', 'correspondant', 'imprecis', 'hadith', 'contiennent', 'imperfection', 'modeling', 'infant', 'twonourrisson', 'morphologiquemer', 'aise', 'polysynthetique', 'morpheme', 'considere', 'nourrisson', 'chintang', 'conceptuellement', 'performant', 'interjection', 'emotionbien', 'microblog', 'emoticone', 'diese', 'richesse', 'marginaliser', 'majeur', '04', '21', 'alterer', 'fabrication', 'hierarchie', 'referentielle', 'explore', 'conll', 'shared', 'task', 'choisie', 'obtient', '67', 'muc', 'b3', 'ceaf', 'simplicite', 'webmontrer', 'hyperlex', 'veroni', '2004', 'exploitable', 'categorisee', 'indifferencier', 'noyer', 'milieu', 'millier', 'suffire', 'grammairearticle', 'milligramme', 'compact', 'tig', 'decomposition', 'hash', 'tags', 'certains', 'charger', 'brat', 'gate', 'clavier', 'intuitif', 'diffusion', 'preannoter', 'enumeratifarticle', 'annodis', 'descendant', 'enumeratif', 'marquage', 'dialectique', 'subjectivitearticle', 'entendre', 'dresser', 'panorama', 'esquisse', 'demarquer', 'axiologique', 'acteur', 'narrative', 'benefice', 'orienter', 'natural', 'response', 'through', 'syntactic', 'patternsbut', 'factuel', 'variableetre', 'souhaitable', 'en', 'reglable', 'definis', 'evenementapproche', 'aisement', 'convolutif', 'montron', 'competitif', 'epistemologiquearticle', 'transductive', 'word2vec', 'dbnary', 'concilier', 'distribuee', 'meteor', 'metric', 'wmt', 'performante', 'neammoin', 'onweightedmulti', 'tape', 'automatanone', 'compreno', 'abbyylexique', 'proprietaire', 'acceptionarticle', 'acception', 'synergie', 'arbitrairement', 'jeminie', 'analogiearticle', 'raisonnement', 'analogique', 'influenc', 'simuler', 'complementarite', 'cifli', 'survitra', 'facette', 'demonstrateur', 'unl', 'phrasebook', 'linguecifli', 'survival', 'translation', 'livre', 'linguer', 'digital', 'voyageur', 'hindi', 'tamoul', 'survie', 'pilote', 'restaurer', 'locution', 'quadrilingue', 'uw', 'embarquer', 'smartphone', 'multimodalite', 'determination', 'concurrent', 'vraisemblable', 'decisionnel', 'tranche', 'significativer', 'connotation', 'geographique', 'recit', 'voyagebut', 'voyage', 'emettre', 'interprete', 'phonological', 'feature', 'multilingual', 'descriptionnone', 'regroupement', 'analogiquearticle', 'isomorphisme', 'extrandecrire', 'ear', 'ambitieux', 'extrans', 'documentation', 'unix', 'man', 'theoreme', 'lexie', 'verbalarticle', 'partitionnement', 'destination', '76', '46', 'benchmarking', 'reclassement', '77', '34', 'multilinguemethode', 'raffinement', 'zarrouk', 'ellipse', 'anglaisarticle', 'morphosyntaxique', 'prepositionnelarticle', 'leweb', 'lever', 'telle', 'puremer', 'parseur', 'lexicalpresenter', 'triplet', 'frwac', 'discursivement', 'expose', 'ensembliste', 'supervisetache', 'emerger', 'detourner', 'indirectement', 'factice', 'regularite', 'experimenton', 'talcadre', 'desquel', 'incidence', 'repere', 'abstraiteetude', 'effacer', 'conjonction', 'intituler', 'lsa', 'dereglement', 'arabemot', 'lexicalemer', 'tomber', 'causer', 'latente', 'skip', 'surpasse', 'libelle', 'multiservice', 'linguenone', 'personnalite', 'incarnation', 'humainarticle', 'personnage', 'epuiser', 'individu', 'incarner', 'preliminairetraitement', 'pronominaliser', 'fips', '50', 'utilis', 'sommaire', 'repons', 'etymologique', 'wiktionaryressource', 'jamais', 'convenablement', 'formalise', 'permettraient', 'ancien', 'notice', 'wiktionary', 'lexemes', 'demi', 'verbes', 'dela', 'morphologiqueetudier', 'combine', 'paragraphe', 'munis', 'elabore', '1441', '70', 'metagrammaire', 'francaisinitialement', 'vii', 'quinze', 'ftag', '1996', 'redondant', 'metagammair', 'la', 'couvrir', 'soin', 'laisser', 'adjectival', 'appartenance', 'typerecherche', 'larges', '273', 'distributionneltravail', 'receler', 'reequilibrer', 'faveur', 'reordonner', 'conjuguer', 'experimente', 'symetrie', 'spectre', 'discerner', 'freebank', 'annotescorpus', 'insuffisant', 'quantitativement', 'qualitativement', 'constat', 'construite', 'finesse', 'coder', 'parolemodele', 'bas', 'affecte', 'aisemer', 'ecrirepresenter', 'scientext', 'precodee', 'afficher', 'scienquest', 'fonctionnaliter', 'memoriser', 'reafficher', 'consultation', 'insistent', 'occupation', 'nich', 'doctorant', 'visualiser', 'chm', 'complexepresenter', 'cap', 'antinomique', 'optique', 'moyennement', 'shallow', 'preclassiqueperiode', 'preclassique', 'xvie', 'xviie', 'ecrite', 'accompagne', 'imprimerie', 'lancer', 'departement', 'defense', 'canadien', 'sauvetage', 'maritime', 'sar', 'wordsmyth', 'enonciation', 'predefini', 'muc7', 'documentintegration', 'rajman', '2000', 'besancon', 'nasalisationexposer', 'nasalisation', 'nasaliser', 'oraliser', 'couches', 'meltfa', 'perle', 'reannoter', 'bijankhan', 'sagot', 'walther', 'inventaire', 'motiver', 'reetiquetage', 'inventair', 'melt', 'denis', '2009', 'loensemble', 'evoquer', 'doeffectuer', 'transparent', 'focuscampagne', 'tiennent', 'focus', 'demontron', 'quenelle', 'culinaire', 'quenell', 'changement', 'modelarticle', 'apparition', 'lau', 'neologie', 'segmenteur', 'pos', 'parenthesage', 'tree', 'bank', 'thematiqueetude', 'st', 'inciter', 'certes', 'precaution', 'venant', 'effectivement', 'universal', 'dependencie', 'degradation', 'incoherence', 'dickinson', 'meurers', 'confiance', 'parolemesure', 'confidence', 'wce', 'matiqu', 'tap', 'estimateur', 'traduc', 'tion', 'specialement', 'corpusrecherche', 'sri', 'appeles', 'qualia', '1995', 'asare', 'claveau', '2003a', 'amaryllis', 'retourner', 'timebank', 'tim', 'ftib', 'iso', 'livrer', 'profitable', 'influenceur', 'socialinfluenceur', 'toucher', 'largemer', 'centralite', 'twitter', 'suivi', 'avis', 'promethee', 'termeoutil', 'promethe', 'incrementalement', 'lexicalizing', 'parsernone', 'naifpresenter', 'comptons', 'accomplir', 'contextebien', 'edite', 'consacrer', 'informel', 'extra', 'linguistiqu', 'analyson', 'interactionpresenter', 'completement', 'electrostatique', 'sequencedepuis', 'spontanedisfluence', 'inherent', 'superficiel', 'sarf', 'serveur', 'vocal', 'renseignement', 'ferroviaire', 'bahou', 'measur', 'respectivement', '23', '74', '09', 'codiqualternance', 'codiqu', 'alterner', 'retrouve', 'codique', 'evalue', 'portabilite', 'oralarticle', 'slu', 'ph', 'disponibilite', 'dependent', 'parallel', 'corporaarticle', 'dependante', 'concus', 'probablement', 'index', 'inddoc', 'renvoi', 'evidemment', 'submerger', 'trier', 'decroissant', 'nouveaute', 'limalima', 'envergure', 'publication', 'polynomial', 'substitution', 'grammar', 'characterization', 'examplebut', 'polynomiale', 'pstsg', 'stsg', 'utilisabler', 'bio', 'medicalarticle', 'rivalisent', 'davantage', 'paresseux', 'genique', 'challenge', 'lll2005', 'depasser', 'peripheriquearticle', 'detacher', 'caracteristiquer', 'formaliser', 'appraisal', 'monolinguearticle', 'hybridation', 'fusion', 'principale', 'cnn', 'joindre', 'neutre', 'drt', 'pathologiquearticle', 'schizophrene', 'conduite', 'maintien', 'discontinuite', 'paranoide', 'disloqueearticle', 'totalement', 'appelees', 'distant', 'disloquee', 'influer', 'arbore', 'srcmf', 'standardiser', 'limitee', 'variabiliter', 'prose', 'date', 'identifying', 'pagesarticle', 'deductif', 'inductif', 'theorem', 'baye', 'imprevisible', 'individualiser', 'superviseer', 'accommoder', 'egard', 'vraie', 'reponseevaluation', 'supporter', 'evaluatif', 'empeche', 'recoupement', 'singulier', 'sembler', 'lmf', 'arabepresent', 'unifie', 'referer', 'future', 'norm', '24613', 'adiqto', 'query', 'chiasme', 'motrecherche', 'figure', 'reversion', 'bonnet', 'blanc', 'placer', 'formelle', 'omission', 'penalise', 'occasionn', 'declasser', 'distributionnelplupart', 'inverse', 'eloigne', 'ferret', '2013b', 'vote', 'wide', 'coverage', 'mantics', 'graildemonstration', 'decrit', 'grail', 'phoebus', 'litterairephoebus', 'detecte', 'textuelle', 'agencepresenter', 'np', 'designe', 'adapte', 'syntaxiquearticle', 'commencer', 'brievemer', 'lfg', 'intensive', 'partage', 'multimodalprobleme', 'reside', 'exister', 'unique', 'specialiserextraction', 'affiche', 'bonne', 'chute', 'renforcer', 'significativite', 'specifie', 'discursifarticle', 'sousspecifie', 'simbow', 'cosinus', 'sac', 'apparenter', 'soft', 'matric', 'remporter', 'semeval2017', 'stylometriquetache', '53', '114', 'stylometrique', 'bigramme', 'lissage', 'kneser', 'ney', 'interpoler', 'reponser', 'maximal', 'documentpapier', 'propagation', 'colonie', 'fourmieffectuer', 'applicater', 'calculatoirement', 'viable', 'fourmi', 'propager', 'raisonnable', 'emoji', 'categorieutilisation', 'messagerie', 'sociale', 'epargner', 'utillisateur', 'parcour', 'librairie', 'emojis', 'visage', 'ekman', 'reestimer', 'glane', 'cordial', 'passagecordial', 'synapse', 'fonctionne', 'faconner', 'francaisresume', 'mihalcea', 'originalite', 'conditionnelobjectif', 'figurer', 'apprenabler', 'moyenner', 'parametrage', 'nommerarticle', 'decrivant', 'pipe', 'line', 'dbpedia', 'generalressource', 'facilement', 'ressortissent', 'registre', 'respectif', 'leger', 'generaldomaine', 'quinzaine', 'instrument', 'fige', 'evoluent', 'lourd', 'collaboration', 'attaquer', 'fur', 'automatiqueproposer', 'signer', 'constitutif', 'repartition', 'lexicaltutoriel', 'lexicographie', 'lexicologie', 'methodique', 'acter', 'recapituler', 'tutoriel', 'globale', 'consistent', 'visuellement', 'meteorologie', 'guerre', 'metaphorique', 'proxidoc', 'localiser', 'cartographique', 'dynamiquement', 'fil', 'actualite', 'transcrire', 'traductiondesambiguisation', 'recouvrement', 'euroword', 'netameliorer', 'souci', 'inexistant', 'encyclopediewikipedia', '2006', 'pcfg', 'typeerarticle', 'explique', 'ab', 'extrair', 'cyk', '3d', 'techniquearticle', 'incluent', '27', 'jaws', 'just', 'another', 'subsetword', 'exhaustifs', 'princet', 'novateur', 'instancier', 'synset', 'distributionnelles', 'avecwolf', 'distribueweb', 'offrent', 'soulevant', 'epineux', 'sourcer', 'chunksdepuis', 'harris', 'restreindre', 'figer', 'adverbial', 'induite', 'chunks', '92', 'realisent', 'syllabs', 'deft2018', 'superviserpresenter', '2018', 'pretraitement', 'commune', 'somme', 'majoritaire', 'meshdepuis', 'documentaliste', 'croissant', 'medico', 'economiqu', 'delai', 'mesh', 'resulat', 'interruption', 'politiquearticle', 'interrupter', 'assemblee', 'national', 'incertain', 'multimodalperformance', 'bitexter', 'indisponible', 'bitexte', 'iwslt', '11', 'candidature', 'relevance', 'feedbackmarche', 'majoritairemer', 'pertinente', 'gen', 'palette', 'pertiner', 'roc', 'feed', 'back', 'tuple', 'tt', 'mctag', 'concatenation', 'intervalle', 'rcg', 'rcgs', 'exactemer', 'ptim', 'lcfrs', 'legerement', 'complets', 'autoriser', 'equivalente', 'implanter', 'developpementsynapse', 'souhaite', 'echanger', 'conferencier', 'commercialise', 'produit', 'instaurer', 'influencer', 'passionner', 'rencontre', 'arborepresenter', '1362', '510', '39', '54', '925', 'neutraliser', 'passif', 'clitique', '235', '94', 'namer', 'nomenclature', 'tlf', 'eprouver', '2005', 'sebillot', 'economie', 'coedition', 'langueunl', 'unificateurcoedition', 'scenario', 'naifs', 'l0', 'indirectemer', 'envoyer', 'deconvertisseur', 'balise', 'attribut', 'rien', 'perdu', 'ms', 'treille', 'trajectoire', 'croisement', 'fusionner', 'svmarticle', 'emotivite', 'reflexivite', 'adressage', 'alignerbien', 'conformement', 'loi', 'zipfienn', 'googlisation', 'echappe', 'ignorent', 'argumenter', 'nommeridentification', 'essentielle', 'kbp', 'stereotype', 'ecriturepapier', 'stereotyper', 'concomitant', 'grammaires', 'dcg', 'gulp', 'matcher', 'tentative', 'quantifieur', 'nominalmontrer', 'gn', 'cumulatif', 'distributif', 'indefinis', 'quantifier', 'pluriel', 'individualisant', 'converse', 'algebriquer', 'comprehensionarticle', 'comprehensibilite', 'lemmes', 'inconnumaintenance', 'fastidieux', 'guessing', 'lexicographes', 'guesser', 'flechie', 'considerablement', 'it', 'voice', 'mobile', 'smarticle', 'telephone', 'recevoir', 'aboutissent', '887', '979', 'concordancier', 'oralconcordancier', 'longtemps', 'philologie', 'synchroniser', 'exigence', 'phonologie', 'contemporain', 'pfc', 'concordance', 'schwa', 'multialignemer', 'bialignemer', 'multiparallel', 'bialignement', 'transfuge', 'identique', 'tuilage', 'ressemblance', 'genetique', 'multialignement', 'relationpresent', 'corpusdecrire', 'tir', 'prefixe', 'suffixe', 'dysorthographieearticle', 'graphemique', 'taper', 'dysorthographique', 'dysorthographie', 'differe', 'reecrire', '51', '43', 'cibles', 'transposition', 'envisageon', 'semdis', 'substitut', 'gold', 'participant', 'rareter', 'degrer', 'contusion', 'ecchymose', 'comprehensionlisibilite', 'choc', 'lister', 'quarante', 'dissymetrie', 'arabemoteur', 'semitique', 'analytique', 'google', 'independantcontrairement', 'seconde', 'relacher', 'contraintequestion', 'dual', 'agrammaticalite', 'evidement', 'agrammatical', 'francaisgrammaire', '1999', 'regletraduction', 'transmettre', 'liage', 'personnel', 'manifestation', 'meronymie', 'distributionnelleetude', 'recueillir', 'meronyme', 'croiser', 'inegalite', 'vus', 'reciprocite', 'vice', 'versa', 'curiositext', 'peuplemer', 'metier', 'word2vecsuite', 'maintenance', 'peupler', 'japonaisarticle', 'fonctionner', 'dite', 'ouvertpresenter', 'melodi', 'competition', 'concatenativement', '13', 'linked', 'data', 'lld', 'traductiondeveloppement', 'collecter', 'trace', 'illustre', 'auxquel', 'pilotetechnique', 'croitre', 'pe', 'pipeline', 'ta', 'oeuvr', 'americain', 'richard', 'powers', 'professionnel', 'lig', 'lire', 'editer', 'traduite', 'continuellemer', 'futur', 'reviseur', 'favori', 'panel', 'lu', 'enquete', 'remarque', 'sollicite', 'texttiling', 'encyclopediquefaire', 'borne', 'cumuler', 'spontanearticle', 'axer', 'valenciel', 'detaille', 'segmentetude', 'fournie', 'usuel', 'pharaoh', 'koehn', 'constituantarticle', 'symbole', 'discret', 'lineair', 'sequencearticle', 'rnn', 'jordan', 'elman', 'details', 'atis', 'intonation', 'synthesearticle', 'manipulation', 'compositionnelle', 'intonatif', 'proprement', 'arborescence', 'rythme', 'reajustement', 'melodique', 'arabearticle', 'derivationnelle', 'metagrammatical', 'xmg', 'abstraire', 'elegant', 'objetcadre', 'asfalda', 'homogeneiser', 'stag', 'synchroneproposer', 'coordonnante', 'subordonnante', 'compatibler', 'adjonction', 'gestionnaire', 'vocalarticle', 'ergonomique', 'le', 'arise', 'permi', 'langagier', 'interpretatif', 'machinepresenter', 'acquisitionnist', 'coala', 'tente', 'laborieux', 'convivial', 'chart', 'hypothetico', 'intertextuel', 'arabetravail', 'lemmatises', 'epoque', 'anonyme', 'proxem', 'ubiq', 'reputation', 'backs', 'clientnone', 'mauvais', 'transcrit', 'autant', 'stratifier', 'aso', 'xviiie', 'xixe', 'xviii', 'monsieur', 'lafayette', 'contexteassister', 'regain', 'vehiculer', 'demarquon', 'definissons', 'reelle', 'differencer', 'paraitre', 'motives', 'eloigner', 'met', 'onymie', 'hybridearticle', 'intradocumentair', 'geographiquearticle', 'intradocumentaire', 'encadrement', 'charolles', 'intratextuell', 'assistance', 'dialoguedeveloppement', 'consommation', 'massif', 'enclencher', 'entraide', 'archive', 'perfectionner', 'canal', 'medium', 'veritable', 'fondamentalemer', 'finalement', 'defaut', 'decouvert', 'gradient', 'grammaticalitearticle', 'gradation', 'explication', 'retranscription', 'reunioninteresser', 'reunion', 'formatage', 'eparpiller', 'tf', 'idf', 'asseoir', 'credibilite', 'systemearticle', 'impliquer', 'bc', 'credit', 'dordonnancemer', 'uvre', 'grecsobjectif', 'diminutif', 'augmentatif', 'superlatif', 'tourismearticle', 'questionnement', 'peuplement', 'tourisme', 'nommeesetude', 'moissonneur', 'transcrirepresenter', 'maredi', 'latentchoi', 'wiemer', 'hastings', 'moore', 'asl', 'hyperspecificite', 'supposer', 'reflet', 'syntaxiquecorrecteur', 'intensivement', 'homonyme', 'paronyme', 'spectaculaire', 'voyellation', 'arabepresenter', 'alkhalil', 'sys', 'eliminer', 'markov', 'cache', 'hmm', 'viterbi', 'arbregrammaire', 'recriture', 'conditionner', 'recrit', 'penaliser', 'mem', 'forcement', 'generativ', 'feuille', 'kummerfeld', 'neural', 'grain', 'reconnaissancedernier', 'vu', 'preoccupant', 'devenir', 'interview', 'televiser', 'officiellement', 'orthographe', 'asm', 'dt', 'dialectau', 'srap', 'supervisertravail', 'supersense', 'etudion', 'transportarticle', 'eloquer', 'transports', 'run', '897', 'dessus', 'textesujet', 'dsir', 'socialtravail', 'emis', 'partenaire', 'academique', 'imagiweb', 'langagearticle', 'basee', 'retrouver', 'khmer', 'techniquefaire', 'affixer', 'comprehensible', 'incomprehensible', 'cluster', 'sensibilite', 'decodable', 'refleter', 'progression', 'http', 'natalia', 'grabar', 'rated', 'html', 'framenetarticle', 'publier', 'evolutifobtention', 'primordial', 'contributif', 'joueur', 'consigne', 'trentaine', 'clique', 'construir', 'corpusnecessite', 'demeurer', 'marginalemer', 'apprehendee', 'configurable', 'terminoweb', 'thematiquedemonstration', 'definitionnel', 'oculometriedomaine', 'quotidien', 'oculometrie', 'fixation', 'saccade', 'statistiquement', 'polariterecherche', 'joue', 'preciser', 'modifiante', 'epistemique', 'lignepresence', 'bloquant', 'contributeur', 'fils', 'preferer', 'normalisationessai', 'therapie', 'securite', 'exiger', 'population', 'recruter', 'paroletout', 'elliptique', 'medslt', 'emprunter', 'plat', 'multicritere', 'taltraitement', 'embarras', 'analysis', 'issues', 'monitoring', 'linguistic', 'resourceidentification', 'tendance', 'client', 'alerter', 'risquer', 'defavorable', 'diverse', 'senta', 'discoursaborder', 'cdml', 'introduisons', 'ordonnancemer', 'rpm2', 'presenton', 'illustration', 'geneface', 'proliferation', 'recenser', 'pubmed', 'biomedecine', 'bionlp', 'boite', 'noir', 'couteuser', 'meriter', 'dehors', 'biologique', 'tagger', 'crowdsourcing', 'benevolepresenter', 'regional', 'benevole', 'bisame', 'mai', '846', '42', 'volontaire', 'connecter', 'code', 'tcof', 'morphosyntaxepresenter', 'ore', 'diffuser', 'categorielarticle', 'kanazawa', 'realiste', 'treetagger', 'repute', 'asvm', 'encourageer', 'cooccurrencearticle', 'accumuler', 'phraseconsequence', 'globalisation', 'consulter', 'pleinement', 'puisser', 'ii', 'eventuel', 'baptise', 'twic', 'directionnelle', 'guiderarticle', 'apprenstissage', 'forcer', 'execution', 'rxantidote', 'sixieme', 'commercialiser', 'druid', 'avance', 'windows', 'mac', 'os', 'linux', 'richeexplorer', 'maintenir', 'outillage', 'habituellement', 'donnent', 'facilit', 'reglementation', 'propagationarticle', 'gwap', 'game', 'purpose', 'propage', 'expliquon', 'emole', 'singular', 'value', 'dutch', 'noun', 'adjective', 'matriceapprentissage', 'populaire', 'substantif', 'opte', 'singuliere', 'groupement', 'ocrisercorrection', 'ocr', 'resider', 'juridique', 'faute', 'usuelle', 'easytext', 'textenone', 'linguastream', 'corpustravers', 'articulation', 'naitre', 'emergenter', 'espagnolarticle', 'pays', 'hispanophone', 'espagne', 'argentine', 'mexique', 'perou', 'nuance', 'procheacquisition', 'rassembler', 'permettant', 'regroup', 'compare', 'implicite', 'rapprocher', 'automatisation', 'ciblerarticle', 'corpusrelation', 'encoder', 'localise', 'consomme', 'occasionnellement', 'miser', 'attaque', 'superviserplusieurs', 'adresser', 'munie', 'variationnel', 'apprise', 'microsoft', 'ecologique', 'encyclopedie', '483', 'error', 'real', 'errors', 'transposer', 'anti', 'grammaireobjectif', 'reussite', 'litteratur', 'commis', 'beta', 'identify', 'emerging', 'textual', 'patternsweb', 'blogue', 'foire', 'train', 'constamment', 'emergent', 'invitent', 'metierarticle', 'sequentielle', 'affectation', 'predefinir', 'pole', 'suez', 'open', 'architectur', 'multiplate', 'formepresenter', 'philosophie', 'multipliciter', 'standford', 'institute', 'oaa', 'cloturer', 'commente', 'distribue', 'intra', 'dependency', 'grammarnone', 'aimer', 'likeit', 'polariteanalyse', 'vehicule', 'aptitude', 'resultant', 'bouclecadre', 'modularite', 'interragir', 'francaisaction', 'deroulement', 'indiqueron', 'gaspar', 'prototypespresenter', 'associ', 'appui', 'presumer', 'reclasser', 'dynamiquemer', 'affinement', 'composercomposition', 'coordination', 'foret', 'derivationpresenter', 'elide', 'membre', 'guid', 'dis', 'parle', 'taire', 'penseinteret', 'blog', 'obliger', 'chang', 'inbenta', 'search', 'engine', 'textedigitalisation', 'acceder', 'efficacement', 'inbenter', 'appeller', 'iss', 'isse', 'logicielle', 'glissant', 'lexicalappliquer', 'suisse', 'esperance', 'tailles', '750', 'levenshtein', 'terminographique', 'traitementarticle', 'adequate', 'terminographiqu', 'enqueteedf', 'mining', 'skill', 'cartridgetm', 'temis', 'insatisfaction', 'fidelite', 'edf', 'nette', 'mecontentement', 'fiablearticle', 'panalys', 'geometrique', 'lexicalnone', 'semantiquediscuter', 'eventuellement', 'recursion', 'mantic', 'predication', 'jointurearticle', 'akkadien', 'operateurs', 'jointure', 'operateur', 'diviser', 'exercer', 'vocalisation', 'insertion', 'vocalique', 'interdigitation', 'inferentielldevelopper', 'accident', 'route', 'apparent', 'dune', 'dattributs', 'lavoisiner', 'larbre', 'letape', 'precedente', 'lanalyse', 'lexposition', 'justification', 'lapport', 'dattribut', 'ladite', 'retranscrire', 'vraiment', 'avantageux', 'peripherie', 'interagissant', 'superviseur', 'subis', 'distorsion', 'progresser', 'interrogative', 'interdependance', 'inviter', 'reconsiderer', 'simplifierphrase', 'technicite', 'equilibre', 'evenementarticle', 'representational', 'architectural', 'limited', 'domain', 'speech', 'translatorarticle', 'dresse', 'causal', 'stucture', 'enchasser', 'segmentalapproche', 'necessitent', 'scientifiquearticle', 'ramenon', 'biclustering', 'manuelle', 'statistiqueetape', 'esquiver', 'statistical', 'vif', 'pousser', 'concluant', 'analogiemontrer', 'europarl', 'reconstruire', 'obtenon', 'witten', 'bell', 'good', 'turing', 'sauf', 'finnois', 'segmentsysteme', 'stroppa', 'aleatoirement', 'ressortir', 'interpretariat', 'multifonctionnelparallelement', 'star', 'nespole', 'erim', 'chinfadial', 'finaliser', 'prochainement', 'intervenant', 'distribdial', 'printemps', 'multifonctionnel', 'erimm', 'evaluationarticle', 'video', 'conversationnelle', 'cassy', 'epacarticle', 'unitex', 'epac', 'televise', 'anterieur', 'romus', 'anterieure', 'mesusage', 'medicament', 'socialmesusage', 'apparait', 'respecte', 'nocif', 'dangereux', '810', 'conceptsseek', 'java', 'attribue', 'capitaliser', 'filtext', 'pseudo', 'amazighcadre', 'promotion', 'amazigh', 'opter', 'institut', 'royal', 'culture', 'preparer', 'terrain', 'pseudoracinisation', 'flexionnel', 'elimination', 'pyrata', 'python', 'rul', 'analysisnone', 'homophoneobjectif', 'homophone', 'homophonie', 'systemedetection', 'rendu', 'clusteringarticle', 'factiviteannotation', 'rhetorical', 'dicourse', 'pdtb', 'pense', 'allier', 'crucialement', 'factbank', 'jeuxdelien', 'path', 'similarity', 'entity', 'linking', 'networksysteme', 'desambigusation', 'freebase', 'lexicalo', 'jeuxdemot', 'conjointement', 'desambiguser', 'syntaxiquement', 'liberer', 'contraignant', 'modernisation', 'perpetuel', 'annotateurnone', 'proprietepresenter', 'exprimon', 'langagiernombre', 'w3', 'exageremer', 'rd', 'cleterme', 'representant', 'archeologie', 'disciplinaire', 'polariserarticle', 'polarisation', 'procedural', 'hpsg', 'informationpresenter', 'extrer', 'interactionarticle', 'exprime', 'regir', 'eclairage', 'vertical', 'humainproxem', 'antelop', 'consommateur', 'apec', 'cv', 'reciproquement', 'antelope', 'rh', 'markovien', 'echellesysteme', 'instar', 'restriction', 'medicaltravail', 'lisible', 'sauvegarder', 'transducteurarticle', '52', 'superviserarticle', 'c99', 'inadapter', 'typevariation', 'montague', 'lambda', 'quantificateurs', 'epsilon', 'tau', 'hilbert', 'autorise', 'echeler', 'interlinguarticle', 'alignerarticle', 'etsur', 'etudede', 'aligne', 'sontextraiter', 'tacher', 'interrelation', 'permettrede', 'deictique', 'multimodalarticle', 'multimodau', 'communicatif', 'deixis', 'gestur', 'duquel', 'synchronie', 'motrepresentation', 'sacs', 'continuous', 'bag', 'cbow', 'coefficier', 'syntactique', 'deforestationarticle', 'terre', 'deforestation', 'recouvrir', 'tlficonstitution', 'approfondi', 'continuite', 'tlfi', 'caracteristiquemarge', 'infuser', 'detendu', 'miras', 'dominent', 'tuning', 'permutation', 'minimis', 'perte', 'plackett', 'luce', 'rez', 'verite', 'demontrent', 'mert', 'rattacher', 'casarticle', 'constructionnelle', 'deconstruire', 'neologisme', 'dictee', 'orthographiquearticle', 'dicter', 'percevoir', '375', '56', 'catach', '1984', 'echec', 'medier', 'asymetriqueconversation', 'issue', 'extrapoler', 'asymetrie', 'clier', 'mandarinplupart', 'cach', 'mandarin', 'communement', '1955', 'academia', 'sinica', 'segmente', 'constate', 'televisuelmethode', 'televisuel', 'tv', 'celler', '83', '40h', 'reportage', 'hybridesysteme', 'indirect', 'malone', 'kenneth', '1987', 'kilander', 'takkinen', 'primitif', 'relationextraction', 'contrer', 'completion', 'i2b2', 'documentairerecherche', 'obtenue', 'dessin', 'anime', 'publicite', 'sport', 'clip', 'musique', 'reclamation', 'clientarticle', 'redactionnel', 'ressemblent', 'traductionarticle', 'prenons', 'inversement', 'degrade', 'compagnonprojet', 'financer', 'mouvement', 'corps', 'reutilis', 'interdisciplinaireobjectif', 'dactylographique', 'handicap', 'perturbation', 'grille', 'circonstant', 'machinearticle', 'tiree', 'integrant', 'semantisme', 'linguistiquepresenter', 'msr', 'mt', 'stage', 'novembre', 'octobre', 'meilleurer', 'systran', 'hansard', 'quoique', 'convaincre', 'smpresent', 'contraction', 'importe', 'essentialisation', 'manifeste', 'concis', 'reduplication', 'saturer', 'regissant', 'directionnel', 'syntologiciel', 'synto', 'url', 'www', 'syntox', 'lorsqu', 'versifierobjectif', 'anametr', 'theatre', 'xx', 'metre', 'metricometriqu', 'cornulier', 'rime', 'strophe', 'vizart3d', 'articulatoire', 'prononciationobjectif', 'reeducation', 'orthophonique', 'parlant', 'gipser', 'lab', 'levre', 'articulateur', 'normalement', 'animer', 'acoustico', 'gmm', 'translitterer', 'agglutination', '137', '120', '59', '107', '89', '16', 'annotearticle', 'nasiruddin', 'duplication', 'desordre', 'prouve', 'doptrouver', 'dop', 'bod', '1992', 'sima', '1996a', 'miminal', 'verbearticle', 'alsace', 'soutien', 'signelangue', 'sourd', 'soutenir', 'maturation', 'entamer', 'retranscrirepresenter', 'zero', 'histoire', 'referencemajorite', 'obstacle', 'shot', 'demarrage', 'dialog', 'tracking', 'challenges', 'dstc2', 'dstc3', 'ajustable', 'approximate', 'unsupervised', 'summary', 'rougeetre', 'malheureusement', 'weighted', 'lexar', 'statistiquegramme', 'substantiel', 'reponseconnaissance', 'constructionnell', 'derivationnel', 'multraaugmentation', 'pluriculturel', 'intensifier', 'latl', 'acgpresenter', 'evite', 'acyclique', 'dag', 'synchronous', 'dur', 'slovaqueanalyse', 'slovaque', 'lexiquarticle', 'naming', 'gam', 'specifiquedetection', 'itemset', 'linguistiquearticle', 'enumerer', 'contraintearticle', 'mts', 'theoretic', 'discut', 'probabilister', 'discrimination', 'analyses', 'enjeuxarticle', 'strict', 'revoir', 'enchainement', 'superviserapprentissage', 'inspecter', 'cat', 'candidaturecroissance', 'piece', 'metalangage', 'bdef', 'polysemiearticle', 'encode', '500', 'section', 'informatisation', 'reguliere', 'juridiquedecrire', 'juriste', 'jurisprudence', 'letsum', 'hoey', 'rstarticle', 'mann', '1988', 'pilier', 'satellite', 'dressage', 'enrichissemer', 'analogiepresence', 'auquel', 'yvon', 'ascendantterme', 'dr', 'dossier', 'patientreference', 'desidentifier', 'heideltime', 'wordnetontonote', 'certainement', 'achever', 'princeton', 'ecosysteme', 'ontonote', 'release', 'esperer', 'outilex', 'ecritplate', 'convertisseur', 'lgpl', 'computer', 'managemer', 'databaselexique', 'lgts', 'coupler', 'guis', 'postgresql', 'mysql', 'swing', 'jdbc', 'api', 'stax', 'reordonnancement', 'resultatarticle', 'lirmm', 'vectorisation', 'multicouche', 'ontologiquedepuis', 'duweb', 'analysecomplexite', 'regroupe', 'balayage', 'efforcer', 'dediee', 'pregroupe', '2article', 'lambek', 'revenche', 'rigide', 'valuee', 'apprenable', 'apprenabl', 'revient', 'pedagogique', 'textuelplusieurs', 'contextuelle', 'servira', 'rocchio', 'medlineindexation', 'medline', 'referencer', 'indexe', 'constant', 'presser', 'indexeur', 'pli', 'recommandation', 'existent', 'owi', 'chat', 'owicanal', 'achat', 'conseille', 'machineevaluation', 'unanimite', 'soumettent', 'capter', 'objectivable', 'inverser', 'paradigm', 'francaisdetecter', 'substituer', 'corpuspapier', 'differentiel', 'sondage', 'opinionetude', 'accueil', 'france', 'telecom', 'arabeobjectif', 'riadi', 'monastir', 'oreillodul', 'csm', 'retranscrireetude', 'teleconseiller', 'enchaine', 'obtention', 'thematiquearticle', '2424actu', 'news', 'dependanceapproche', 'meilleure', 'trancher', 'localementpresenter', 'accentuation', 'thesauru', 'meshcertain', 'diacritique', 'freine', 'accentuer', 'adaptee', '96', 'centrality', 'measure', 'contextual', 'graph', 'single', 'keyword', 'extractionnone', 'multilingueraison', 'union', 'legislatif', 'vingtaine', 'prenant', 'ambiguiter', 'adjointappuyer', 'dotplotting', 'fixer', 'technolangue', 'agile', 'oural', 'deplacementtraitement', 'spatialite', 'aiser', 'assimile', 'evoque', 'routine', 'evaluationnone', 'schemer', 'manuscritschema', 'posteriori', 'exemplearticle', 'interchangeable', 'hierarchiser', 'soustraction', 'langagesapres', 'dictanum', 'numeros', 'reactivite', 'abouti', 'desynchronisation', 'ajoutant', 'surcouche', 'numero', 'aupres', 'questionsysteme', 'separe', 'localis', 'syntaxiquedecrire', 'fidele', 'particulariter', 'occidental', 'nommeesvariabilite', 'ponder', 'rl', 'francaisnombreux', 'para', '5h', 'debit', 'normal', 'predisent', 'interdepender', '24613article', 'standardisation', 'terminaison', 'intension', 'arabicldb', 'database', 'conjugueur', 'puissance', 'fichier', 'chm1', 'reconstitue', 'reponsearticle', 'qa', 'apposition', 'volet', 'artobjectif', 'revenir', 'negligeabl', 'glozznone', 'charte', 'big', 'perennecharte', 'ethiqu', 'initiative', 'atala', 'afcp', 'aproged', 'reunir', 'cersa', 'cnr', 'ethics', 'eptica', 'lingway', 'cabinet', 'iteanu', 'elda', 'garantie', 'dglflf', 'wiki', 'pdf', 'couillault', 'evolutionnair', 'parcourir', 'accumulation', 'globalite', 'solveur', 'finiapprentissage', 'inferentiel', 'equation', 'empiriquemer', 'scientifiquetravail', 'rto', 'variant', 'etudie', 'seuil', 'lefffarticle', 'empietement', 'synonymenone', 'inflexion', 'lunaf', 'luxembourgeoisafin', 'luxembourgeois', 'revele', 'umlaut', 'aimerait', 'semeval2014', 'dislocation', 'parlertravail', 'transsearchmalgre', 'transsearch', 'errone', '32', 'juge', 'individuellement', 'concatener', 'echouer', 'percus', 'noter', 'inefficace', 'talismaneanalyse', 'transforme', 'decomposer', 'talismane', 'beam', 'strategier', 'documentarticle', 'enoncearticle', 'tirons', 'medicalnombreux', 'doute', 'enonciateur', 'potentielle', 'restructuration', 'universelles', 'lingueconcevoir', 'reutilisable', 'grippe', 'carabine', 'peur', 'desir', 'ardent', 'intensite', 'magn', 'carabiner', 'modificateur', 'contraster', 'infidele', 'plafonner', 'thematiquemer', 'recurrence', 'lexicalexposer', 'depit', 'engin', 'langlais', 'exterieure', 'incident', 'aeronautique', 'melanger', 'anglaise', 'quell', 'indexon', 'coordonnee', 'volumineu', 'citation', 'journalistiquecontexte', 'plagiat', 'licite', 'illicite', 'reprise', 'citer', 'qualitative', 'auparavant', 'tracer', 'automatiquetravail', 'differente', 'monologue', 'prepare', 'confirme', 'utilisateurnormalisation', 'ramener', 'meler', 'normee', 'introducteur', 'santearticle', 'annotatier', 'secondaire', 'scienquestdemonstration', 'arborer', 'metadonnee', 'predefinie', 'discussionmodele', 'opportun', 'pris', 'consideree', 'precison', 'microbiologie', 'evaluable', 'emologuprojet', 'agence', 'linguebon', 'centraliser', 'bilan', 'perspectiveetudier', 'hauteur', 'relevon', 'jusqu', 'predominante', 'opennmt', 'bloc', 'maison', 'uniformemer', '1997', '500k', '309', 'quaero', 'quintard', 'employe', 'top', 'qr', 'rosset', 'nomao', 'geolocalise', 'reputationdemonstration', 'bar', 'magasins', 'gout', 'disperser', 'coefficient', 'renommage', 'kappa', 'cohen', '1960', 'pi', 'scott', 'pondere', '1968', 'alpha', 'krippendorff', '1980', 'prevalence', 'approache', 'metonymy', 'recognitionjusque', 'empecher', 'goulot', 'etranglement', 'schutze', 'solide', 'svd', 'compositepouvoir', 'composite', 'simultaner', 'clore', 'handicapmodele', 'saisie', 'gramm', 'lexicalsous', 'temoigne', 'enrichissant', 'semantiqueconstruction', 'independamment', 'premisse', 'preexistant', 'triangulation', 'blocage', 'eviter', 'douteux', 'invalidation', 'engager', 'exception', 'confusion', 'figuratifpresent', 'figuratif', 'lecriture', 'manuscrit', 'lignetravail', 'manuscrite', 'lintegration', 'nomade', 'dobtenir', 'quil', 'vietnamienne', 'special', 'opportunite', 'lexicale', 'encourageante', 'avantageusement', 'deplacementtravail', 'genese', 'homologie', 'bilingueprincipal', 'insensible', 'desequilibre', 'nommeesutilise', 'worldnet', 'wikipedier', 'dizaine', 'taxonomique', 'fdtb', 'bankpresenter', 'faite', 'martin', 'white', 'positionnement', 'communicationnel', 'aim', 'aime', 'logico', 'denominalapres', 'denominal', 'suppletif', 'punctuation', 'mark', 'brazilian', 'portuguese', 'read', 'speecharticle', 'virgule', 'native', '61', 'commentair', 'haute', 'consistant', 'morfetik', 'recensement', 'rigoureux', 'uns', 'analogue', 'morphalou', 'lexique3', 'delaf', 'curriculum', 'etoil', 'comparablearticle', 'estim', 'oraldisfluence', 'autocorrection', 'difficilemer', 'automatisable', 'reclame', 'eminemment', 'convergence', 'doterpresenter', 'dl', 'pourvoir', 'bangla', 'generateurproblematique', 'pharmaceutique', 'flou', 'what', 'may', 'be', 'deleted', 'compressed', 'abstracting', 'inutile', 'comparative', 'metadiscour', 'parenthese', 'emphase', 'geometriser', 'sensrecherche', 'desquelle', 'implicitement', 'crisco', 'unicaen', 'visusyn', 'plou', 'victorri', 'geraf', 'finalite', 'lutilite', 'chatmesure', 'wasserstein', 'encyclopediquearticle', 'pragmatiquement', 'reedition', 'encyclopediquer', 'patientanalyse', 'treer', 'learn', 'systemdecrire', 'darbre', 'lacquisition', 'dinformatier', 'lenrichissement', 'dapprentissage', 'lexploitation', 'lintroduction', 'larchitectur', 'pronominalearticle', 'detectable', 'possiblement', 'decisif', 'respectable', 'reproduire', 'collocationarticle', 'collocationnelle', 'ville', 'session', 'externeutilisateur', 'multitache', 'renvoyer', 'imbriquer', 'automated', 'wid', 'typ', 'logical', 'frencharticle', 'supertagger', 'usagesociete', 'mr', 'indiquon', 'enrichisson', 'maintenon', 'memory', 'arabejusque', 'impasse', 'echapper', 'mbl', 'anomalie', 'naturelnone', 'reversiblearticle', 'parsingnone', 'ontologieconstruire', 'modeliseur', 'objecter', 'hyperonyme', 'ossature', 'horizontal', 'lie', '31', 'francaisregistre', 'marquant', 'familier', 'courir', 'esculap', 'oedipe', 'esculape', 'umls', 'abriter', 'referencearticle', 'coreferentiel', 'heterogeneiter', 'reconfigurable', 'adaptableanalyse', 'touche', 'inscrit', 'posterieurement', 'vener', 'caracteris', 'attester', 'jugementcontrole', 'concurrente', 'geweb', 'personnalisee', 'tln', 'likeslikes', 'knowledge', 'engineering', 'station', 'slave', 'ascii', 'likes', 'vietnamese', 'categorization', 'statistic', 'genetic', 'approachpapier', 'semantiquemot', 'dimensionnalite', 'relationpresenter', 'domotique', 'partagerobjectif', 'decrivons', 'referenceetre', 'ostensif', 'reperagedetection', 'yahoo', 'chronolines1', 'afp', 'chronologie', 'evenementiel', 'multithematiquidentification', 'monothematique', 'multithematiqu', 'discontinusarticle', 'necessairement', 'nist', 'perspectiveanalyse', 'traductioncompte', 'neufs', 'receptionner', 'bayesiencomprehension', 'juste', 'sql', 'ouvertarticle', 'convolutionnell', 'pooling', 'noise', 'nce', 'best', '24', 'anglaisplupart', '1299', 'who', '859', '675', 'specialiteavoir', 'adn', 'segments', 'virtuelpresenter', 'inclus', 'neuronalsysteme', 'focalise', 'remplissage', 'template', 'filling', 'dispenser', 'inconnupapier', 'alaler', 'japonaispresent', 'autonome', 'emprunt', 'dialoguearticle', 'dialogues', 'diriger', 'classificateur', 'doteedesambiguisation', 'enqueter', 'suggestion', 'extracting', 'named', 'approachentitee', 'nomer', 'independente', 'selectioner', 'supervisione', 'independent', 'rend', 'bulgare', 'rafiner', 'discrimant', 'spanish', 'explanatory', 'dictionaryappliquer', 'originel', 'soucier', 'compositionalite', 'semantiquecours', 'regarder', 'algebrique', 'composee', 'profondeur', 'baroni', 'zamparelli', 'diachroniquearticle', 'dater', 'diachronique', 'disparition', 'texteapplication', 'oranger', 'evoluant', 'etatarticle', 'fourni', 'dictionn', 'talarticle', 'ldi', 'glaff', 'leff', 'dicolect', 'wacky', 'atbarticle', 'gp', 'atb', 'exampl', 'languagenone', 'texteproposer', 'expriment', 'polarisationobjectif', 'eclaircir', 'morphotopologie', 'controlable', 'neutralisation', 'wolf', 'concernee', 'monosemique', 'dewikipedia', 'superviseecertain', 'typiquement', 'subsequent', '926', 'replier', 'prudente', '898', 'structurelle', 'sygfrandemonstration', 'sygmart', 'executable', 'adresse', 'chauche', 'exempleanl', 'telechargeable', 'sygtext', 'participatif', 'citoyenne', 'citoyen', 'clearticle', 'phraseme', 'representative', 'repartir', 'traits', 'rests', 'sentiwordnetcomme', 'commerce', 'presentons', 'spontaneeenjeu', 'quitter', 'investigation', 'structurant', 'recursif', 'peas', 'texteafin', 'collaborer', 'morphotactique', 'pitman', 'yorarticle', 'parametriqu', 'parametrique', 'yor', 'degenereer', 'inadapteer', 'traitemement', 'morphotactiqu', 'dyalogarticle', 'survole', 'tabulaire', 'facilite', 'rule', 'guided', 'aspectual', 'readings', 'russiansignification', 'indeterminer', 'specifiee', 'indetermination', 'imperfectif', 'echantillonnagealignement', 'lardilleu', 'lepage', 'echantillonnage', 'evaluons', 'indiceexposer', 'sophistication', 'conforter', 'prototyp', 'bretonarticle', 'breton', 'dependencier', 'geometriqu', 'signercontexte', 'avatar', 'visicast', 'hanke', 'gestuel', 'guer', 'constructiviste', 'flelecture', 'fle', 'bagging', 'superiorite', 'multinomial', 'apprenantpresenter', 'polymot', 'huir', 'mille', 'communs', 'affixe', 'phonique', 'clitic', 'climbing', 'tense', 'auxiliarie', 'polish', 'romancenone', 'spatiann', 'videonone', 'suffixer', 'ier', 'artefactpresenter', 'artefact', 'saladier', 'brassier', 'thonier', 'tweetarticle', 'persistant', 'bilstm', 'bidirectionnal', 'term', 'couch', 'fermer', 'hpsginteroperabilite', 'automatiquerecemment', 'auxiliaire', 'log', 'primaire', 'emblee', 'oracle', 'pronominale', 'ar', 'apos', 'interactionproposer', 'ajoutons', 'textometriesegmentation', 'textometrique', 'lexico3', 'mkalign', 'objectiver', 'hylanda', 'incontournable', 'annotationinteresser', 'multietiquette', 'detecteur', 'certificat', 'deces', 'lign', 'corpusdefinition', 'toefl', 'etendu', 'curran', 'moen', 'zhitomirsky', 'geffet', 'dagan', 'renam', 'amazighereconnaissance', 'severe', 'amazighe', 'masparnombreux', 'transmission', 'explosion', 'lourdeur', 'remplacement', 'variabletraitement', 'associent', 'reponsepresenter', 'answering', 'aval', 'croisepresent', 'ascendant', 'cah', 'croise', 'spectral', 'supporte', 'talnvouloir', 'ouvertobjectif', 'oralement', 'dialoguer', 'president', 'senat', 'jacques', 'chirac', 'apprentissagealors', 'freiner', 'revetir', 'hyper', 'conversationnelpresenter', 'pronominalisation', '73', 'describing', 'derivational', 'polysemy', 'xmgarticle', 'semantics', 'possession', 'rental', 'disbursal', 'unitaire', 'incompatible', 'graphemontrer', 'webaffix', 'webarticle', 'graphemiqu', 'anonymisation', 'justicepublication', 'justice', 'confidentielle', 'inferentiell', 'exclure', 'schemas', 'conjecture', 'observable', 'gravite', 'manquant', 'ancor', 'librementarticle', '453', 'ub', 'otg', 'eslo', 'mi', 'creativ', 'common', 'nc', 'pictogramme', 'semantiquedemonstration', 'tablette', 'verbaliser', 'tts', 'comestible', 'treebanktypologie', 'reconstituer', 'paroleapproche', 'voiladis', 'mobilixser', 'arstresum', 'hybridresum', 'aboutit', 'spontanertravail', 'intitule', 'oreodule', 'dependancestructure', 'wiktionnaire', 'phonemique', 'psycholinguistique', 'arreter', 'transitionarticle', 'optimale', 'ua', 'spmrl', 'negliger', 'titrage', 'televiserarticle', 'imprecision', 'semaine', 'aspirer', 'galoi', 'nommeespresenter', 'formels', 'metaphoreapres', 'kintsch', 'compresser', 'neuronau', 'impacter', 'travaux', 'structurelarticle', 'lse', 'profondpapier', 'blstm', 'gru', '891', '781', 'pivotextraction', 'avon', 'formal', 'languages', 'linguists', 'classical', 'nonclassical', 'modelnone', 'oralfouille', 'prononcer', 'cruciale', 'signature', 'presentateur', 'invite', 'auditeur', 'menace', 'biologiqueprojet', 'tier', 'integrated', 'strategy', 'cbrn', 'chemical', 'biological', 'radiological', 'nuclear', 'threat', 'emergency', 'urgence', 'danger', 'chimique', 'nucleaire', 'explosif', 'raisonner', 'figee', 'transformationnellearticle', 'casser', 'briser', 'glace', 'transformationnel', 'phraseologique', 'expliquerons', 'erreurarticle', 'contrat', '1b', '004', 'telecommunications', 'rappeller', 'endroit', 'probabiliser', 'lisser', 'appris', 'dexploitation', 'lexicaliserarticle', 'sappuier', 'hypertag', 'recouvr', 'compacte', 'obtenirarticle', 'polypheme', 'syllabation', 'experimentationpresenter', 'exclusion', 'phraseologie', 'chinoisarticle', 'divise', 'expressive', 'linguistiquepresentons', 'taittingen', 'stylophone', 'styles', 'attache', 'attractif', 'disambiguating', 'structurerelation', 'recommander', 'carrot', 'zodiac', 'cedille', 'frappe', 'preter', 'utf', 'contextuelcaracterisation', '5000', 'usinage', 'monosemie', 'monosemiquer', 'treebankqualite', 'recouvrer', 'parametrer', 'atlas', 'dialectologiquecontrairement', 'standardisee', 'europe', 'dialectologue', 'dialectologique', 'modernepresenter', '288', 'corrects', 'abordable', 'vikidia', 'selectionn', 'correcter', 'associons', 'visualison', 'singularite', 'wikipediacategorisation', 'investissement', 'prolmf', 'expansion', 'contextuelprolmf', 'cnrtl', 'huitaine', 'graphie', 'fautif', 'lexicalement', 'voisiner', 'semantiquenombreux', 'winograd', 'comportementalpresenter', 'levesque', 'proof', 'depourvoir', 'adherence', 'informationmethode', 'exploiton', 'diminue', 'dose', 'defaveur', 'oeuvrepresenter', 'linearite', 'convertible', 'cent', 'anglaisedecrire', 'interoperabilite', 'verbnet', 'fallu', 'interieur', 'parallelisme', 'reglementaire', 'inversion', 'suppression', 'ignorer', 'diagnostiquer', 'affranchissement', 'mfm', 'repeter', 'signearticle', 'sub', 'azee', 'souplesse', 'synchronisation', 'fidji', 'traditionnelle', 'kawakib', 'theoriquekawakib', 'subordinationarticle', 'subordination', 'referente', 'superviserappariement', 'hybrideinbenter', 'biaispresenter', 'remediation', 'schizophrenie', 'bel', 'consequenceextraction', 'observateurproposer', 'absolumer', 'definisson', 'observateur', 'ligneinformation', 'necessit', 'prohibitif', 'biaiser', 'ludique', 'citron', 'correcte', 'demonette', 'derivationnelledemonette', 'arc', 'radicalement', 'opposer', 'existante', 'lexematiqu', '204', 'proprieter', 'orienteer', '84', 'inconnusarticle', 'orthographiquement', 'regler', 'adjectifdesambiguisation', 'fuch', 'postpostion', 'anteposition', 'visualisation', 'depeches', 'pressse', 'journaliste', 'resumeur', 'integralemer', 'evaluateur', 'ecart', 'ancre', 'videosarticle', 'extraite', 'texter', 'salve', 'anchoring', 'mediaeval', 'collocationnell', 'grammerecherche', '1000', 'copie', 'first', 'certificate', 'yannakoudakis', 'coll', 'assigner', 'simultane', 'praxis', 'dialoguenone', 'finding', 'missing', 'incomplete', 'utterancearticle', 'cocke', 'younger', 'kasami', 'dependrenone', 'analogiquebien', 'predominantes', 'gagner', 'popularite', 'marginal', 'cofacteur', 'morfessor', 'creutz', 'lagu', 'etudiee', 'alignerpresenter', 'apparie', 'majoritairement', 'citationnell', 'signebut', 'concernent', 'simultaneite', 'eventuelle', 'imagearticle', 'tresor', 'combinaisondecrire', 'transcrite', 'automatiquemertranscription', 'imparfait', 'parmis', 'consistante', 'convention', 'ester', 'adjoining', 'duchier', 'deboggage', 'elao', 'automatiserpapier', 'cartesien', 'finiarticle', 'rationnel', 'informationcommunaute', 'genia', 'monodimensionnel', 'deplacementsemantique', 'doubler', 'distancer', 'devant', 'derriere', 'purement', 'pyreneen', 'temporelarticle', 'ititpy', 'flexibilite', 'bloquer', 'glissement', 'provocer', 'binary', 'verkuyl', 'clause', 'mobiliser', 'friche', 'asr', 'suggestier', 'programacces', 'astreignant', 'project', 'catch', 'choice', 'nwo', 'cler', 'resource', 'archiver', 'peritexte', 'sound', 'penche', 'choral', 'signeuravatar', 'signeur', 'lsf', 'acceptation', 'fi', 'capture', 'consistance', 'boucle', 'maximalarticle', 'contrario', 'condense', 'nem', 'performancer', 'enchainerpresenter', 'sqr', 'enchainer', 'perturber', 'estime', 'occurrencepresenter', 'lalgorithme', 'selectionne', 'vocable', 'repartis', 'commenter', 'sappuie', 'syntsem', 'match', 'foot', 'oh', 'football', 'exergue', 'symetriquecadre', 'papillon', 'interlingue', 'integrite', 'holonymie', 'recolter', 'avertissent', 'lexicographe', 'echeant', 'calendaire', 'division', 'calendrier', 'ec', 'algebre', 'ocriser', 'numeriser', 'cascader', 'etroit', 'mhv', 'ocrisation', 'form', 'rhesesegmentation', 'rhese', 'signifiant', 'dyslexique', 'combien', 'fixes', 'independemment', 'economiser', 'endogenepresenter', 'calculatoir', 'lingues', 'verbepresenter', 'execute', 'ko', 'comprise', 'presentee', 'greyc', 'pair', 'fredist', 'implementon', 'option', 'jeuarticle', 'automatiquementsysteme', 'contenter', 'biographie', 'ironie', 'zombilingo', 'manger', 'nommeesdetection', 'aleda', 'lian', 'epithete', 'cerner', 'republicain', 'multitag', 'rappelon', 'darpa', 'recognizer', 'output', 'voting', 'recognition', 'spi', 'sh', 'grac', 'eagle', 'multext', 'morho', 'semantiqu', 'discoursinscrire', 'oper', 'geosem', 'talpresenter', 'bayesienoppose', 'senscertain', 'interesson', 'compter', 'themearticle', 'remetttre', 'comportaient', 'vraisemblablement', 'prudemment', 'thematiquebaser', 'bonami', 'boye', '6440', 'bdle', 'calme', 'perennou', 'distillation', 'contrebalancer', 'ultra', 'relationarticle', 'particuleproposer', 'particule', 'accepte', 'txt', 'transliteration', 'arabizi', 'algerien', 'preliminairearticle', 'transcheck', 'verificateur', 'traductionoffrir', 'rali', 'region', 'obligatoire', 'ex', 'interdiction', 'fardeau', 'educatif', 'coco', 'ambition', 'valoriser', 'introduir', 'stylistiquecontribution', 'computationnelle', 'semantiqueexploitation', 'informaticien', 'imperativement', 'interrogeable', 'preetablie', 'spontanercadre', 'liberte', 'millilitre', 'proforme', 'enchasserpresenter', 'prolog', 'particulierer', 'crfinteresser', 'mopho', '45', 'agentif', 'distributionneletude', 'utilison', 'eur', 'prototypiqu', 'weak', 'problems', 'case', 'study', 'scriptural', 'translationgeneraliste', 'indo', 'pak', 'messageplupart', 'entete', 'polluer', 'email', 'indesirable', 'spam', 'sources', 'radiophoniquepresenter', 'them', 'node', 'ofword', 'order', 'german', 'koreangrammaire', 'brouillage', 'satisfaisante', 'coreen', 'extraposition', 'topicalisation', 'signationlangue', 'emplacement', 'signation', 'referencemer', 'materialiser', 'directionnell', 'referencement', 'proprietearticle', 'obtenu', 'conventionnels', 'parallelement', 'lucene', 'cosine', 'compacite', 'densidee', 'oraldensite', 'cpidr', 'entretien', 'densider', 'com', 'francaisalignement', 'traductier', 'contrainteprogres', 'igor', 'formee', 'celles', 'renverser', 'preedition', 'accept', 'content', 'editing', 'portal', 'experienceobjectif', 'iliad', 'fonds', 'docu', 'mentaire', 'gi', 'cognition', 'infor', 'mation', 'mb', 'do', 'maine', 'languealors', 'authentique', 'concordanciers', 'inadequation', 'automatiquegeneration', 'prefixer', 'extensif', 'volat', 'ilite', 'decompte', 'aliment', 'domaineinteraction', 'fdi', 'provoquent', 'ddi', 'tilt', 'qualitatifpresenter', 'delic', 'jaccard', 'necessary', 'lexiconnone', 'how', 'remarquables', 'sentimenttravail', 'positive', 'vector', 'regularisation', 'elastic', 'upery', 'corpuspresenter', 'specialises', 'roman', 'proustien', 'swann', 'analogical', 'nlpintelligence', 'dissemblance', 'approchee', 'joueranalyse', 'trompette', 'pratiquer', 'amuser', 'fuchs', 'porteuser', 'goldberg', 'textedomaine', 'evoqu', 'sismique', 'pertinentorienter', 'av', 'structurerpresenter', 'morceau', 'minimum', 'moz', 'structured', 'terminology', 'rich', 'textdescription', '140', 'supervisedomaine', 'latine', 'kanjis', 'kanji', 'morphe', 'tructuration', 'doctorat', 'labelgram', 'precisant', 'tournure', 'framenetapres', 'fillmore', 'compositionnalitepartir', 'probabilistearticle', 'discc', 'verbecommunication', 'gac', 'lalic', 'combinateur', 'lrsc', 'relateur', 'primitive', 'semanticien', 'veilledemonstration', 'mediatique', 'emm', 'monitor', 'retrievalnone', 'pronomtravail', 'pronoms', 'microblogscadre', 'recurrer', 'mechanisme', 'portes', 'hashtag', 'user', 'arabegrammair', 'interfacer', 'interfacage', 'arabicverbnet', 'diabetique', 'comptes', 'iii', 'temporellement', '514', '8451', 'mutualisation', 'linguistiquecreer', 'perennite', 'institutionnel', 'adossement', 'nancy', 'atilf', 'clarin', 'technology', 'infrastructure', 'european', 'linguistiquebut', 'range', 'ptime', 'discourspapier', 'dst', 'unificationarticle', 'similairement', 'impersonnel', 'tough', 'movement', 'resp', 'gravier', 'switchboard', 'meteer', 'abeiller', 'petrov', 'tchat', 'contact', 'interactionnel', 'etalement', 'decalage', 'rational', 'interactionnone', 'v3', 'flexionnelpresenter', 'cartographiquelieu', 'randonnee', 'gazetier', 'linguistiques', 'terminographiquearticle', 'lignepresenter', 'cercle', 'vertueux', 'arabecomment', 'estcommunemer', 'rendement', 'clic', 'souris', 'paradoxalement', 'correler', 'autrement', 'paralleletravail', 'typo', 'dispositionel', 'suppleer', 'propicer', 'dispositionnel', 'lingueevaluer', 'considerant', 'critical', 'survey', 'measuring', 'rank', 'assignmer', 'documentnone', 'controlerarticle', 'fipscolor', 'couleur', 'francaisanalyseur', 'unige', 'ch', 'syntactico', 'laboratoir', 'revue', 'systematiquerevue', 'bibliographique', 'auc', '769', 'contruit', '835', 'artificielarticle', 'maternel', 'luc', 'steel', 'reagir', 'childe', 'blogosphereblog', 'uima', 'senscadre', 'finalisesarticle', 'grounding', 'clark', 'schaefer', 'derouler', 'lol', 'linguistiquenone', 'lexicometrique', 'thesaulangue', 'ouvrage', 'brunet', 'lexicometrie', 'echantillonage', 'neuronalestimation', 'mle', 'softma', 'entraine', 'dialoguedialogue', 'allen', 'schlangen', 'skantze', 'fondamentalement', 'demarque', 'principer', 'intercaler', 'scheduler', 'asynchrone', 'explicadi', 'causalbut', 'causalite', 'argumentation', 'diversifier', 'lexicoscope', 'syntaxiquecadre', 'franco', 'emolex', 'profls', 'efectuer', 'ligne1', 'pivots', 'afn', 'rafner', 'enfn', 'attentionarticle', 'vaster', 'utilisateurs']\n"
          ],
          "name": "stdout"
        }
      ]
    },
    {
      "cell_type": "code",
      "metadata": {
        "id": "S4NLo5dRJPPy"
      },
      "source": [
        "#Nous ne poursuivons pas le word2Vec pour le moment, nous avons de meilleurs pistes sur le tfd-idf"
      ],
      "execution_count": null,
      "outputs": []
    },
    {
      "cell_type": "markdown",
      "metadata": {
        "id": "6dTtTYzl84F-"
      },
      "source": [
        "Approche \"numérique\", ce problème est complexe pour le data scientist car il lui rappelle des problèmes qui ne sont pas du nlp (prediction de int), mais il s'agit bel et bien d'un problème de reconnaisance de language. Une solution moins tourné vers l'études des textes auaraient été de chercher des elements temporels dans les textes et avec les temps de conjuguaison essayer de se situer dans le temps (dichotomie), mais il faudrait enormement d'element temporel et ce n'est pas le but ici."
      ]
    },
    {
      "cell_type": "code",
      "metadata": {
        "id": "9s-s3mbX2ZCW"
      },
      "source": [
        "#Approche \"numérique\", ce problème est complexe pour le data scientist car il lui rappelle des problèmes qui ne sont pas du nlp (prediction de int), mais il s'agit bel\r\n",
        "#et bien d'un problème de reconnaisance de language. Une solution moins tourné vers l'études des textes auaraient été de chercher des elements temporels et avec les temps de conjuguaison essayer de se situer dans le temps (dichotomie), \r\n",
        "#mais il faudrait enormement d'element temporel et ce n'est pas le but ici"
      ],
      "execution_count": null,
      "outputs": []
    },
    {
      "cell_type": "markdown",
      "metadata": {
        "id": "WLe6Am_pdLbS"
      },
      "source": [
        "## 3) TF-IDF + Random_Forest_Classifier"
      ]
    },
    {
      "cell_type": "code",
      "metadata": {
        "colab": {
          "base_uri": "https://localhost:8080/"
        },
        "id": "3huk6xSuJAKT",
        "outputId": "7b009ce7-2788-4eb4-bef2-ef9b14bef448"
      },
      "source": [
        "#Nous utilisons une pipeline, pour créer le tf-idf\r\n",
        "from sklearn.pipeline import make_pipeline\r\n",
        "\r\n",
        "pipe = make_pipeline(CountVectorizer(), TfidfTransformer())\r\n",
        "pipe.fit(x_train[\"text_title_proc\"])\r\n",
        "feat_train = pipe.transform(x_train[\"text_title_proc\"])\r\n",
        "feat_train.shape"
      ],
      "execution_count": 443,
      "outputs": [
        {
          "output_type": "execute_result",
          "data": {
            "text/plain": [
              "(1280, 8201)"
            ]
          },
          "metadata": {
            "tags": []
          },
          "execution_count": 443
        }
      ]
    },
    {
      "cell_type": "code",
      "metadata": {
        "id": "AR8vSUcSNkhH"
      },
      "source": [
        "#Ce deuxième TF-IDF fournit donc une matrice avec moins de colonnes (qui fait la même chose que la pipeline) est pour si nous voulions faire des test sur abstract ou title séparemment\r\n",
        "\r\n",
        "#TF-IDF sur la colonne crée abstract + title\r\n",
        "#Convert a collection of text documents to a matrix of token counts\r\n",
        "#count_vect_title = CountVectorizer()\r\n",
        "#x_train_counts_title = count_vect_title.fit_transform(x_train.title)\r\n",
        "\r\n",
        "\r\n",
        "#abstract\r\n",
        "#count_vect_abstract = CountVectorizer()\r\n",
        "#x_train_counts_abstract = count_vect_abstract.fit_transform(x_train.abstract_fr_proc_8)\r\n",
        "#x_train_counts_abstract.shape\r\n",
        "#x_train_counts_title.shape\r\n",
        "\r\n",
        "#tfidf_transformer = TfidfTransformer()\r\n",
        "#x_train_tfidf_title = tfidf_transformer.fit_transform(x_train_counts_title)\r\n",
        "#x_train_tfidf_title.shape\r\n",
        "#Document-Term matrix \r\n",
        "\r\n",
        "#abstract\r\n",
        "#tfidf_transformer_abstract = TfidfTransformer()\r\n",
        "#x_train_tfidf_abstract = tfidf_transformer_abstract.fit_transform(x_train_counts_abstract)\r\n",
        "#x_train_tfidf_abstract.shape"
      ],
      "execution_count": null,
      "outputs": []
    },
    {
      "cell_type": "code",
      "metadata": {
        "colab": {
          "base_uri": "https://localhost:8080/"
        },
        "id": "BiKFYr4nKZjm",
        "outputId": "5b6e6a71-3783-4f9e-b8fa-7025fdbae735"
      },
      "source": [
        "feat_train.min(), feat_train.max()"
      ],
      "execution_count": 444,
      "outputs": [
        {
          "output_type": "execute_result",
          "data": {
            "text/plain": [
              "(0.0, 0.8663567094105553)"
            ]
          },
          "metadata": {
            "tags": []
          },
          "execution_count": 444
        }
      ]
    },
    {
      "cell_type": "code",
      "metadata": {
        "colab": {
          "base_uri": "https://localhost:8080/"
        },
        "id": "_lTl1JK2KlQY",
        "outputId": "0fe57bcf-5555-4b38-8800-71b095ae2aac"
      },
      "source": [
        "feat_test = pipe.transform(x_test[\"text_title_proc\"])\r\n",
        "feat_test.shape"
      ],
      "execution_count": 445,
      "outputs": [
        {
          "output_type": "execute_result",
          "data": {
            "text/plain": [
              "(160, 8201)"
            ]
          },
          "metadata": {
            "tags": []
          },
          "execution_count": 445
        }
      ]
    },
    {
      "cell_type": "code",
      "metadata": {
        "colab": {
          "base_uri": "https://localhost:8080/"
        },
        "id": "D6vqE7iBThG2",
        "outputId": "6489eafc-f2fc-457a-d5b3-156509b6a7e1"
      },
      "source": [
        "from sklearn.ensemble import RandomForestClassifier\r\n",
        "clf = RandomForestClassifier(n_estimators=50)\r\n",
        "clf.fit(feat_train, y_train)"
      ],
      "execution_count": 446,
      "outputs": [
        {
          "output_type": "execute_result",
          "data": {
            "text/plain": [
              "RandomForestClassifier(bootstrap=True, ccp_alpha=0.0, class_weight=None,\n",
              "                       criterion='gini', max_depth=None, max_features='auto',\n",
              "                       max_leaf_nodes=None, max_samples=None,\n",
              "                       min_impurity_decrease=0.0, min_impurity_split=None,\n",
              "                       min_samples_leaf=1, min_samples_split=2,\n",
              "                       min_weight_fraction_leaf=0.0, n_estimators=50,\n",
              "                       n_jobs=None, oob_score=False, random_state=None,\n",
              "                       verbose=0, warm_start=False)"
            ]
          },
          "metadata": {
            "tags": []
          },
          "execution_count": 446
        }
      ]
    },
    {
      "cell_type": "code",
      "metadata": {
        "colab": {
          "base_uri": "https://localhost:8080/"
        },
        "id": "IM0rKhXnKcyG",
        "outputId": "5de72e1a-30f1-411a-97ef-2e6bb5bdf97b"
      },
      "source": [
        "clf.score(feat_test, y_test)"
      ],
      "execution_count": 447,
      "outputs": [
        {
          "output_type": "execute_result",
          "data": {
            "text/plain": [
              "0.1125"
            ]
          },
          "metadata": {
            "tags": []
          },
          "execution_count": 447
        }
      ]
    },
    {
      "cell_type": "code",
      "metadata": {
        "colab": {
          "base_uri": "https://localhost:8080/"
        },
        "id": "c7xKm7GWLGTX",
        "outputId": "fb17d338-f5e3-49b3-bd73-d47e9a316166"
      },
      "source": [
        "prediction = clf.predict(feat_test)\r\n",
        "prediction"
      ],
      "execution_count": 448,
      "outputs": [
        {
          "output_type": "execute_result",
          "data": {
            "text/plain": [
              "array([2000, 2004, 2011, 2011, 1999, 2010, 2001, 2005, 2007, 2008, 2009,\n",
              "       2003, 2005, 2010, 2004, 2004, 2018, 2015, 2009, 2014, 2006, 2018,\n",
              "       2011, 2006, 2010, 2011, 2007, 2013, 2005, 2011, 2011, 2010, 2008,\n",
              "       2010, 1999, 2010, 2006, 2009, 2010, 1999, 2004, 2009, 2006, 2013,\n",
              "       2009, 2015, 1999, 2015, 2011, 2009, 2003, 2010, 1999, 2015, 2007,\n",
              "       2014, 2004, 2010, 2014, 2011, 2013, 2013, 2009, 2014, 2013, 2013,\n",
              "       2012, 2011, 2011, 2006, 2010, 2006, 2015, 2006, 2002, 2009, 2009,\n",
              "       2004, 2011, 2009, 2014, 2011, 2007, 2011, 2016, 2011, 2004, 2013,\n",
              "       2011, 2013, 2009, 2005, 2011, 2009, 2009, 2011, 2012, 2012, 2015,\n",
              "       2004, 2004, 2010, 2005, 2011, 2009, 2010, 2010, 2010, 2013, 2013,\n",
              "       2004, 2005, 2010, 2009, 2009, 2003, 2011, 2004, 2008, 2013, 2013,\n",
              "       2011, 2013, 2007, 2011, 2012, 2018, 2005, 2009, 2014, 2002, 2018,\n",
              "       2005, 2010, 2013, 2011, 2007, 2004, 2011, 2012, 1999, 2007, 2006,\n",
              "       2009, 2012, 1999, 2005, 2012, 2011, 2018, 2010, 2009, 2013, 2010,\n",
              "       2004, 2011, 2009, 2003, 2008, 2009])"
            ]
          },
          "metadata": {
            "tags": []
          },
          "execution_count": 448
        }
      ]
    },
    {
      "cell_type": "code",
      "metadata": {
        "id": "XhMbGxB0Kw4n"
      },
      "source": [
        "from sklearn.metrics import confusion_matrix\r\n",
        "cm = confusion_matrix(y_test, prediction)"
      ],
      "execution_count": 449,
      "outputs": []
    },
    {
      "cell_type": "code",
      "metadata": {
        "id": "NgqbdJH1Lh0t"
      },
      "source": [
        "def get_cm(model, y_test, y_pred):\r\n",
        "    \r\n",
        "    cm = confusion_matrix(y_test, y_pred)\r\n",
        "    sns.heatmap(cm, annot=True)\r\n",
        "    plt.xlabel(\"Prédictions\")\r\n",
        "    plt.ylabel(\"Originals\")\r\n",
        "    plt.title(f\"Modèle {model}\\nAccuracy:{accuracy_score(y_test, y_pred):.3f}\")\r\n",
        "    plt.show()\r\n"
      ],
      "execution_count": 450,
      "outputs": []
    },
    {
      "cell_type": "code",
      "metadata": {
        "colab": {
          "base_uri": "https://localhost:8080/",
          "height": 313
        },
        "id": "2TgzfPS0L4HN",
        "outputId": "4847efe4-4d0f-4fbf-e5c5-4f0d4b1449dc"
      },
      "source": [
        "get_cm(\"RandomForestClassifier\",y_test,prediction)"
      ],
      "execution_count": 451,
      "outputs": [
        {
          "output_type": "display_data",
          "data": {
            "image/png": "[encoded data removed]",
            "text/plain": [
              "<Figure size 432x288 with 2 Axes>"
            ]
          },
          "metadata": {
            "tags": [],
            "needs_background": "light"
          }
        }
      ]
    },
    {
      "cell_type": "markdown",
      "metadata": {
        "id": "LPWt_92gZmOw"
      },
      "source": [
        "## 4) Optimisation des features"
      ]
    },
    {
      "cell_type": "code",
      "metadata": {
        "colab": {
          "base_uri": "https://localhost:8080/"
        },
        "id": "Z5XlGeDSO0td",
        "outputId": "954c9007-7a28-4bb2-ad39-fac8c23bc480"
      },
      "source": [
        "#Pour enqueter sur la pertinence regardons par exemple si nous prenions l'endroit de publication\r\n",
        "pipe.fit(x_train[\"publication_place\"])\r\n",
        "feat_train2 = pipe.transform(x_train[\"publication_place\"])\r\n",
        "feat_train2.shape"
      ],
      "execution_count": 470,
      "outputs": [
        {
          "output_type": "execute_result",
          "data": {
            "text/plain": [
              "(1280, 28)"
            ]
          },
          "metadata": {
            "tags": []
          },
          "execution_count": 470
        }
      ]
    },
    {
      "cell_type": "code",
      "metadata": {
        "colab": {
          "base_uri": "https://localhost:8080/"
        },
        "id": "BrOfFVAJS0fH",
        "outputId": "6bcda71e-a34d-45a8-f72b-6b609e086fcf"
      },
      "source": [
        "feat_test2 = pipe.transform(x_test[\"publication_place\"])\r\n",
        "feat_test2.shape"
      ],
      "execution_count": 471,
      "outputs": [
        {
          "output_type": "execute_result",
          "data": {
            "text/plain": [
              "(160, 28)"
            ]
          },
          "metadata": {
            "tags": []
          },
          "execution_count": 471
        }
      ]
    },
    {
      "cell_type": "code",
      "metadata": {
        "colab": {
          "base_uri": "https://localhost:8080/"
        },
        "id": "f8-mDAWDRqmB",
        "outputId": "79f87e09-7ac0-42e0-e0e1-dec016b16dbf"
      },
      "source": [
        "from sklearn.ensemble import RandomForestClassifier\r\n",
        "clf2 = RandomForestClassifier(n_estimators=50)\r\n",
        "clf2.fit(feat_train2, y_train)\r\n"
      ],
      "execution_count": 472,
      "outputs": [
        {
          "output_type": "execute_result",
          "data": {
            "text/plain": [
              "RandomForestClassifier(bootstrap=True, ccp_alpha=0.0, class_weight=None,\n",
              "                       criterion='gini', max_depth=None, max_features='auto',\n",
              "                       max_leaf_nodes=None, max_samples=None,\n",
              "                       min_impurity_decrease=0.0, min_impurity_split=None,\n",
              "                       min_samples_leaf=1, min_samples_split=2,\n",
              "                       min_weight_fraction_leaf=0.0, n_estimators=50,\n",
              "                       n_jobs=None, oob_score=False, random_state=None,\n",
              "                       verbose=0, warm_start=False)"
            ]
          },
          "metadata": {
            "tags": []
          },
          "execution_count": 472
        }
      ]
    },
    {
      "cell_type": "code",
      "metadata": {
        "colab": {
          "base_uri": "https://localhost:8080/"
        },
        "id": "x5ZnJRM9T_Lc",
        "outputId": "f908e85f-b5f9-4509-8086-96c860e81510"
      },
      "source": [
        "clf2.score(feat_test2, y_test)\r\n",
        "#Cela ne change pas grand chose et au vu du peu d'information présente dans la colonnes publication_place ont sait de base que cette précision et fortement biasé"
      ],
      "execution_count": 474,
      "outputs": [
        {
          "output_type": "execute_result",
          "data": {
            "text/plain": [
              "0.96875"
            ]
          },
          "metadata": {
            "tags": []
          },
          "execution_count": 474
        }
      ]
    },
    {
      "cell_type": "markdown",
      "metadata": {
        "id": "nfdJ-tJyeDz2"
      },
      "source": [
        "Essayons sur titre et abstract separement "
      ]
    },
    {
      "cell_type": "code",
      "metadata": {
        "id": "MEGi-WhYU685"
      },
      "source": [
        "#Nous utilisons une pipeline, pour créer le tf-idf de title\r\n",
        "\r\n",
        "pipe.fit(x_train[\"title\"])\r\n",
        "feat_train_title = pipe.transform(x_train[\"title\"])\r\n",
        "feat_train_title.shape"
      ],
      "execution_count": null,
      "outputs": []
    },
    {
      "cell_type": "code",
      "metadata": {
        "colab": {
          "base_uri": "https://localhost:8080/"
        },
        "id": "sI3EqNtFV2QL",
        "outputId": "a50f02c0-8bf6-4a60-f24a-61f38e9d1aa6"
      },
      "source": [
        "feat_test_title = pipe.transform(x_test[\"title\"])\r\n",
        "feat_test_title.shape"
      ],
      "execution_count": 487,
      "outputs": [
        {
          "output_type": "execute_result",
          "data": {
            "text/plain": [
              "(160, 2314)"
            ]
          },
          "metadata": {
            "tags": []
          },
          "execution_count": 487
        }
      ]
    },
    {
      "cell_type": "code",
      "metadata": {
        "colab": {
          "base_uri": "https://localhost:8080/"
        },
        "id": "xycUukLQWAnB",
        "outputId": "bd4f30db-f25f-4c76-f159-4edaa87aa149"
      },
      "source": [
        "clf2_title = RandomForestClassifier(n_estimators=50)\r\n",
        "clf2_title.fit(feat_train_title, y_train)"
      ],
      "execution_count": 488,
      "outputs": [
        {
          "output_type": "execute_result",
          "data": {
            "text/plain": [
              "RandomForestClassifier(bootstrap=True, ccp_alpha=0.0, class_weight=None,\n",
              "                       criterion='gini', max_depth=None, max_features='auto',\n",
              "                       max_leaf_nodes=None, max_samples=None,\n",
              "                       min_impurity_decrease=0.0, min_impurity_split=None,\n",
              "                       min_samples_leaf=1, min_samples_split=2,\n",
              "                       min_weight_fraction_leaf=0.0, n_estimators=50,\n",
              "                       n_jobs=None, oob_score=False, random_state=None,\n",
              "                       verbose=0, warm_start=False)"
            ]
          },
          "metadata": {
            "tags": []
          },
          "execution_count": 488
        }
      ]
    },
    {
      "cell_type": "code",
      "metadata": {
        "colab": {
          "base_uri": "https://localhost:8080/"
        },
        "id": "OnX23DSIWYWY",
        "outputId": "cf42aa7a-a20b-4129-8bce-9658ba1c5412"
      },
      "source": [
        "clf2_title.score(feat_test_title, y_test)\r\n",
        "#Très mauvais resultats"
      ],
      "execution_count": 489,
      "outputs": [
        {
          "output_type": "execute_result",
          "data": {
            "text/plain": [
              "0.03125"
            ]
          },
          "metadata": {
            "tags": []
          },
          "execution_count": 489
        }
      ]
    },
    {
      "cell_type": "code",
      "metadata": {
        "colab": {
          "base_uri": "https://localhost:8080/"
        },
        "id": "_HerIkeFWaTn",
        "outputId": "e51a39b1-c615-45bd-bfba-96eeab8c2dd1"
      },
      "source": [
        "#Nous utilisons la pipeline, pour créer le tf-idf de abstract\r\n",
        "\r\n",
        "pipe.fit(x_train[\"abstract_fr_proc_8\"])\r\n",
        "feat_train_abstract = pipe.transform(x_train[\"abstract_fr_proc_8\"])\r\n",
        "#feat_train_abstract.shape\r\n",
        "\r\n",
        "feat_test_abstract = pipe.transform(x_test[\"abstract_fr_proc_8\"])\r\n",
        "\r\n",
        "clf2_abstract = RandomForestClassifier(n_estimators=50)\r\n",
        "clf2_abstract.fit(feat_train_abstract, y_train)\r\n",
        "\r\n",
        "clf2_abstract.score(feat_test_abstract, y_test)\r\n",
        "\r\n",
        "#le résultat n'est pas très mauvais, légérement moins précis que pour le texte contenant l'abstract et le title"
      ],
      "execution_count": 493,
      "outputs": [
        {
          "output_type": "execute_result",
          "data": {
            "text/plain": [
              "0.1"
            ]
          },
          "metadata": {
            "tags": []
          },
          "execution_count": 493
        }
      ]
    },
    {
      "cell_type": "markdown",
      "metadata": {
        "id": "5j-FK4HO6mHk"
      },
      "source": [
        "Nous choissisons donc de focaliser nos test sur la colonne \"text_title_proc\" la colonne contenant le texte et le titre"
      ]
    },
    {
      "cell_type": "code",
      "metadata": {
        "id": "3_zyTm1sZVGQ"
      },
      "source": [
        "#Effectuons un grid search nur notre meilleur modèle pour optimiser les hyperparamètres"
      ],
      "execution_count": null,
      "outputs": []
    },
    {
      "cell_type": "markdown",
      "metadata": {
        "id": "ZxgzhwkaZuf4"
      },
      "source": [
        "## 5) Optimisation des paramètres"
      ]
    },
    {
      "cell_type": "code",
      "metadata": {
        "colab": {
          "base_uri": "https://localhost:8080/"
        },
        "id": "1yKALzSGXj4C",
        "outputId": "afcab315-8a58-431a-9c35-9d961358aee7"
      },
      "source": [
        "#On effectue donc notre gridsearch sur notre premier modèle: clf\r\n",
        "\r\n",
        "param_grid = { \r\n",
        "    'n_estimators': [50 , 100,  150 , 200],\r\n",
        "    'max_features': ['auto', 'sqrt', 'log2'],\r\n",
        "    'max_depth' : [50,100,150,200\r\n",
        "    ]\r\n",
        "}\r\n",
        "GSC = GridSearchCV(estimator=clf, param_grid=param_grid, cv= 5)\r\n",
        "GSC.fit(feat_train, y_train)\r\n",
        "print(GSC.best_params_)"
      ],
      "execution_count": 387,
      "outputs": [
        {
          "output_type": "stream",
          "text": [
            "{'max_depth': 100, 'max_features': 'sqrt', 'n_estimators': 200}\n"
          ],
          "name": "stdout"
        }
      ]
    },
    {
      "cell_type": "code",
      "metadata": {
        "colab": {
          "base_uri": "https://localhost:8080/"
        },
        "id": "GrQF7Jkpe534",
        "outputId": "a0760b77-81e3-4cd1-83db-11046bcd56ae"
      },
      "source": [
        "clf_final = RandomForestClassifier(max_depth=100 , max_features =  'sqrt', n_estimators = 200)\r\n",
        "clf_final.fit(feat_train, y_train)"
      ],
      "execution_count": 390,
      "outputs": [
        {
          "output_type": "execute_result",
          "data": {
            "text/plain": [
              "RandomForestClassifier(bootstrap=True, ccp_alpha=0.0, class_weight=None,\n",
              "                       criterion='gini', max_depth=100, max_features='sqrt',\n",
              "                       max_leaf_nodes=None, max_samples=None,\n",
              "                       min_impurity_decrease=0.0, min_impurity_split=None,\n",
              "                       min_samples_leaf=1, min_samples_split=2,\n",
              "                       min_weight_fraction_leaf=0.0, n_estimators=200,\n",
              "                       n_jobs=None, oob_score=False, random_state=None,\n",
              "                       verbose=0, warm_start=False)"
            ]
          },
          "metadata": {
            "tags": []
          },
          "execution_count": 390
        }
      ]
    },
    {
      "cell_type": "code",
      "metadata": {
        "colab": {
          "base_uri": "https://localhost:8080/"
        },
        "id": "ayV5KuR1fcsY",
        "outputId": "dc057f1f-a254-44d2-c4e2-ad9949a28575"
      },
      "source": [
        "clf_final.score(feat_test, y_test)\r\n",
        "#On a essayé plusieurs paramètres dans le gridsearch ça n'a jamais dépassé 0.1125 ce qui est notre meilleur score"
      ],
      "execution_count": 391,
      "outputs": [
        {
          "output_type": "execute_result",
          "data": {
            "text/plain": [
              "0.1125"
            ]
          },
          "metadata": {
            "tags": []
          },
          "execution_count": 391
        }
      ]
    },
    {
      "cell_type": "markdown",
      "metadata": {
        "id": "h25FHQY8zsWn"
      },
      "source": [
        "## 6) SVM"
      ]
    },
    {
      "cell_type": "code",
      "metadata": {
        "id": "39EM92z63oFA"
      },
      "source": [
        "pd.set_option('display.max_rows', 1500)"
      ],
      "execution_count": 429,
      "outputs": []
    },
    {
      "cell_type": "code",
      "metadata": {
        "id": "6v77Jrm6aYHa"
      },
      "source": [
        "seed = 1\r\n",
        "\r\n",
        "model = SVC(random_state=seed)\r\n",
        "results = []\r\n",
        "for i in range(1, 500):\r\n",
        "  vect = CountVectorizer(max_features=i, max_df=0.15)\r\n",
        "  X_train_CV = vect.fit_transform(x_train[\"text_title_proc\"])\r\n",
        "  X_test_CV = vect.transform(x_test[\"text_title_proc\"])\r\n",
        "  X_val_CV = vect.transform(x_val[\"text_title_proc\"])\r\n",
        "  model.fit(X_train_CV, y_train)  \r\n",
        "  y_pred = model.predict(X_test_CV)\r\n",
        "  acc = accuracy_score(y_test, y_pred)\r\n",
        "  results.append([i, acc])\r\n",
        "results = pd.DataFrame(results, columns=[\"i\", \"acc\"])"
      ],
      "execution_count": null,
      "outputs": []
    },
    {
      "cell_type": "code",
      "metadata": {
        "colab": {
          "base_uri": "https://localhost:8080/",
          "height": 295
        },
        "id": "HMCTZEDF2b1h",
        "outputId": "ce083f13-06b8-4c6d-c929-a1ef86f9010e"
      },
      "source": [
        "results.plot(x = \"i\", y=\"acc\", grid=True)\r\n",
        "plt.title(\"Max_features de CountVectorizer en fonction de l'accuracy\")\r\n",
        "plt.xlabel(\"max_features\")\r\n",
        "plt.ylabel(\"accuracy\")\r\n",
        "plt.show()"
      ],
      "execution_count": 430,
      "outputs": [
        {
          "output_type": "display_data",
          "data": {
            "image/png": "[encoded data removed]",
            "text/plain": [
              "<Figure size 432x288 with 1 Axes>"
            ]
          },
          "metadata": {
            "tags": [],
            "needs_background": "light"
          }
        }
      ]
    },
    {
      "cell_type": "code",
      "metadata": {
        "colab": {
          "base_uri": "https://localhost:8080/",
          "height": 107
        },
        "id": "nW8TX4Dg4Vz7",
        "outputId": "91d86105-9b9f-40e9-cdcb-3e8321ad1b9c"
      },
      "source": [
        "results.loc[results['acc'] == results['acc'].max()]"
      ],
      "execution_count": 442,
      "outputs": [
        {
          "output_type": "execute_result",
          "data": {
            "text/html": [
              "<div>\n",
              "<style scoped>\n",
              "    .dataframe tbody tr th:only-of-type {\n",
              "        vertical-align: middle;\n",
              "    }\n",
              "\n",
              "    .dataframe tbody tr th {\n",
              "        vertical-align: top;\n",
              "    }\n",
              "\n",
              "    .dataframe thead th {\n",
              "        text-align: right;\n",
              "    }\n",
              "</style>\n",
              "<table border=\"1\" class=\"dataframe\">\n",
              "  <thead>\n",
              "    <tr style=\"text-align: right;\">\n",
              "      <th></th>\n",
              "      <th>i</th>\n",
              "      <th>acc</th>\n",
              "    </tr>\n",
              "  </thead>\n",
              "  <tbody>\n",
              "    <tr>\n",
              "      <th>44</th>\n",
              "      <td>45</td>\n",
              "      <td>0.125</td>\n",
              "    </tr>\n",
              "    <tr>\n",
              "      <th>157</th>\n",
              "      <td>158</td>\n",
              "      <td>0.125</td>\n",
              "    </tr>\n",
              "  </tbody>\n",
              "</table>\n",
              "</div>"
            ],
            "text/plain": [
              "       i    acc\n",
              "44    45  0.125\n",
              "157  158  0.125"
            ]
          },
          "metadata": {
            "tags": []
          },
          "execution_count": 442
        }
      ]
    },
    {
      "cell_type": "code",
      "metadata": {
        "id": "H8r9a8493Ns3"
      },
      "source": [
        "#On trouve une accuracy de 0.125 quand l'hyper-paramètres max_features est égale à 45 ou 158\r\n"
      ],
      "execution_count": null,
      "outputs": []
    }
  ]
}